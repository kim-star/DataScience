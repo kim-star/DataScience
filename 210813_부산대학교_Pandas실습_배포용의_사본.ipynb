{
  "nbformat": 4,
  "nbformat_minor": 0,
  "metadata": {
    "colab": {
      "name": "210813_부산대학교_Pandas실습_배포용의 사본",
      "provenance": [],
      "collapsed_sections": [
        "w3Ip6LuHJJ_H"
      ],
      "include_colab_link": true
    },
    "kernelspec": {
      "name": "python3",
      "display_name": "Python 3"
    },
    "language_info": {
      "name": "python"
    }
  },
  "cells": [
    {
      "cell_type": "markdown",
      "metadata": {
        "id": "view-in-github",
        "colab_type": "text"
      },
      "source": [
        "<a href=\"https://colab.research.google.com/github/kim-star/DataScience/blob/master/210813_%EB%B6%80%EC%82%B0%EB%8C%80%ED%95%99%EA%B5%90_Pandas%EC%8B%A4%EC%8A%B5_%EB%B0%B0%ED%8F%AC%EC%9A%A9%EC%9D%98_%EC%82%AC%EB%B3%B8.ipynb\" target=\"_parent\"><img src=\"https://colab.research.google.com/assets/colab-badge.svg\" alt=\"Open In Colab\"/></a>"
      ]
    },
    {
      "cell_type": "markdown",
      "metadata": {
        "id": "2i0l9eY6EPIg"
      },
      "source": [
        "## Pandas 시작하기"
      ]
    },
    {
      "cell_type": "code",
      "metadata": {
        "id": "KQPSiy9IERPO"
      },
      "source": [
        "import pandas as pd"
      ],
      "execution_count": null,
      "outputs": []
    },
    {
      "cell_type": "code",
      "metadata": {
        "id": "vwZBqkLlcuWi",
        "colab": {
          "base_uri": "https://localhost:8080/",
          "height": 34
        },
        "outputId": "efd672e7-8ded-48e6-ff67-27c9eb68242b"
      },
      "source": [
        "pd.__version__"
      ],
      "execution_count": null,
      "outputs": [
        {
          "output_type": "execute_result",
          "data": {
            "application/vnd.google.colaboratory.intrinsic+json": {
              "type": "string"
            },
            "text/plain": [
              "'1.1.5'"
            ]
          },
          "metadata": {
            "tags": []
          },
          "execution_count": 2
        }
      ]
    },
    {
      "cell_type": "markdown",
      "metadata": {
        "id": "irfUTn66ESI4"
      },
      "source": [
        "## 자료구조 Series"
      ]
    },
    {
      "cell_type": "markdown",
      "metadata": {
        "id": "148kmTzwEZ2I"
      },
      "source": [
        "### Series 의 생성(1)"
      ]
    },
    {
      "cell_type": "code",
      "metadata": {
        "id": "ojGe_q-pEYek",
        "colab": {
          "base_uri": "https://localhost:8080/"
        },
        "outputId": "dcc64136-e7c5-40f6-a1c5-1e8471ad852b"
      },
      "source": [
        "# 리스트 데이터로 Series 객체 생성하기\n",
        "#  _____ 란에 실습을 시작하세요.\n",
        "\n",
        "year = ['2019', '2020', '2021', '2022']\n",
        "result = pd.Series(data=year)\n",
        "\n",
        "print('Type:', type(result))\n",
        "print(result)"
      ],
      "execution_count": null,
      "outputs": [
        {
          "output_type": "stream",
          "text": [
            "Type: <class 'pandas.core.series.Series'>\n",
            "0    2019\n",
            "1    2020\n",
            "2    2021\n",
            "3    2022\n",
            "dtype: object\n"
          ],
          "name": "stdout"
        }
      ]
    },
    {
      "cell_type": "code",
      "metadata": {
        "id": "VS4ryu7NEX52",
        "colab": {
          "base_uri": "https://localhost:8080/"
        },
        "outputId": "340548fc-3ad7-486f-ffde-a683a7f5b3b4"
      },
      "source": [
        "# Series 객체의 주요 속성\n",
        "print('Index: ', result.index)\n",
        "print('Data: ', result.values)\n",
        "print('DType: ', result.dtype)\n",
        "print('Shape: ', result.shape)"
      ],
      "execution_count": null,
      "outputs": [
        {
          "output_type": "stream",
          "text": [
            "Index:  RangeIndex(start=0, stop=4, step=1)\n",
            "Data:  ['2019' '2020' '2021' '2022']\n",
            "DType:  object\n",
            "Shape:  (4,)\n"
          ],
          "name": "stdout"
        }
      ]
    },
    {
      "cell_type": "code",
      "metadata": {
        "id": "9NJwyc9uE2HE",
        "colab": {
          "base_uri": "https://localhost:8080/"
        },
        "outputId": "a5af14b0-abe1-4997-bc29-cde9c262fafb"
      },
      "source": [
        "# Series 객체의 이름 지정\n",
        "result.name = 'Year'\n",
        "result.index.name = 'No.'\n",
        "print(result)"
      ],
      "execution_count": null,
      "outputs": [
        {
          "output_type": "stream",
          "text": [
            "No.\n",
            "0    2019\n",
            "1    2020\n",
            "2    2021\n",
            "3    2022\n",
            "Name: Year, dtype: object\n"
          ],
          "name": "stdout"
        }
      ]
    },
    {
      "cell_type": "markdown",
      "metadata": {
        "id": "4NvITPjnFCEf"
      },
      "source": [
        "### Series 의 생성(2)"
      ]
    },
    {
      "cell_type": "code",
      "metadata": {
        "id": "HoW74USJFB92",
        "colab": {
          "base_uri": "https://localhost:8080/"
        },
        "outputId": "1d50f737-3f84-447d-bb45-644f6ef5a891"
      },
      "source": [
        "# 인덱스 추가하여 Series 객체 생성하기\n",
        "year = ['2019', '2020', '2021', '2022']\n",
        "idx = ['a', 'b', 'c', 'd']\n",
        "result = pd.Series(data=year, index=idx, name='Year')\n",
        "print(result)"
      ],
      "execution_count": null,
      "outputs": [
        {
          "output_type": "stream",
          "text": [
            "a    2019\n",
            "b    2020\n",
            "c    2021\n",
            "d    2022\n",
            "Name: Year, dtype: object\n"
          ],
          "name": "stdout"
        }
      ]
    },
    {
      "cell_type": "markdown",
      "metadata": {
        "id": "RqHXmqPxFLK2"
      },
      "source": [
        "### Series 의 생성(3)"
      ]
    },
    {
      "cell_type": "code",
      "metadata": {
        "id": "zMjM3vBVE9LN",
        "colab": {
          "base_uri": "https://localhost:8080/"
        },
        "outputId": "9a8a86bb-0d97-4d9b-ddd0-5bebf8ddcee0"
      },
      "source": [
        "# 딕셔너리 데이터로 Series 객체 생성하기\n",
        "score = {'Kim':85, 'Han':89, 'Lee':99, 'Choi':70}\n",
        "\n",
        "result = pd.Series(data=score, name='Score')\n",
        "print(result)"
      ],
      "execution_count": null,
      "outputs": [
        {
          "output_type": "stream",
          "text": [
            "Kim     85\n",
            "Han     89\n",
            "Lee     99\n",
            "Choi    70\n",
            "Name: Score, dtype: int64\n"
          ],
          "name": "stdout"
        }
      ]
    },
    {
      "cell_type": "markdown",
      "metadata": {
        "id": "b_UdHQLOFVcn"
      },
      "source": [
        "## 자료구조 DataFrame"
      ]
    },
    {
      "cell_type": "markdown",
      "metadata": {
        "id": "fVbByRhdFXvR"
      },
      "source": [
        "### DataFrame 의 생성(1)"
      ]
    },
    {
      "cell_type": "code",
      "metadata": {
        "id": "ogzlILfZFZdG",
        "colab": {
          "base_uri": "https://localhost:8080/",
          "height": 190
        },
        "outputId": "bd81a4d9-947c-4599-e39c-e4aea87b36f3"
      },
      "source": [
        "# 파이썬 딕셔너리 객체 이용하여 DataFrame 생성하기\n",
        "score = {'name': ['Jessi', 'Emma', 'Alex', 'Tom'],\n",
        "         'score': [100, 95, 80, 85],\n",
        "         'grade': ['A', 'A', 'B', 'B']}\n",
        "        \n",
        "df = pd.DataFrame(data=score)\n",
        "print(type(df))\n",
        "df"
      ],
      "execution_count": null,
      "outputs": [
        {
          "output_type": "stream",
          "text": [
            "<class 'pandas.core.frame.DataFrame'>\n"
          ],
          "name": "stdout"
        },
        {
          "output_type": "execute_result",
          "data": {
            "text/html": [
              "<div>\n",
              "<style scoped>\n",
              "    .dataframe tbody tr th:only-of-type {\n",
              "        vertical-align: middle;\n",
              "    }\n",
              "\n",
              "    .dataframe tbody tr th {\n",
              "        vertical-align: top;\n",
              "    }\n",
              "\n",
              "    .dataframe thead th {\n",
              "        text-align: right;\n",
              "    }\n",
              "</style>\n",
              "<table border=\"1\" class=\"dataframe\">\n",
              "  <thead>\n",
              "    <tr style=\"text-align: right;\">\n",
              "      <th></th>\n",
              "      <th>name</th>\n",
              "      <th>score</th>\n",
              "      <th>grade</th>\n",
              "    </tr>\n",
              "  </thead>\n",
              "  <tbody>\n",
              "    <tr>\n",
              "      <th>0</th>\n",
              "      <td>Jessi</td>\n",
              "      <td>100</td>\n",
              "      <td>A</td>\n",
              "    </tr>\n",
              "    <tr>\n",
              "      <th>1</th>\n",
              "      <td>Emma</td>\n",
              "      <td>95</td>\n",
              "      <td>A</td>\n",
              "    </tr>\n",
              "    <tr>\n",
              "      <th>2</th>\n",
              "      <td>Alex</td>\n",
              "      <td>80</td>\n",
              "      <td>B</td>\n",
              "    </tr>\n",
              "    <tr>\n",
              "      <th>3</th>\n",
              "      <td>Tom</td>\n",
              "      <td>85</td>\n",
              "      <td>B</td>\n",
              "    </tr>\n",
              "  </tbody>\n",
              "</table>\n",
              "</div>"
            ],
            "text/plain": [
              "    name  score grade\n",
              "0  Jessi    100     A\n",
              "1   Emma     95     A\n",
              "2   Alex     80     B\n",
              "3    Tom     85     B"
            ]
          },
          "metadata": {
            "tags": []
          },
          "execution_count": 11
        }
      ]
    },
    {
      "cell_type": "code",
      "metadata": {
        "id": "x7ttqRW8FZ0B",
        "colab": {
          "base_uri": "https://localhost:8080/"
        },
        "outputId": "2c7135e7-cc3b-479d-a8e5-33c8eb3c97a2"
      },
      "source": [
        "# DataFrame 주요 속성 실습-1\n",
        "print('-Index: ', df.index)\n",
        "print('-Columns: ', df.columns)\n",
        "print('-Values:', df.values)"
      ],
      "execution_count": null,
      "outputs": [
        {
          "output_type": "stream",
          "text": [
            "-Index:  RangeIndex(start=0, stop=4, step=1)\n",
            "-Columns:  Index(['name', 'score', 'grade'], dtype='object')\n",
            "-Values: [['Jessi' 100 'A']\n",
            " ['Emma' 95 'A']\n",
            " ['Alex' 80 'B']\n",
            " ['Tom' 85 'B']]\n"
          ],
          "name": "stdout"
        }
      ]
    },
    {
      "cell_type": "code",
      "metadata": {
        "id": "qS63-sxSFZxc",
        "colab": {
          "base_uri": "https://localhost:8080/"
        },
        "outputId": "0dde3729-0dd0-490a-d7e8-b93779973fc9"
      },
      "source": [
        "# DataFrame 주요 속성 실습-2\n",
        "print('-DTypes: ', df.dtypes)\n",
        "print('-Shape: ', df.shape)"
      ],
      "execution_count": null,
      "outputs": [
        {
          "output_type": "stream",
          "text": [
            "-DTypes:  name     object\n",
            "score     int64\n",
            "grade    object\n",
            "dtype: object\n",
            "-Shape:  (4, 3)\n"
          ],
          "name": "stdout"
        }
      ]
    },
    {
      "cell_type": "markdown",
      "metadata": {
        "id": "c5RxldbzGOK8"
      },
      "source": [
        "### DataFrame 의 생성(2)"
      ]
    },
    {
      "cell_type": "code",
      "metadata": {
        "id": "Olyz0dnTF1iG",
        "colab": {
          "base_uri": "https://localhost:8080/",
          "height": 173
        },
        "outputId": "40f9e850-7e1b-4a86-8975-6aafcdcef6fb"
      },
      "source": [
        "# index, columns 지정하여 DataFrame 생성하기\n",
        "score = {'name': ['Jessi', 'Emma', 'Alex', 'Tom'],\n",
        "         'score': [100, 95, 80, 85],\n",
        "         'grade': ['A', 'A', 'B', 'B']}     \n",
        "i = ['a', 'b', 'c', 'd']\n",
        "c = ['score', 'grade', 'name', 'email']\n",
        "        \n",
        "df = pd.DataFrame(data=score, index=i, columns=c)\n",
        "df"
      ],
      "execution_count": null,
      "outputs": [
        {
          "output_type": "execute_result",
          "data": {
            "text/html": [
              "<div>\n",
              "<style scoped>\n",
              "    .dataframe tbody tr th:only-of-type {\n",
              "        vertical-align: middle;\n",
              "    }\n",
              "\n",
              "    .dataframe tbody tr th {\n",
              "        vertical-align: top;\n",
              "    }\n",
              "\n",
              "    .dataframe thead th {\n",
              "        text-align: right;\n",
              "    }\n",
              "</style>\n",
              "<table border=\"1\" class=\"dataframe\">\n",
              "  <thead>\n",
              "    <tr style=\"text-align: right;\">\n",
              "      <th></th>\n",
              "      <th>score</th>\n",
              "      <th>grade</th>\n",
              "      <th>name</th>\n",
              "      <th>email</th>\n",
              "    </tr>\n",
              "  </thead>\n",
              "  <tbody>\n",
              "    <tr>\n",
              "      <th>a</th>\n",
              "      <td>100</td>\n",
              "      <td>A</td>\n",
              "      <td>Jessi</td>\n",
              "      <td>NaN</td>\n",
              "    </tr>\n",
              "    <tr>\n",
              "      <th>b</th>\n",
              "      <td>95</td>\n",
              "      <td>A</td>\n",
              "      <td>Emma</td>\n",
              "      <td>NaN</td>\n",
              "    </tr>\n",
              "    <tr>\n",
              "      <th>c</th>\n",
              "      <td>80</td>\n",
              "      <td>B</td>\n",
              "      <td>Alex</td>\n",
              "      <td>NaN</td>\n",
              "    </tr>\n",
              "    <tr>\n",
              "      <th>d</th>\n",
              "      <td>85</td>\n",
              "      <td>B</td>\n",
              "      <td>Tom</td>\n",
              "      <td>NaN</td>\n",
              "    </tr>\n",
              "  </tbody>\n",
              "</table>\n",
              "</div>"
            ],
            "text/plain": [
              "   score grade   name email\n",
              "a    100     A  Jessi   NaN\n",
              "b     95     A   Emma   NaN\n",
              "c     80     B   Alex   NaN\n",
              "d     85     B    Tom   NaN"
            ]
          },
          "metadata": {
            "tags": []
          },
          "execution_count": 10
        }
      ]
    },
    {
      "cell_type": "markdown",
      "metadata": {
        "id": "8mFIIUPjGQRL"
      },
      "source": [
        "## DataFrame 살펴보기"
      ]
    },
    {
      "cell_type": "markdown",
      "metadata": {
        "id": "p9u8gX8YGjxG"
      },
      "source": [
        "* 실습 데이터 생성"
      ]
    },
    {
      "cell_type": "code",
      "metadata": {
        "id": "7YA_SjVUGjH4",
        "colab": {
          "base_uri": "https://localhost:8080/",
          "height": 203
        },
        "outputId": "bd510f3d-1008-4431-f918-ef826fd1482d"
      },
      "source": [
        "import pandas as pd\n",
        "\n",
        "# 실습 데이터 생성\n",
        "score = {'name': ['Jessi', 'Emma', 'Alex', 'Jessi', 'Tom'],\n",
        "         'score': [100, 95, 80, 85, 97],\n",
        "         'grade': ['A', 'A', 'B', 'B', 'A'],\n",
        "         'subject':['python', 'java', 'python', 'c', 'java']}\n",
        "\n",
        "score_df = pd.DataFrame(data=score)\n",
        "score_df"
      ],
      "execution_count": null,
      "outputs": [
        {
          "output_type": "execute_result",
          "data": {
            "text/html": [
              "<div>\n",
              "<style scoped>\n",
              "    .dataframe tbody tr th:only-of-type {\n",
              "        vertical-align: middle;\n",
              "    }\n",
              "\n",
              "    .dataframe tbody tr th {\n",
              "        vertical-align: top;\n",
              "    }\n",
              "\n",
              "    .dataframe thead th {\n",
              "        text-align: right;\n",
              "    }\n",
              "</style>\n",
              "<table border=\"1\" class=\"dataframe\">\n",
              "  <thead>\n",
              "    <tr style=\"text-align: right;\">\n",
              "      <th></th>\n",
              "      <th>name</th>\n",
              "      <th>score</th>\n",
              "      <th>grade</th>\n",
              "      <th>subject</th>\n",
              "    </tr>\n",
              "  </thead>\n",
              "  <tbody>\n",
              "    <tr>\n",
              "      <th>0</th>\n",
              "      <td>Jessi</td>\n",
              "      <td>100</td>\n",
              "      <td>A</td>\n",
              "      <td>python</td>\n",
              "    </tr>\n",
              "    <tr>\n",
              "      <th>1</th>\n",
              "      <td>Emma</td>\n",
              "      <td>95</td>\n",
              "      <td>A</td>\n",
              "      <td>java</td>\n",
              "    </tr>\n",
              "    <tr>\n",
              "      <th>2</th>\n",
              "      <td>Alex</td>\n",
              "      <td>80</td>\n",
              "      <td>B</td>\n",
              "      <td>python</td>\n",
              "    </tr>\n",
              "    <tr>\n",
              "      <th>3</th>\n",
              "      <td>Jessi</td>\n",
              "      <td>85</td>\n",
              "      <td>B</td>\n",
              "      <td>c</td>\n",
              "    </tr>\n",
              "    <tr>\n",
              "      <th>4</th>\n",
              "      <td>Tom</td>\n",
              "      <td>97</td>\n",
              "      <td>A</td>\n",
              "      <td>java</td>\n",
              "    </tr>\n",
              "  </tbody>\n",
              "</table>\n",
              "</div>"
            ],
            "text/plain": [
              "    name  score grade subject\n",
              "0  Jessi    100     A  python\n",
              "1   Emma     95     A    java\n",
              "2   Alex     80     B  python\n",
              "3  Jessi     85     B       c\n",
              "4    Tom     97     A    java"
            ]
          },
          "metadata": {
            "tags": []
          },
          "execution_count": 13
        }
      ]
    },
    {
      "cell_type": "markdown",
      "metadata": {
        "id": "mQXBs3_wGtJT"
      },
      "source": [
        "* info(), head(), tail(), sample() 실습"
      ]
    },
    {
      "cell_type": "code",
      "metadata": {
        "id": "OiVi8-m9GQlr",
        "colab": {
          "base_uri": "https://localhost:8080/"
        },
        "outputId": "2a0d62b0-c71e-402f-d1a2-eba69f748c9a"
      },
      "source": [
        "score_df.info()"
      ],
      "execution_count": null,
      "outputs": [
        {
          "output_type": "stream",
          "text": [
            "<class 'pandas.core.frame.DataFrame'>\n",
            "RangeIndex: 5 entries, 0 to 4\n",
            "Data columns (total 4 columns):\n",
            " #   Column   Non-Null Count  Dtype \n",
            "---  ------   --------------  ----- \n",
            " 0   name     5 non-null      object\n",
            " 1   score    5 non-null      int64 \n",
            " 2   grade    5 non-null      object\n",
            " 3   subject  5 non-null      object\n",
            "dtypes: int64(1), object(3)\n",
            "memory usage: 288.0+ bytes\n"
          ],
          "name": "stdout"
        }
      ]
    },
    {
      "cell_type": "code",
      "metadata": {
        "id": "q2NmxlOQGrNf",
        "colab": {
          "base_uri": "https://localhost:8080/",
          "height": 203
        },
        "outputId": "6a39ee97-3df0-4123-f018-cc5ce154e0bc"
      },
      "source": [
        "score_df.head()"
      ],
      "execution_count": null,
      "outputs": [
        {
          "output_type": "execute_result",
          "data": {
            "text/html": [
              "<div>\n",
              "<style scoped>\n",
              "    .dataframe tbody tr th:only-of-type {\n",
              "        vertical-align: middle;\n",
              "    }\n",
              "\n",
              "    .dataframe tbody tr th {\n",
              "        vertical-align: top;\n",
              "    }\n",
              "\n",
              "    .dataframe thead th {\n",
              "        text-align: right;\n",
              "    }\n",
              "</style>\n",
              "<table border=\"1\" class=\"dataframe\">\n",
              "  <thead>\n",
              "    <tr style=\"text-align: right;\">\n",
              "      <th></th>\n",
              "      <th>name</th>\n",
              "      <th>score</th>\n",
              "      <th>grade</th>\n",
              "      <th>subject</th>\n",
              "    </tr>\n",
              "  </thead>\n",
              "  <tbody>\n",
              "    <tr>\n",
              "      <th>0</th>\n",
              "      <td>Jessi</td>\n",
              "      <td>100</td>\n",
              "      <td>A</td>\n",
              "      <td>python</td>\n",
              "    </tr>\n",
              "    <tr>\n",
              "      <th>1</th>\n",
              "      <td>Emma</td>\n",
              "      <td>95</td>\n",
              "      <td>A</td>\n",
              "      <td>java</td>\n",
              "    </tr>\n",
              "    <tr>\n",
              "      <th>2</th>\n",
              "      <td>Alex</td>\n",
              "      <td>80</td>\n",
              "      <td>B</td>\n",
              "      <td>python</td>\n",
              "    </tr>\n",
              "    <tr>\n",
              "      <th>3</th>\n",
              "      <td>Jessi</td>\n",
              "      <td>85</td>\n",
              "      <td>B</td>\n",
              "      <td>c</td>\n",
              "    </tr>\n",
              "    <tr>\n",
              "      <th>4</th>\n",
              "      <td>Tom</td>\n",
              "      <td>97</td>\n",
              "      <td>A</td>\n",
              "      <td>java</td>\n",
              "    </tr>\n",
              "  </tbody>\n",
              "</table>\n",
              "</div>"
            ],
            "text/plain": [
              "    name  score grade subject\n",
              "0  Jessi    100     A  python\n",
              "1   Emma     95     A    java\n",
              "2   Alex     80     B  python\n",
              "3  Jessi     85     B       c\n",
              "4    Tom     97     A    java"
            ]
          },
          "metadata": {
            "tags": []
          },
          "execution_count": 15
        }
      ]
    },
    {
      "cell_type": "code",
      "metadata": {
        "id": "7F1oP5BqGrix",
        "colab": {
          "base_uri": "https://localhost:8080/",
          "height": 141
        },
        "outputId": "09c6414e-90ed-4bdb-ff0f-311477d411d0"
      },
      "source": [
        "score_df.tail(3)"
      ],
      "execution_count": null,
      "outputs": [
        {
          "output_type": "execute_result",
          "data": {
            "text/html": [
              "<div>\n",
              "<style scoped>\n",
              "    .dataframe tbody tr th:only-of-type {\n",
              "        vertical-align: middle;\n",
              "    }\n",
              "\n",
              "    .dataframe tbody tr th {\n",
              "        vertical-align: top;\n",
              "    }\n",
              "\n",
              "    .dataframe thead th {\n",
              "        text-align: right;\n",
              "    }\n",
              "</style>\n",
              "<table border=\"1\" class=\"dataframe\">\n",
              "  <thead>\n",
              "    <tr style=\"text-align: right;\">\n",
              "      <th></th>\n",
              "      <th>name</th>\n",
              "      <th>score</th>\n",
              "      <th>grade</th>\n",
              "      <th>subject</th>\n",
              "    </tr>\n",
              "  </thead>\n",
              "  <tbody>\n",
              "    <tr>\n",
              "      <th>2</th>\n",
              "      <td>Alex</td>\n",
              "      <td>80</td>\n",
              "      <td>B</td>\n",
              "      <td>python</td>\n",
              "    </tr>\n",
              "    <tr>\n",
              "      <th>3</th>\n",
              "      <td>Jessi</td>\n",
              "      <td>85</td>\n",
              "      <td>B</td>\n",
              "      <td>c</td>\n",
              "    </tr>\n",
              "    <tr>\n",
              "      <th>4</th>\n",
              "      <td>Tom</td>\n",
              "      <td>97</td>\n",
              "      <td>A</td>\n",
              "      <td>java</td>\n",
              "    </tr>\n",
              "  </tbody>\n",
              "</table>\n",
              "</div>"
            ],
            "text/plain": [
              "    name  score grade subject\n",
              "2   Alex     80     B  python\n",
              "3  Jessi     85     B       c\n",
              "4    Tom     97     A    java"
            ]
          },
          "metadata": {
            "tags": []
          },
          "execution_count": 9
        }
      ]
    },
    {
      "cell_type": "code",
      "metadata": {
        "id": "plli9DkaGr9R",
        "colab": {
          "base_uri": "https://localhost:8080/",
          "height": 110
        },
        "outputId": "7c98b5f4-007a-476d-ffed-1c308f04943b"
      },
      "source": [
        "score_df.sample(frac=0.5)"
      ],
      "execution_count": null,
      "outputs": [
        {
          "output_type": "execute_result",
          "data": {
            "text/html": [
              "<div>\n",
              "<style scoped>\n",
              "    .dataframe tbody tr th:only-of-type {\n",
              "        vertical-align: middle;\n",
              "    }\n",
              "\n",
              "    .dataframe tbody tr th {\n",
              "        vertical-align: top;\n",
              "    }\n",
              "\n",
              "    .dataframe thead th {\n",
              "        text-align: right;\n",
              "    }\n",
              "</style>\n",
              "<table border=\"1\" class=\"dataframe\">\n",
              "  <thead>\n",
              "    <tr style=\"text-align: right;\">\n",
              "      <th></th>\n",
              "      <th>name</th>\n",
              "      <th>score</th>\n",
              "      <th>grade</th>\n",
              "      <th>subject</th>\n",
              "    </tr>\n",
              "  </thead>\n",
              "  <tbody>\n",
              "    <tr>\n",
              "      <th>2</th>\n",
              "      <td>Alex</td>\n",
              "      <td>80</td>\n",
              "      <td>B</td>\n",
              "      <td>python</td>\n",
              "    </tr>\n",
              "    <tr>\n",
              "      <th>4</th>\n",
              "      <td>Tom</td>\n",
              "      <td>97</td>\n",
              "      <td>A</td>\n",
              "      <td>java</td>\n",
              "    </tr>\n",
              "  </tbody>\n",
              "</table>\n",
              "</div>"
            ],
            "text/plain": [
              "   name  score grade subject\n",
              "2  Alex     80     B  python\n",
              "4   Tom     97     A    java"
            ]
          },
          "metadata": {
            "tags": []
          },
          "execution_count": 27
        }
      ]
    },
    {
      "cell_type": "markdown",
      "metadata": {
        "id": "uU2NxwmaHGOa"
      },
      "source": [
        "## 수치형과 범주형 데이터의 이해"
      ]
    },
    {
      "cell_type": "markdown",
      "metadata": {
        "id": "6y2UZKNoHQG7"
      },
      "source": [
        "* 실습 데이터 생성"
      ]
    },
    {
      "cell_type": "code",
      "metadata": {
        "colab": {
          "base_uri": "https://localhost:8080/",
          "height": 203
        },
        "id": "NsYc4uJAHILn",
        "outputId": "21f53d2c-0bb8-4fa0-fd12-3ab6438c56e6"
      },
      "source": [
        "import pandas as pd\n",
        "\n",
        "# 실습 데이터 생성\n",
        "score = {'name': ['Jessi', 'Emma', 'Alex', 'Jessi', 'Tom'],\n",
        "         'age': [20, 24, 23, 20, 27],\n",
        "         'score': [100, 95, 80, 85, 97],\n",
        "         'grade': ['A', 'A', 'B', 'B', 'A'],\n",
        "         'subject':['python', 'java', 'python', 'c', 'java']}\n",
        "\n",
        "score_df = pd.DataFrame(data=score)\n",
        "score_df"
      ],
      "execution_count": null,
      "outputs": [
        {
          "output_type": "execute_result",
          "data": {
            "text/html": [
              "<div>\n",
              "<style scoped>\n",
              "    .dataframe tbody tr th:only-of-type {\n",
              "        vertical-align: middle;\n",
              "    }\n",
              "\n",
              "    .dataframe tbody tr th {\n",
              "        vertical-align: top;\n",
              "    }\n",
              "\n",
              "    .dataframe thead th {\n",
              "        text-align: right;\n",
              "    }\n",
              "</style>\n",
              "<table border=\"1\" class=\"dataframe\">\n",
              "  <thead>\n",
              "    <tr style=\"text-align: right;\">\n",
              "      <th></th>\n",
              "      <th>name</th>\n",
              "      <th>age</th>\n",
              "      <th>score</th>\n",
              "      <th>grade</th>\n",
              "      <th>subject</th>\n",
              "    </tr>\n",
              "  </thead>\n",
              "  <tbody>\n",
              "    <tr>\n",
              "      <th>0</th>\n",
              "      <td>Jessi</td>\n",
              "      <td>20</td>\n",
              "      <td>100</td>\n",
              "      <td>A</td>\n",
              "      <td>python</td>\n",
              "    </tr>\n",
              "    <tr>\n",
              "      <th>1</th>\n",
              "      <td>Emma</td>\n",
              "      <td>24</td>\n",
              "      <td>95</td>\n",
              "      <td>A</td>\n",
              "      <td>java</td>\n",
              "    </tr>\n",
              "    <tr>\n",
              "      <th>2</th>\n",
              "      <td>Alex</td>\n",
              "      <td>23</td>\n",
              "      <td>80</td>\n",
              "      <td>B</td>\n",
              "      <td>python</td>\n",
              "    </tr>\n",
              "    <tr>\n",
              "      <th>3</th>\n",
              "      <td>Jessi</td>\n",
              "      <td>20</td>\n",
              "      <td>85</td>\n",
              "      <td>B</td>\n",
              "      <td>c</td>\n",
              "    </tr>\n",
              "    <tr>\n",
              "      <th>4</th>\n",
              "      <td>Tom</td>\n",
              "      <td>27</td>\n",
              "      <td>97</td>\n",
              "      <td>A</td>\n",
              "      <td>java</td>\n",
              "    </tr>\n",
              "  </tbody>\n",
              "</table>\n",
              "</div>"
            ],
            "text/plain": [
              "    name  age  score grade subject\n",
              "0  Jessi   20    100     A  python\n",
              "1   Emma   24     95     A    java\n",
              "2   Alex   23     80     B  python\n",
              "3  Jessi   20     85     B       c\n",
              "4    Tom   27     97     A    java"
            ]
          },
          "metadata": {
            "tags": []
          },
          "execution_count": 17
        }
      ]
    },
    {
      "cell_type": "code",
      "metadata": {
        "id": "FJDlcauGHTMD",
        "colab": {
          "base_uri": "https://localhost:8080/",
          "height": 314
        },
        "outputId": "55ee0671-ea25-43fc-d62e-aa820220d9ff"
      },
      "source": [
        "# describe() 함수 실습\n",
        "print(\"Generate Descriptive Statistics\")\n",
        "score_df.describe()\n"
      ],
      "execution_count": null,
      "outputs": [
        {
          "output_type": "stream",
          "text": [
            "Generate Descriptive Statistics\n"
          ],
          "name": "stdout"
        },
        {
          "output_type": "execute_result",
          "data": {
            "text/html": [
              "<div>\n",
              "<style scoped>\n",
              "    .dataframe tbody tr th:only-of-type {\n",
              "        vertical-align: middle;\n",
              "    }\n",
              "\n",
              "    .dataframe tbody tr th {\n",
              "        vertical-align: top;\n",
              "    }\n",
              "\n",
              "    .dataframe thead th {\n",
              "        text-align: right;\n",
              "    }\n",
              "</style>\n",
              "<table border=\"1\" class=\"dataframe\">\n",
              "  <thead>\n",
              "    <tr style=\"text-align: right;\">\n",
              "      <th></th>\n",
              "      <th>age</th>\n",
              "      <th>score</th>\n",
              "    </tr>\n",
              "  </thead>\n",
              "  <tbody>\n",
              "    <tr>\n",
              "      <th>count</th>\n",
              "      <td>5.000000</td>\n",
              "      <td>5.000000</td>\n",
              "    </tr>\n",
              "    <tr>\n",
              "      <th>mean</th>\n",
              "      <td>22.800000</td>\n",
              "      <td>91.400000</td>\n",
              "    </tr>\n",
              "    <tr>\n",
              "      <th>std</th>\n",
              "      <td>2.949576</td>\n",
              "      <td>8.502941</td>\n",
              "    </tr>\n",
              "    <tr>\n",
              "      <th>min</th>\n",
              "      <td>20.000000</td>\n",
              "      <td>80.000000</td>\n",
              "    </tr>\n",
              "    <tr>\n",
              "      <th>25%</th>\n",
              "      <td>20.000000</td>\n",
              "      <td>85.000000</td>\n",
              "    </tr>\n",
              "    <tr>\n",
              "      <th>50%</th>\n",
              "      <td>23.000000</td>\n",
              "      <td>95.000000</td>\n",
              "    </tr>\n",
              "    <tr>\n",
              "      <th>75%</th>\n",
              "      <td>24.000000</td>\n",
              "      <td>97.000000</td>\n",
              "    </tr>\n",
              "    <tr>\n",
              "      <th>max</th>\n",
              "      <td>27.000000</td>\n",
              "      <td>100.000000</td>\n",
              "    </tr>\n",
              "  </tbody>\n",
              "</table>\n",
              "</div>"
            ],
            "text/plain": [
              "             age       score\n",
              "count   5.000000    5.000000\n",
              "mean   22.800000   91.400000\n",
              "std     2.949576    8.502941\n",
              "min    20.000000   80.000000\n",
              "25%    20.000000   85.000000\n",
              "50%    23.000000   95.000000\n",
              "75%    24.000000   97.000000\n",
              "max    27.000000  100.000000"
            ]
          },
          "metadata": {
            "tags": []
          },
          "execution_count": 18
        }
      ]
    },
    {
      "cell_type": "code",
      "metadata": {
        "id": "MJmMQxTyHjEg",
        "colab": {
          "base_uri": "https://localhost:8080/"
        },
        "outputId": "64a5658c-808e-40ac-9ba3-f05e6401c343"
      },
      "source": [
        "# 범주형 데이터에 대한 describe() 함수 실습\n",
        "print(\"Generate Descriptive Statistics for Categorical\")\n",
        "print(score_df[['grade', 'subject']].describe())"
      ],
      "execution_count": null,
      "outputs": [
        {
          "output_type": "stream",
          "text": [
            "Generate Descriptive Statistics for Categorical\n",
            "       grade subject\n",
            "count      5       5\n",
            "unique     2       3\n",
            "top        A    java\n",
            "freq       3       2\n"
          ],
          "name": "stdout"
        }
      ]
    },
    {
      "cell_type": "code",
      "metadata": {
        "id": "JebYM1-vHuG6",
        "colab": {
          "base_uri": "https://localhost:8080/"
        },
        "outputId": "02516310-9a7b-48b3-a987-be27916a79d6"
      },
      "source": [
        "# 범주형 데이터를 위한 unique() 함수 실습\n",
        "print(\"The Unique Values\")\n",
        "print(score_df['subject'].unique())"
      ],
      "execution_count": null,
      "outputs": [
        {
          "output_type": "stream",
          "text": [
            "The Unique Values\n",
            "['python' 'java' 'c']\n"
          ],
          "name": "stdout"
        }
      ]
    },
    {
      "cell_type": "code",
      "metadata": {
        "id": "RcRf5zvoHzv4",
        "colab": {
          "base_uri": "https://localhost:8080/"
        },
        "outputId": "28f30ce6-6a79-4cfe-ef7e-aad736fd872f"
      },
      "source": [
        "# 범주형 데이터를 위한 value_counts() 함수 실습\n",
        "print(\"The Value Counts\")\n",
        "print(score_df['subject'].value_counts(normalize=True))"
      ],
      "execution_count": null,
      "outputs": [
        {
          "output_type": "stream",
          "text": [
            "The Value Counts\n",
            "java      0.4\n",
            "python    0.4\n",
            "c         0.2\n",
            "Name: subject, dtype: float64\n"
          ],
          "name": "stdout"
        }
      ]
    },
    {
      "cell_type": "markdown",
      "metadata": {
        "id": "dVgtPNLeH3k7"
      },
      "source": [
        "## 데이터 조회 및 변경"
      ]
    },
    {
      "cell_type": "markdown",
      "metadata": {
        "id": "Mckbd1qBIO9q"
      },
      "source": [
        "* 실습 데이터 생성"
      ]
    },
    {
      "cell_type": "code",
      "metadata": {
        "id": "MUqGgC3MIOZH",
        "colab": {
          "base_uri": "https://localhost:8080/",
          "height": 203
        },
        "outputId": "3559958e-ba59-458f-da8c-e13e2f7b52bb"
      },
      "source": [
        "import pandas as pd\n",
        "\n",
        "# 실습 데이터 생성\n",
        "score = {'name': ['Jessi', 'Emma', 'Alex', 'Jessi', 'Tom'],\n",
        "         'score': [100, 95, 80, 85, 97],\n",
        "         'grade': ['A', 'A', 'B', 'B', 'A'],\n",
        "         'subject':['python', 'java', 'python', 'c', 'java']}\n",
        "c = ['name', 'subject', 'score', 'grade', 'etc']\n",
        "\n",
        "df = pd.DataFrame(data=score, columns=c)\n",
        "df"
      ],
      "execution_count": null,
      "outputs": [
        {
          "output_type": "execute_result",
          "data": {
            "text/html": [
              "<div>\n",
              "<style scoped>\n",
              "    .dataframe tbody tr th:only-of-type {\n",
              "        vertical-align: middle;\n",
              "    }\n",
              "\n",
              "    .dataframe tbody tr th {\n",
              "        vertical-align: top;\n",
              "    }\n",
              "\n",
              "    .dataframe thead th {\n",
              "        text-align: right;\n",
              "    }\n",
              "</style>\n",
              "<table border=\"1\" class=\"dataframe\">\n",
              "  <thead>\n",
              "    <tr style=\"text-align: right;\">\n",
              "      <th></th>\n",
              "      <th>name</th>\n",
              "      <th>subject</th>\n",
              "      <th>score</th>\n",
              "      <th>grade</th>\n",
              "      <th>etc</th>\n",
              "    </tr>\n",
              "  </thead>\n",
              "  <tbody>\n",
              "    <tr>\n",
              "      <th>0</th>\n",
              "      <td>Jessi</td>\n",
              "      <td>python</td>\n",
              "      <td>100</td>\n",
              "      <td>A</td>\n",
              "      <td>NaN</td>\n",
              "    </tr>\n",
              "    <tr>\n",
              "      <th>1</th>\n",
              "      <td>Emma</td>\n",
              "      <td>java</td>\n",
              "      <td>95</td>\n",
              "      <td>A</td>\n",
              "      <td>NaN</td>\n",
              "    </tr>\n",
              "    <tr>\n",
              "      <th>2</th>\n",
              "      <td>Alex</td>\n",
              "      <td>python</td>\n",
              "      <td>80</td>\n",
              "      <td>B</td>\n",
              "      <td>NaN</td>\n",
              "    </tr>\n",
              "    <tr>\n",
              "      <th>3</th>\n",
              "      <td>Jessi</td>\n",
              "      <td>c</td>\n",
              "      <td>85</td>\n",
              "      <td>B</td>\n",
              "      <td>NaN</td>\n",
              "    </tr>\n",
              "    <tr>\n",
              "      <th>4</th>\n",
              "      <td>Tom</td>\n",
              "      <td>java</td>\n",
              "      <td>97</td>\n",
              "      <td>A</td>\n",
              "      <td>NaN</td>\n",
              "    </tr>\n",
              "  </tbody>\n",
              "</table>\n",
              "</div>"
            ],
            "text/plain": [
              "    name subject  score grade  etc\n",
              "0  Jessi  python    100     A  NaN\n",
              "1   Emma    java     95     A  NaN\n",
              "2   Alex  python     80     B  NaN\n",
              "3  Jessi       c     85     B  NaN\n",
              "4    Tom    java     97     A  NaN"
            ]
          },
          "metadata": {
            "tags": []
          },
          "execution_count": 23
        }
      ]
    },
    {
      "cell_type": "code",
      "metadata": {
        "id": "1-LVf17-IQS0",
        "colab": {
          "base_uri": "https://localhost:8080/"
        },
        "outputId": "e8f63c4b-1bbb-4c6e-b597-a95fcdfa3c8c"
      },
      "source": [
        "# 인덱싱 기법으로 열 데이터 조회 실습\n",
        "print('Columns : name')\n",
        "df['name']"
      ],
      "execution_count": null,
      "outputs": [
        {
          "output_type": "stream",
          "text": [
            "Columns : name\n"
          ],
          "name": "stdout"
        },
        {
          "output_type": "execute_result",
          "data": {
            "text/plain": [
              "0    Jessi\n",
              "1     Emma\n",
              "2     Alex\n",
              "3    Jessi\n",
              "4      Tom\n",
              "Name: name, dtype: object"
            ]
          },
          "metadata": {
            "tags": []
          },
          "execution_count": 25
        }
      ]
    },
    {
      "cell_type": "code",
      "metadata": {
        "id": "T4iomF6QIgbg",
        "colab": {
          "base_uri": "https://localhost:8080/"
        },
        "outputId": "03f5f876-d5cf-4e1e-e744-01dbf7cb25a5"
      },
      "source": [
        "# . 연산자로 열 데이터 조회 실습\n",
        "print('Columns : name')\n",
        "df.name"
      ],
      "execution_count": null,
      "outputs": [
        {
          "output_type": "stream",
          "text": [
            "Columns : name\n"
          ],
          "name": "stdout"
        },
        {
          "output_type": "execute_result",
          "data": {
            "text/plain": [
              "0    Jessi\n",
              "1     Emma\n",
              "2     Alex\n",
              "3    Jessi\n",
              "4      Tom\n",
              "Name: name, dtype: object"
            ]
          },
          "metadata": {
            "tags": []
          },
          "execution_count": 24
        }
      ]
    },
    {
      "cell_type": "code",
      "metadata": {
        "id": "Ot6uwRIgIrbD",
        "colab": {
          "base_uri": "https://localhost:8080/"
        },
        "outputId": "17ce8d25-90b3-4781-fe19-71c76d28e7b8"
      },
      "source": [
        "# df.name 의 타입 출력하여 확인\n",
        "print('Type:', type(df.name))"
      ],
      "execution_count": null,
      "outputs": [
        {
          "output_type": "stream",
          "text": [
            "Type: <class 'pandas.core.series.Series'>\n"
          ],
          "name": "stdout"
        }
      ]
    },
    {
      "cell_type": "code",
      "metadata": {
        "id": "eRdalyI7IzvQ",
        "colab": {
          "base_uri": "https://localhost:8080/"
        },
        "outputId": "beebffca-fa71-43e1-d733-6f11b7b4d689"
      },
      "source": [
        "# 다중 열 데이터 조회 실습\n",
        "print('Columns : name-subject-grade')\n",
        "print(df[['name', 'subject', 'grade']])"
      ],
      "execution_count": null,
      "outputs": [
        {
          "output_type": "stream",
          "text": [
            "Columns : name-subject-grade\n",
            "    name subject grade\n",
            "0  Jessi  python     A\n",
            "1   Emma    java     A\n",
            "2   Alex  python     B\n",
            "3  Jessi       c     B\n",
            "4    Tom    java     A\n"
          ],
          "name": "stdout"
        }
      ]
    },
    {
      "cell_type": "code",
      "metadata": {
        "id": "NsZ6ymOTIzsN",
        "colab": {
          "base_uri": "https://localhost:8080/",
          "height": 221
        },
        "outputId": "f706c817-a01e-4ebd-b1c5-3f5151990980"
      },
      "source": [
        "# etc 열 데이터 변경하기\n",
        "print('Modify Column Data')\n",
        "df['etc'] = 0\n",
        "df"
      ],
      "execution_count": null,
      "outputs": [
        {
          "output_type": "stream",
          "text": [
            "Modify Column Data\n"
          ],
          "name": "stdout"
        },
        {
          "output_type": "execute_result",
          "data": {
            "text/html": [
              "<div>\n",
              "<style scoped>\n",
              "    .dataframe tbody tr th:only-of-type {\n",
              "        vertical-align: middle;\n",
              "    }\n",
              "\n",
              "    .dataframe tbody tr th {\n",
              "        vertical-align: top;\n",
              "    }\n",
              "\n",
              "    .dataframe thead th {\n",
              "        text-align: right;\n",
              "    }\n",
              "</style>\n",
              "<table border=\"1\" class=\"dataframe\">\n",
              "  <thead>\n",
              "    <tr style=\"text-align: right;\">\n",
              "      <th></th>\n",
              "      <th>name</th>\n",
              "      <th>subject</th>\n",
              "      <th>score</th>\n",
              "      <th>grade</th>\n",
              "      <th>etc</th>\n",
              "    </tr>\n",
              "  </thead>\n",
              "  <tbody>\n",
              "    <tr>\n",
              "      <th>0</th>\n",
              "      <td>Jessi</td>\n",
              "      <td>python</td>\n",
              "      <td>100</td>\n",
              "      <td>A</td>\n",
              "      <td>0</td>\n",
              "    </tr>\n",
              "    <tr>\n",
              "      <th>1</th>\n",
              "      <td>Emma</td>\n",
              "      <td>java</td>\n",
              "      <td>95</td>\n",
              "      <td>A</td>\n",
              "      <td>0</td>\n",
              "    </tr>\n",
              "    <tr>\n",
              "      <th>2</th>\n",
              "      <td>Alex</td>\n",
              "      <td>python</td>\n",
              "      <td>80</td>\n",
              "      <td>B</td>\n",
              "      <td>0</td>\n",
              "    </tr>\n",
              "    <tr>\n",
              "      <th>3</th>\n",
              "      <td>Jessi</td>\n",
              "      <td>c</td>\n",
              "      <td>85</td>\n",
              "      <td>B</td>\n",
              "      <td>0</td>\n",
              "    </tr>\n",
              "    <tr>\n",
              "      <th>4</th>\n",
              "      <td>Tom</td>\n",
              "      <td>java</td>\n",
              "      <td>97</td>\n",
              "      <td>A</td>\n",
              "      <td>0</td>\n",
              "    </tr>\n",
              "  </tbody>\n",
              "</table>\n",
              "</div>"
            ],
            "text/plain": [
              "    name subject  score grade  etc\n",
              "0  Jessi  python    100     A    0\n",
              "1   Emma    java     95     A    0\n",
              "2   Alex  python     80     B    0\n",
              "3  Jessi       c     85     B    0\n",
              "4    Tom    java     97     A    0"
            ]
          },
          "metadata": {
            "tags": []
          },
          "execution_count": 28
        }
      ]
    },
    {
      "cell_type": "code",
      "metadata": {
        "id": "tpBpAQIUJN3P",
        "colab": {
          "base_uri": "https://localhost:8080/"
        },
        "outputId": "cc07cd61-9c0d-4dab-eac3-4f3d772482df"
      },
      "source": [
        "# loc 이용하여 행 데이터 조회 실습\n",
        "print('Rows-1')\n",
        "print(df.loc[1])"
      ],
      "execution_count": null,
      "outputs": [
        {
          "output_type": "stream",
          "text": [
            "Rows-1\n",
            "name       Emma\n",
            "subject    java\n",
            "score        95\n",
            "grade         A\n",
            "etc           0\n",
            "Name: 1, dtype: object\n"
          ],
          "name": "stdout"
        }
      ]
    },
    {
      "cell_type": "code",
      "metadata": {
        "id": "7-1KRarJJOt_",
        "colab": {
          "base_uri": "https://localhost:8080/",
          "height": 159
        },
        "outputId": "69e32dd4-9581-4e7d-8ea5-90f1355a5d79"
      },
      "source": [
        "# loc 이용하여 다중 행 데이터 조회 실습\n",
        "print('Rows-0,2,4')\n",
        "df.loc[[0,2,4]]"
      ],
      "execution_count": null,
      "outputs": [
        {
          "output_type": "stream",
          "text": [
            "Rows-0,2,4\n"
          ],
          "name": "stdout"
        },
        {
          "output_type": "execute_result",
          "data": {
            "text/html": [
              "<div>\n",
              "<style scoped>\n",
              "    .dataframe tbody tr th:only-of-type {\n",
              "        vertical-align: middle;\n",
              "    }\n",
              "\n",
              "    .dataframe tbody tr th {\n",
              "        vertical-align: top;\n",
              "    }\n",
              "\n",
              "    .dataframe thead th {\n",
              "        text-align: right;\n",
              "    }\n",
              "</style>\n",
              "<table border=\"1\" class=\"dataframe\">\n",
              "  <thead>\n",
              "    <tr style=\"text-align: right;\">\n",
              "      <th></th>\n",
              "      <th>name</th>\n",
              "      <th>subject</th>\n",
              "      <th>score</th>\n",
              "      <th>grade</th>\n",
              "      <th>etc</th>\n",
              "    </tr>\n",
              "  </thead>\n",
              "  <tbody>\n",
              "    <tr>\n",
              "      <th>0</th>\n",
              "      <td>Jessi</td>\n",
              "      <td>python</td>\n",
              "      <td>100</td>\n",
              "      <td>A</td>\n",
              "      <td>0</td>\n",
              "    </tr>\n",
              "    <tr>\n",
              "      <th>2</th>\n",
              "      <td>Alex</td>\n",
              "      <td>python</td>\n",
              "      <td>80</td>\n",
              "      <td>B</td>\n",
              "      <td>0</td>\n",
              "    </tr>\n",
              "    <tr>\n",
              "      <th>4</th>\n",
              "      <td>Tom</td>\n",
              "      <td>java</td>\n",
              "      <td>97</td>\n",
              "      <td>A</td>\n",
              "      <td>0</td>\n",
              "    </tr>\n",
              "  </tbody>\n",
              "</table>\n",
              "</div>"
            ],
            "text/plain": [
              "    name subject  score grade  etc\n",
              "0  Jessi  python    100     A    0\n",
              "2   Alex  python     80     B    0\n",
              "4    Tom    java     97     A    0"
            ]
          },
          "metadata": {
            "tags": []
          },
          "execution_count": 30
        }
      ]
    },
    {
      "cell_type": "code",
      "metadata": {
        "id": "aTtp3SlhJU2C",
        "colab": {
          "base_uri": "https://localhost:8080/",
          "height": 221
        },
        "outputId": "97217741-7943-461c-fb47-835fb7be3b84"
      },
      "source": [
        "# 특정 행 데이터 변경 실습\n",
        "print('Modify Rows0')\n",
        "df.loc[0] = ['Jessi', 'java', 70, 'C', 1]\n",
        "df"
      ],
      "execution_count": null,
      "outputs": [
        {
          "output_type": "stream",
          "text": [
            "Modify Rows0\n"
          ],
          "name": "stdout"
        },
        {
          "output_type": "execute_result",
          "data": {
            "text/html": [
              "<div>\n",
              "<style scoped>\n",
              "    .dataframe tbody tr th:only-of-type {\n",
              "        vertical-align: middle;\n",
              "    }\n",
              "\n",
              "    .dataframe tbody tr th {\n",
              "        vertical-align: top;\n",
              "    }\n",
              "\n",
              "    .dataframe thead th {\n",
              "        text-align: right;\n",
              "    }\n",
              "</style>\n",
              "<table border=\"1\" class=\"dataframe\">\n",
              "  <thead>\n",
              "    <tr style=\"text-align: right;\">\n",
              "      <th></th>\n",
              "      <th>name</th>\n",
              "      <th>subject</th>\n",
              "      <th>score</th>\n",
              "      <th>grade</th>\n",
              "      <th>etc</th>\n",
              "    </tr>\n",
              "  </thead>\n",
              "  <tbody>\n",
              "    <tr>\n",
              "      <th>0</th>\n",
              "      <td>Jessi</td>\n",
              "      <td>java</td>\n",
              "      <td>70</td>\n",
              "      <td>C</td>\n",
              "      <td>1</td>\n",
              "    </tr>\n",
              "    <tr>\n",
              "      <th>1</th>\n",
              "      <td>Emma</td>\n",
              "      <td>java</td>\n",
              "      <td>95</td>\n",
              "      <td>A</td>\n",
              "      <td>0</td>\n",
              "    </tr>\n",
              "    <tr>\n",
              "      <th>2</th>\n",
              "      <td>Alex</td>\n",
              "      <td>python</td>\n",
              "      <td>80</td>\n",
              "      <td>B</td>\n",
              "      <td>0</td>\n",
              "    </tr>\n",
              "    <tr>\n",
              "      <th>3</th>\n",
              "      <td>Jessi</td>\n",
              "      <td>c</td>\n",
              "      <td>85</td>\n",
              "      <td>B</td>\n",
              "      <td>0</td>\n",
              "    </tr>\n",
              "    <tr>\n",
              "      <th>4</th>\n",
              "      <td>Tom</td>\n",
              "      <td>java</td>\n",
              "      <td>97</td>\n",
              "      <td>A</td>\n",
              "      <td>0</td>\n",
              "    </tr>\n",
              "  </tbody>\n",
              "</table>\n",
              "</div>"
            ],
            "text/plain": [
              "    name subject  score grade  etc\n",
              "0  Jessi    java     70     C    1\n",
              "1   Emma    java     95     A    0\n",
              "2   Alex  python     80     B    0\n",
              "3  Jessi       c     85     B    0\n",
              "4    Tom    java     97     A    0"
            ]
          },
          "metadata": {
            "tags": []
          },
          "execution_count": 31
        }
      ]
    },
    {
      "cell_type": "code",
      "metadata": {
        "id": "LeVe9022IUBd",
        "colab": {
          "base_uri": "https://localhost:8080/"
        },
        "outputId": "8f92a579-06f3-45d5-a045-e35ab90b0714"
      },
      "source": [
        "# 행과 열의 조건을 동시에 지정하여 조회 실습\n",
        "row_idx = [1,2,4]\n",
        "col_idx = ['name', 'subject', 'grade']\n",
        "\n",
        "print('Rows & Columns')\n",
        "print(df.loc[row_idx, col_idx])"
      ],
      "execution_count": null,
      "outputs": [
        {
          "output_type": "stream",
          "text": [
            "Rows & Columns\n",
            "   name subject grade\n",
            "1  Emma    java     A\n",
            "2  Alex  python     B\n",
            "4   Tom    java     A\n"
          ],
          "name": "stdout"
        }
      ]
    },
    {
      "cell_type": "markdown",
      "metadata": {
        "id": "WjGQLYbhJe41"
      },
      "source": [
        "## 데이터 추가, 삭제"
      ]
    },
    {
      "cell_type": "markdown",
      "metadata": {
        "id": "nRJlpQe7JjW-"
      },
      "source": [
        "* 실습 데이터 생성"
      ]
    },
    {
      "cell_type": "code",
      "metadata": {
        "id": "XD-djooBJcNs",
        "colab": {
          "base_uri": "https://localhost:8080/"
        },
        "outputId": "9a270de7-22da-40b8-c333-8441c4482a1c"
      },
      "source": [
        "import pandas as pd\n",
        "\n",
        "# 실습 데이터 생성\n",
        "score = {'name': ['Jessi', 'Emma', 'Alex', 'Jessi', 'Tom'],\n",
        "         'score': [100, 95, 80, 85, 97],\n",
        "         'grade': ['A', 'A', 'B', 'B', 'A'],\n",
        "         'subject':['python', 'java', 'python', 'c', 'java']}\n",
        "c = ['name', 'subject', 'score', 'grade', 'etc']\n",
        "\n",
        "df = pd.DataFrame(data=score, columns=c)\n",
        "print(df)"
      ],
      "execution_count": null,
      "outputs": [
        {
          "output_type": "stream",
          "text": [
            "    name subject  score grade  etc\n",
            "0  Jessi  python    100     A  NaN\n",
            "1   Emma    java     95     A  NaN\n",
            "2   Alex  python     80     B  NaN\n",
            "3  Jessi       c     85     B  NaN\n",
            "4    Tom    java     97     A  NaN\n"
          ],
          "name": "stdout"
        }
      ]
    },
    {
      "cell_type": "code",
      "metadata": {
        "id": "oqjBn-ukJeFm",
        "colab": {
          "base_uri": "https://localhost:8080/",
          "height": 221
        },
        "outputId": "0f2784b5-be9f-4681-e28d-462c9ffb0523"
      },
      "source": [
        "# Series 객체 생성하여 'semester' 라는 열 추가\n",
        "semester_data = pd.Series(['20-01', '20-01', '20-02', '20-01'])\n",
        "df['semester'] = semester_data\n",
        "\n",
        "print('Add Columns : semester')\n",
        "df"
      ],
      "execution_count": null,
      "outputs": [
        {
          "output_type": "stream",
          "text": [
            "Add Columns : semester\n"
          ],
          "name": "stdout"
        },
        {
          "output_type": "execute_result",
          "data": {
            "text/html": [
              "<div>\n",
              "<style scoped>\n",
              "    .dataframe tbody tr th:only-of-type {\n",
              "        vertical-align: middle;\n",
              "    }\n",
              "\n",
              "    .dataframe tbody tr th {\n",
              "        vertical-align: top;\n",
              "    }\n",
              "\n",
              "    .dataframe thead th {\n",
              "        text-align: right;\n",
              "    }\n",
              "</style>\n",
              "<table border=\"1\" class=\"dataframe\">\n",
              "  <thead>\n",
              "    <tr style=\"text-align: right;\">\n",
              "      <th></th>\n",
              "      <th>name</th>\n",
              "      <th>subject</th>\n",
              "      <th>score</th>\n",
              "      <th>grade</th>\n",
              "      <th>etc</th>\n",
              "      <th>semester</th>\n",
              "    </tr>\n",
              "  </thead>\n",
              "  <tbody>\n",
              "    <tr>\n",
              "      <th>0</th>\n",
              "      <td>Jessi</td>\n",
              "      <td>java</td>\n",
              "      <td>70</td>\n",
              "      <td>C</td>\n",
              "      <td>1</td>\n",
              "      <td>20-01</td>\n",
              "    </tr>\n",
              "    <tr>\n",
              "      <th>1</th>\n",
              "      <td>Emma</td>\n",
              "      <td>java</td>\n",
              "      <td>95</td>\n",
              "      <td>A</td>\n",
              "      <td>0</td>\n",
              "      <td>20-01</td>\n",
              "    </tr>\n",
              "    <tr>\n",
              "      <th>2</th>\n",
              "      <td>Alex</td>\n",
              "      <td>python</td>\n",
              "      <td>80</td>\n",
              "      <td>B</td>\n",
              "      <td>0</td>\n",
              "      <td>20-02</td>\n",
              "    </tr>\n",
              "    <tr>\n",
              "      <th>3</th>\n",
              "      <td>Jessi</td>\n",
              "      <td>c</td>\n",
              "      <td>85</td>\n",
              "      <td>B</td>\n",
              "      <td>0</td>\n",
              "      <td>20-01</td>\n",
              "    </tr>\n",
              "    <tr>\n",
              "      <th>4</th>\n",
              "      <td>Tom</td>\n",
              "      <td>java</td>\n",
              "      <td>97</td>\n",
              "      <td>A</td>\n",
              "      <td>0</td>\n",
              "      <td>NaN</td>\n",
              "    </tr>\n",
              "  </tbody>\n",
              "</table>\n",
              "</div>"
            ],
            "text/plain": [
              "    name subject  score grade  etc semester\n",
              "0  Jessi    java     70     C    1    20-01\n",
              "1   Emma    java     95     A    0    20-01\n",
              "2   Alex  python     80     B    0    20-02\n",
              "3  Jessi       c     85     B    0    20-01\n",
              "4    Tom    java     97     A    0      NaN"
            ]
          },
          "metadata": {
            "tags": []
          },
          "execution_count": 33
        }
      ]
    },
    {
      "cell_type": "code",
      "metadata": {
        "id": "0SUJtn5HJo_n"
      },
      "source": [
        "# 연산 이용하여 'high_score' 라는 열 추가\n",
        "df['high_score'] = df['score'] > 90\n",
        "\n",
        "print('Add Columns : high_score')\n",
        "df"
      ],
      "execution_count": null,
      "outputs": []
    },
    {
      "cell_type": "code",
      "metadata": {
        "id": "mQ9_h-SsKKUm",
        "colab": {
          "base_uri": "https://localhost:8080/",
          "height": 252
        },
        "outputId": "72704d0f-dd1a-48d5-c1d3-aa7594526c2d"
      },
      "source": [
        "# 6 번 인덱스에 행 데이터 추가\n",
        "df.loc[6] = ['Jina', 'python', 100, 'A', 1]\n",
        "\n",
        "print('Add Row 6')\n",
        "df"
      ],
      "execution_count": null,
      "outputs": [
        {
          "output_type": "stream",
          "text": [
            "Add Row 6\n"
          ],
          "name": "stdout"
        },
        {
          "output_type": "execute_result",
          "data": {
            "text/html": [
              "<div>\n",
              "<style scoped>\n",
              "    .dataframe tbody tr th:only-of-type {\n",
              "        vertical-align: middle;\n",
              "    }\n",
              "\n",
              "    .dataframe tbody tr th {\n",
              "        vertical-align: top;\n",
              "    }\n",
              "\n",
              "    .dataframe thead th {\n",
              "        text-align: right;\n",
              "    }\n",
              "</style>\n",
              "<table border=\"1\" class=\"dataframe\">\n",
              "  <thead>\n",
              "    <tr style=\"text-align: right;\">\n",
              "      <th></th>\n",
              "      <th>name</th>\n",
              "      <th>subject</th>\n",
              "      <th>score</th>\n",
              "      <th>grade</th>\n",
              "      <th>etc</th>\n",
              "    </tr>\n",
              "  </thead>\n",
              "  <tbody>\n",
              "    <tr>\n",
              "      <th>0</th>\n",
              "      <td>Jessi</td>\n",
              "      <td>python</td>\n",
              "      <td>100</td>\n",
              "      <td>A</td>\n",
              "      <td>NaN</td>\n",
              "    </tr>\n",
              "    <tr>\n",
              "      <th>1</th>\n",
              "      <td>Emma</td>\n",
              "      <td>java</td>\n",
              "      <td>95</td>\n",
              "      <td>A</td>\n",
              "      <td>NaN</td>\n",
              "    </tr>\n",
              "    <tr>\n",
              "      <th>2</th>\n",
              "      <td>Alex</td>\n",
              "      <td>python</td>\n",
              "      <td>80</td>\n",
              "      <td>B</td>\n",
              "      <td>NaN</td>\n",
              "    </tr>\n",
              "    <tr>\n",
              "      <th>3</th>\n",
              "      <td>Jessi</td>\n",
              "      <td>c</td>\n",
              "      <td>85</td>\n",
              "      <td>B</td>\n",
              "      <td>NaN</td>\n",
              "    </tr>\n",
              "    <tr>\n",
              "      <th>4</th>\n",
              "      <td>Tom</td>\n",
              "      <td>java</td>\n",
              "      <td>97</td>\n",
              "      <td>A</td>\n",
              "      <td>NaN</td>\n",
              "    </tr>\n",
              "    <tr>\n",
              "      <th>6</th>\n",
              "      <td>Jina</td>\n",
              "      <td>python</td>\n",
              "      <td>100</td>\n",
              "      <td>A</td>\n",
              "      <td>1</td>\n",
              "    </tr>\n",
              "  </tbody>\n",
              "</table>\n",
              "</div>"
            ],
            "text/plain": [
              "    name subject  score grade  etc\n",
              "0  Jessi  python    100     A  NaN\n",
              "1   Emma    java     95     A  NaN\n",
              "2   Alex  python     80     B  NaN\n",
              "3  Jessi       c     85     B  NaN\n",
              "4    Tom    java     97     A  NaN\n",
              "6   Jina  python    100     A    1"
            ]
          },
          "metadata": {
            "tags": []
          },
          "execution_count": 33
        }
      ]
    },
    {
      "cell_type": "code",
      "metadata": {
        "id": "MUyViJR0KJCJ"
      },
      "source": [
        "# 1) drop() 이용하여 행 데이터 삭제\n",
        "# 2) inplace 인자를 사용하여 원본 데이터에 바로 삭제\n",
        "df.drop(6, inplace=True)\n",
        "\n",
        "print('Delete Row : 6')\n",
        "df"
      ],
      "execution_count": null,
      "outputs": []
    },
    {
      "cell_type": "code",
      "metadata": {
        "id": "8YkvfggrJpNZ"
      },
      "source": [
        "# drop() 이용하여 'etc' 열 삭제 (원본데이터변경)\n",
        "df.drop(columns=['etc'], inplace=True)\n",
        "\n",
        "print('Delete Column :')\n",
        "df"
      ],
      "execution_count": null,
      "outputs": []
    },
    {
      "cell_type": "markdown",
      "metadata": {
        "id": "O34KjT_RKdGV"
      },
      "source": [
        "## 데이터 파일 읽기"
      ]
    },
    {
      "cell_type": "code",
      "metadata": {
        "id": "eVGnPfk_Ko33",
        "colab": {
          "base_uri": "https://localhost:8080/"
        },
        "outputId": "6f8362c2-903c-427a-f77c-e394a49e947d"
      },
      "source": [
        "filepath = '/content/titanic.csv'\n",
        "\n",
        "titanic_df = pd.read_csv(filepath)\n",
        "type(titanic_df)"
      ],
      "execution_count": null,
      "outputs": [
        {
          "output_type": "execute_result",
          "data": {
            "text/plain": [
              "pandas.core.frame.DataFrame"
            ]
          },
          "metadata": {
            "tags": []
          },
          "execution_count": 38
        }
      ]
    },
    {
      "cell_type": "code",
      "metadata": {
        "id": "9vZMt3zLLqMi",
        "colab": {
          "base_uri": "https://localhost:8080/"
        },
        "outputId": "ddd18059-88c5-4175-d6ab-f80023c26e40"
      },
      "source": [
        "# info() 확인해보기\n",
        "print('Summary of DataFrame')\n",
        "titanic_df.info()"
      ],
      "execution_count": null,
      "outputs": [
        {
          "output_type": "stream",
          "text": [
            "Summary of DataFrame\n",
            "<class 'pandas.core.frame.DataFrame'>\n",
            "RangeIndex: 891 entries, 0 to 890\n",
            "Data columns (total 12 columns):\n",
            " #   Column       Non-Null Count  Dtype  \n",
            "---  ------       --------------  -----  \n",
            " 0   PassengerId  891 non-null    int64  \n",
            " 1   Survived     891 non-null    int64  \n",
            " 2   Pclass       891 non-null    int64  \n",
            " 3   Name         891 non-null    object \n",
            " 4   Sex          891 non-null    object \n",
            " 5   Age          714 non-null    float64\n",
            " 6   SibSp        891 non-null    int64  \n",
            " 7   Parch        891 non-null    int64  \n",
            " 8   Ticket       891 non-null    object \n",
            " 9   Fare         891 non-null    float64\n",
            " 10  Cabin        204 non-null    object \n",
            " 11  Embarked     889 non-null    object \n",
            "dtypes: float64(2), int64(5), object(5)\n",
            "memory usage: 83.7+ KB\n"
          ],
          "name": "stdout"
        }
      ]
    },
    {
      "cell_type": "code",
      "metadata": {
        "id": "bnEkYB5EWHym",
        "colab": {
          "base_uri": "https://localhost:8080/",
          "height": 512
        },
        "outputId": "d7c656e5-2bd8-4bf8-eb59-a555166954fb"
      },
      "source": [
        "# sample 데이터 출력해보기\n",
        "print('Return the first n rows')\n",
        "titanic_df.head()"
      ],
      "execution_count": null,
      "outputs": [
        {
          "output_type": "stream",
          "text": [
            "Return the first n rows\n"
          ],
          "name": "stdout"
        },
        {
          "output_type": "execute_result",
          "data": {
            "text/html": [
              "<div>\n",
              "<style scoped>\n",
              "    .dataframe tbody tr th:only-of-type {\n",
              "        vertical-align: middle;\n",
              "    }\n",
              "\n",
              "    .dataframe tbody tr th {\n",
              "        vertical-align: top;\n",
              "    }\n",
              "\n",
              "    .dataframe thead th {\n",
              "        text-align: right;\n",
              "    }\n",
              "</style>\n",
              "<table border=\"1\" class=\"dataframe\">\n",
              "  <thead>\n",
              "    <tr style=\"text-align: right;\">\n",
              "      <th></th>\n",
              "      <th>PassengerId</th>\n",
              "      <th>Survived</th>\n",
              "      <th>Pclass</th>\n",
              "      <th>Name</th>\n",
              "      <th>Sex</th>\n",
              "      <th>Age</th>\n",
              "      <th>SibSp</th>\n",
              "      <th>Parch</th>\n",
              "      <th>Ticket</th>\n",
              "      <th>Fare</th>\n",
              "      <th>Cabin</th>\n",
              "      <th>Embarked</th>\n",
              "    </tr>\n",
              "  </thead>\n",
              "  <tbody>\n",
              "    <tr>\n",
              "      <th>0</th>\n",
              "      <td>1</td>\n",
              "      <td>0</td>\n",
              "      <td>3</td>\n",
              "      <td>Braund, Mr. Owen Harris</td>\n",
              "      <td>male</td>\n",
              "      <td>22.0</td>\n",
              "      <td>1</td>\n",
              "      <td>0</td>\n",
              "      <td>A/5 21171</td>\n",
              "      <td>7.2500</td>\n",
              "      <td>NaN</td>\n",
              "      <td>S</td>\n",
              "    </tr>\n",
              "    <tr>\n",
              "      <th>1</th>\n",
              "      <td>2</td>\n",
              "      <td>1</td>\n",
              "      <td>1</td>\n",
              "      <td>Cumings, Mrs. John Bradley (Florence Briggs Th...</td>\n",
              "      <td>female</td>\n",
              "      <td>38.0</td>\n",
              "      <td>1</td>\n",
              "      <td>0</td>\n",
              "      <td>PC 17599</td>\n",
              "      <td>71.2833</td>\n",
              "      <td>C85</td>\n",
              "      <td>C</td>\n",
              "    </tr>\n",
              "    <tr>\n",
              "      <th>2</th>\n",
              "      <td>3</td>\n",
              "      <td>1</td>\n",
              "      <td>3</td>\n",
              "      <td>Heikkinen, Miss. Laina</td>\n",
              "      <td>female</td>\n",
              "      <td>26.0</td>\n",
              "      <td>0</td>\n",
              "      <td>0</td>\n",
              "      <td>STON/O2. 3101282</td>\n",
              "      <td>7.9250</td>\n",
              "      <td>NaN</td>\n",
              "      <td>S</td>\n",
              "    </tr>\n",
              "    <tr>\n",
              "      <th>3</th>\n",
              "      <td>4</td>\n",
              "      <td>1</td>\n",
              "      <td>1</td>\n",
              "      <td>Futrelle, Mrs. Jacques Heath (Lily May Peel)</td>\n",
              "      <td>female</td>\n",
              "      <td>35.0</td>\n",
              "      <td>1</td>\n",
              "      <td>0</td>\n",
              "      <td>113803</td>\n",
              "      <td>53.1000</td>\n",
              "      <td>C123</td>\n",
              "      <td>S</td>\n",
              "    </tr>\n",
              "    <tr>\n",
              "      <th>4</th>\n",
              "      <td>5</td>\n",
              "      <td>0</td>\n",
              "      <td>3</td>\n",
              "      <td>Allen, Mr. William Henry</td>\n",
              "      <td>male</td>\n",
              "      <td>35.0</td>\n",
              "      <td>0</td>\n",
              "      <td>0</td>\n",
              "      <td>373450</td>\n",
              "      <td>8.0500</td>\n",
              "      <td>NaN</td>\n",
              "      <td>S</td>\n",
              "    </tr>\n",
              "  </tbody>\n",
              "</table>\n",
              "</div>"
            ],
            "text/plain": [
              "   PassengerId  Survived  Pclass  ...     Fare Cabin  Embarked\n",
              "0            1         0       3  ...   7.2500   NaN         S\n",
              "1            2         1       1  ...  71.2833   C85         C\n",
              "2            3         1       3  ...   7.9250   NaN         S\n",
              "3            4         1       1  ...  53.1000  C123         S\n",
              "4            5         0       3  ...   8.0500   NaN         S\n",
              "\n",
              "[5 rows x 12 columns]"
            ]
          },
          "metadata": {
            "tags": []
          },
          "execution_count": 41
        }
      ]
    },
    {
      "cell_type": "code",
      "metadata": {
        "id": "uZaVp91sWPHs",
        "colab": {
          "base_uri": "https://localhost:8080/",
          "height": 221
        },
        "outputId": "07a9a253-a02d-4293-bcba-6ac15cd4b7f3"
      },
      "source": [
        "# 엑셀 파일에서 데이터 읽기\n",
        "filepath2 = '/content/students_score.xlsx'\n",
        "\n",
        "print('Read students_score.xlsx')\n",
        "sample_df = pd.read_excel(filepath2)\n",
        "sample_df"
      ],
      "execution_count": null,
      "outputs": [
        {
          "output_type": "stream",
          "text": [
            "Read students_score.xlsx\n"
          ],
          "name": "stdout"
        },
        {
          "output_type": "execute_result",
          "data": {
            "text/html": [
              "<div>\n",
              "<style scoped>\n",
              "    .dataframe tbody tr th:only-of-type {\n",
              "        vertical-align: middle;\n",
              "    }\n",
              "\n",
              "    .dataframe tbody tr th {\n",
              "        vertical-align: top;\n",
              "    }\n",
              "\n",
              "    .dataframe thead th {\n",
              "        text-align: right;\n",
              "    }\n",
              "</style>\n",
              "<table border=\"1\" class=\"dataframe\">\n",
              "  <thead>\n",
              "    <tr style=\"text-align: right;\">\n",
              "      <th></th>\n",
              "      <th>Jessi</th>\n",
              "      <th>20</th>\n",
              "      <th>100</th>\n",
              "      <th>A</th>\n",
              "      <th>python</th>\n",
              "    </tr>\n",
              "  </thead>\n",
              "  <tbody>\n",
              "    <tr>\n",
              "      <th>0</th>\n",
              "      <td>Emma</td>\n",
              "      <td>24</td>\n",
              "      <td>95</td>\n",
              "      <td>A</td>\n",
              "      <td>java</td>\n",
              "    </tr>\n",
              "    <tr>\n",
              "      <th>1</th>\n",
              "      <td>Alex</td>\n",
              "      <td>23</td>\n",
              "      <td>80</td>\n",
              "      <td>B</td>\n",
              "      <td>python</td>\n",
              "    </tr>\n",
              "    <tr>\n",
              "      <th>2</th>\n",
              "      <td>Jessi</td>\n",
              "      <td>20</td>\n",
              "      <td>85</td>\n",
              "      <td>B</td>\n",
              "      <td>c</td>\n",
              "    </tr>\n",
              "    <tr>\n",
              "      <th>3</th>\n",
              "      <td>Tom</td>\n",
              "      <td>27</td>\n",
              "      <td>97</td>\n",
              "      <td>A</td>\n",
              "      <td>java</td>\n",
              "    </tr>\n",
              "    <tr>\n",
              "      <th>4</th>\n",
              "      <td>Sia</td>\n",
              "      <td>28</td>\n",
              "      <td>79</td>\n",
              "      <td>C</td>\n",
              "      <td>python</td>\n",
              "    </tr>\n",
              "  </tbody>\n",
              "</table>\n",
              "</div>"
            ],
            "text/plain": [
              "   Jessi  20  100  A  python\n",
              "0   Emma  24   95  A    java\n",
              "1   Alex  23   80  B  python\n",
              "2  Jessi  20   85  B       c\n",
              "3    Tom  27   97  A    java\n",
              "4    Sia  28   79  C  python"
            ]
          },
          "metadata": {
            "tags": []
          },
          "execution_count": 42
        }
      ]
    },
    {
      "cell_type": "code",
      "metadata": {
        "id": "IwGt1nLsWXiQ",
        "colab": {
          "base_uri": "https://localhost:8080/",
          "height": 159
        },
        "outputId": "0a16e527-3a69-49bf-9d9a-dc64bc9bec5b"
      },
      "source": [
        "# 1) header=none 옵션으로 컬럼 없이 데이터 읽기\n",
        "# 2) df.columns 에 새로운 컬럼명 저장하기\n",
        "sample_df = pd.read_excel(filepath2, header=2)\n",
        "sample_df.columns = ['name', 'age', 'score', 'grade', 'subject']\n",
        "\n",
        "print('Read Excel by header=none')\n",
        "sample_df"
      ],
      "execution_count": null,
      "outputs": [
        {
          "output_type": "stream",
          "text": [
            "Read Excel by header=none\n"
          ],
          "name": "stdout"
        },
        {
          "output_type": "execute_result",
          "data": {
            "text/html": [
              "<div>\n",
              "<style scoped>\n",
              "    .dataframe tbody tr th:only-of-type {\n",
              "        vertical-align: middle;\n",
              "    }\n",
              "\n",
              "    .dataframe tbody tr th {\n",
              "        vertical-align: top;\n",
              "    }\n",
              "\n",
              "    .dataframe thead th {\n",
              "        text-align: right;\n",
              "    }\n",
              "</style>\n",
              "<table border=\"1\" class=\"dataframe\">\n",
              "  <thead>\n",
              "    <tr style=\"text-align: right;\">\n",
              "      <th></th>\n",
              "      <th>name</th>\n",
              "      <th>age</th>\n",
              "      <th>score</th>\n",
              "      <th>grade</th>\n",
              "      <th>subject</th>\n",
              "    </tr>\n",
              "  </thead>\n",
              "  <tbody>\n",
              "    <tr>\n",
              "      <th>0</th>\n",
              "      <td>Jessi</td>\n",
              "      <td>20</td>\n",
              "      <td>85</td>\n",
              "      <td>B</td>\n",
              "      <td>c</td>\n",
              "    </tr>\n",
              "    <tr>\n",
              "      <th>1</th>\n",
              "      <td>Tom</td>\n",
              "      <td>27</td>\n",
              "      <td>97</td>\n",
              "      <td>A</td>\n",
              "      <td>java</td>\n",
              "    </tr>\n",
              "    <tr>\n",
              "      <th>2</th>\n",
              "      <td>Sia</td>\n",
              "      <td>28</td>\n",
              "      <td>79</td>\n",
              "      <td>C</td>\n",
              "      <td>python</td>\n",
              "    </tr>\n",
              "  </tbody>\n",
              "</table>\n",
              "</div>"
            ],
            "text/plain": [
              "    name  age  score grade subject\n",
              "0  Jessi   20     85     B       c\n",
              "1    Tom   27     97     A    java\n",
              "2    Sia   28     79     C  python"
            ]
          },
          "metadata": {
            "tags": []
          },
          "execution_count": 43
        }
      ]
    },
    {
      "cell_type": "code",
      "metadata": {
        "id": "f7gQlyXzWh2F",
        "colab": {
          "base_uri": "https://localhost:8080/",
          "height": 252
        },
        "outputId": "24b61b3c-1655-44fe-a952-156d602e8c30"
      },
      "source": [
        "# 'students' sheet 에 있는 데이터 읽기\n",
        "print('Read Excel on students sheet')\n",
        "student_df = pd.read_excel(filepath2, sheet_name='students')\n",
        "student_df"
      ],
      "execution_count": null,
      "outputs": [
        {
          "output_type": "stream",
          "text": [
            "Read Excel on students sheet\n"
          ],
          "name": "stdout"
        },
        {
          "output_type": "execute_result",
          "data": {
            "text/html": [
              "<div>\n",
              "<style scoped>\n",
              "    .dataframe tbody tr th:only-of-type {\n",
              "        vertical-align: middle;\n",
              "    }\n",
              "\n",
              "    .dataframe tbody tr th {\n",
              "        vertical-align: top;\n",
              "    }\n",
              "\n",
              "    .dataframe thead th {\n",
              "        text-align: right;\n",
              "    }\n",
              "</style>\n",
              "<table border=\"1\" class=\"dataframe\">\n",
              "  <thead>\n",
              "    <tr style=\"text-align: right;\">\n",
              "      <th></th>\n",
              "      <th>name</th>\n",
              "      <th>age</th>\n",
              "      <th>etc1</th>\n",
              "      <th>etc2</th>\n",
              "      <th>etc3</th>\n",
              "      <th>email</th>\n",
              "    </tr>\n",
              "  </thead>\n",
              "  <tbody>\n",
              "    <tr>\n",
              "      <th>0</th>\n",
              "      <td>Lee</td>\n",
              "      <td>25</td>\n",
              "      <td>0.1</td>\n",
              "      <td>0.1</td>\n",
              "      <td>0.1</td>\n",
              "      <td>lee@codepresso.kr</td>\n",
              "    </tr>\n",
              "    <tr>\n",
              "      <th>1</th>\n",
              "      <td>Hwang</td>\n",
              "      <td>24</td>\n",
              "      <td>0.1</td>\n",
              "      <td>0.1</td>\n",
              "      <td>0.1</td>\n",
              "      <td>hwang@codepresso.kr</td>\n",
              "    </tr>\n",
              "    <tr>\n",
              "      <th>2</th>\n",
              "      <td>Kim</td>\n",
              "      <td>28</td>\n",
              "      <td>0.1</td>\n",
              "      <td>0.1</td>\n",
              "      <td>0.1</td>\n",
              "      <td>kim@codepresso.kr</td>\n",
              "    </tr>\n",
              "    <tr>\n",
              "      <th>3</th>\n",
              "      <td>Choi</td>\n",
              "      <td>27</td>\n",
              "      <td>0.1</td>\n",
              "      <td>0.1</td>\n",
              "      <td>0.1</td>\n",
              "      <td>choi@codepresso.kr</td>\n",
              "    </tr>\n",
              "    <tr>\n",
              "      <th>4</th>\n",
              "      <td>Park</td>\n",
              "      <td>21</td>\n",
              "      <td>0.1</td>\n",
              "      <td>0.1</td>\n",
              "      <td>0.1</td>\n",
              "      <td>park@codepresso.kr</td>\n",
              "    </tr>\n",
              "    <tr>\n",
              "      <th>5</th>\n",
              "      <td>Lim</td>\n",
              "      <td>20</td>\n",
              "      <td>0.1</td>\n",
              "      <td>0.1</td>\n",
              "      <td>0.1</td>\n",
              "      <td>lim@codepresso.kr</td>\n",
              "    </tr>\n",
              "  </tbody>\n",
              "</table>\n",
              "</div>"
            ],
            "text/plain": [
              "    name  age  etc1  etc2  etc3                email\n",
              "0    Lee   25   0.1   0.1   0.1    lee@codepresso.kr\n",
              "1  Hwang   24   0.1   0.1   0.1  hwang@codepresso.kr\n",
              "2    Kim   28   0.1   0.1   0.1    kim@codepresso.kr\n",
              "3   Choi   27   0.1   0.1   0.1   choi@codepresso.kr\n",
              "4   Park   21   0.1   0.1   0.1   park@codepresso.kr\n",
              "5    Lim   20   0.1   0.1   0.1    lim@codepresso.kr"
            ]
          },
          "metadata": {
            "tags": []
          },
          "execution_count": 45
        }
      ]
    },
    {
      "cell_type": "markdown",
      "metadata": {
        "id": "MM-tFHB8HM-T"
      },
      "source": [
        "## 데이터 전처리(1)"
      ]
    },
    {
      "cell_type": "markdown",
      "metadata": {
        "id": "pyXLGxOZHOdn"
      },
      "source": [
        "* 샘플데이터 생성"
      ]
    },
    {
      "cell_type": "code",
      "metadata": {
        "colab": {
          "base_uri": "https://localhost:8080/"
        },
        "id": "ew4EjJLQiAnJ",
        "outputId": "0839ff02-5aa3-4757-98fd-23bdf2830ed9"
      },
      "source": [
        "import pandas as pd\n",
        "import numpy as np\n",
        "\n",
        "# 실습 데이터 생성\n",
        "df = pd.DataFrame(data = np.arange(18).reshape(6,3),\n",
        "\t\t\t\t  index = ['a','b','c','d','e','f'],\n",
        "                  columns=['col1','col2','col3'])\n",
        "                  \n",
        "df['col4'] = pd.Series(data = [1.7, 1.2, 2.4], \n",
        "                       index = ['a','e','c'])\n",
        "df.loc['c'] = None\n",
        "\n",
        "# 실습 데이터 출력\n",
        "print(df)"
      ],
      "execution_count": 13,
      "outputs": [
        {
          "output_type": "stream",
          "text": [
            "   col1  col2  col3  col4\n",
            "a   0.0   1.0   2.0   1.7\n",
            "b   3.0   4.0   5.0   NaN\n",
            "c   NaN   NaN   NaN   NaN\n",
            "d   9.0  10.0  11.0   NaN\n",
            "e  12.0  13.0  14.0   1.2\n",
            "f  15.0  16.0  17.0   NaN\n"
          ],
          "name": "stdout"
        }
      ]
    },
    {
      "cell_type": "code",
      "metadata": {
        "id": "dvydmxI1jiWe",
        "colab": {
          "base_uri": "https://localhost:8080/"
        },
        "outputId": "a9d81f74-539a-4906-8994-67232f26df46"
      },
      "source": [
        "# df.info() 함수로 결측치 유무 확인하기\n",
        "print('#1 Summary of DataFrame')\n",
        "df.info()"
      ],
      "execution_count": null,
      "outputs": [
        {
          "output_type": "stream",
          "text": [
            "#1 Summary of DataFrame\n",
            "<class 'pandas.core.frame.DataFrame'>\n",
            "Index: 6 entries, a to f\n",
            "Data columns (total 4 columns):\n",
            " #   Column  Non-Null Count  Dtype  \n",
            "---  ------  --------------  -----  \n",
            " 0   col1    5 non-null      float64\n",
            " 1   col2    5 non-null      float64\n",
            " 2   col3    5 non-null      float64\n",
            " 3   col4    2 non-null      float64\n",
            "dtypes: float64(4)\n",
            "memory usage: 400.0+ bytes\n"
          ],
          "name": "stdout"
        }
      ]
    },
    {
      "cell_type": "code",
      "metadata": {
        "id": "8tXxWDoqHiPw",
        "colab": {
          "base_uri": "https://localhost:8080/"
        },
        "outputId": "dc289be9-9d50-41c3-c972-45234e705b81"
      },
      "source": [
        "# df.isnull() 함수로 결측치 유무 확인하기\n",
        "print('#2 isnull of DataFrame')\n",
        "print(df.isnull())\n"
      ],
      "execution_count": null,
      "outputs": [
        {
          "output_type": "stream",
          "text": [
            "#2 isnull of DataFrame\n",
            "    col1   col2   col3   col4\n",
            "a  False  False  False  False\n",
            "b  False  False  False   True\n",
            "c   True   True   True   True\n",
            "d  False  False  False   True\n",
            "e  False  False  False  False\n",
            "f  False  False  False   True\n"
          ],
          "name": "stdout"
        }
      ]
    },
    {
      "cell_type": "code",
      "metadata": {
        "id": "PiStPJsxjdrp",
        "colab": {
          "base_uri": "https://localhost:8080/"
        },
        "outputId": "82488937-8f66-40bf-f42d-f785441ed10e"
      },
      "source": [
        "print('#4 Sum of all missing values per columns')\n",
        "df.isnull().sum()"
      ],
      "execution_count": null,
      "outputs": [
        {
          "output_type": "stream",
          "text": [
            "#4 Sum of all missing values per columns\n"
          ],
          "name": "stdout"
        },
        {
          "output_type": "execute_result",
          "data": {
            "text/plain": [
              "col1    1\n",
              "col2    1\n",
              "col3    1\n",
              "col4    4\n",
              "dtype: int64"
            ]
          },
          "metadata": {
            "tags": []
          },
          "execution_count": 51
        }
      ]
    },
    {
      "cell_type": "code",
      "metadata": {
        "id": "b6uRlTlHHqCK",
        "colab": {
          "base_uri": "https://localhost:8080/"
        },
        "outputId": "26c1d537-a425-4bd5-a0d6-ea384c57cf56"
      },
      "source": [
        "print('#5 Sum of all missing values per rows')\n",
        "df.isnull().sum(axis=1)"
      ],
      "execution_count": null,
      "outputs": [
        {
          "output_type": "stream",
          "text": [
            "#5 Sum of all missing values per rows\n"
          ],
          "name": "stdout"
        },
        {
          "output_type": "execute_result",
          "data": {
            "text/plain": [
              "a    0\n",
              "b    1\n",
              "c    4\n",
              "d    1\n",
              "e    0\n",
              "f    1\n",
              "dtype: int64"
            ]
          },
          "metadata": {
            "tags": []
          },
          "execution_count": 50
        }
      ]
    },
    {
      "cell_type": "markdown",
      "metadata": {
        "id": "w3Ip6LuHJJ_H"
      },
      "source": [
        "## 데이터 전처리(2)"
      ]
    },
    {
      "cell_type": "code",
      "metadata": {
        "colab": {
          "base_uri": "https://localhost:8080/"
        },
        "id": "sJ76CXceD5pQ",
        "outputId": "dc1046e3-5f3e-4892-d331-7d24a9fce778"
      },
      "source": [
        "df.isnull().sum()"
      ],
      "execution_count": 4,
      "outputs": [
        {
          "output_type": "execute_result",
          "data": {
            "text/plain": [
              "col1    1\n",
              "col2    1\n",
              "col3    1\n",
              "col4    4\n",
              "dtype: int64"
            ]
          },
          "metadata": {
            "tags": []
          },
          "execution_count": 4
        }
      ]
    },
    {
      "cell_type": "code",
      "metadata": {
        "id": "VdhnQABcmm60",
        "colab": {
          "base_uri": "https://localhost:8080/",
          "height": 221
        },
        "outputId": "1500329a-8a98-408c-943a-a4bab0f0d879"
      },
      "source": [
        "# 행을 기준으로 결측치 조회하여 제거하기\n",
        "print('#1 Remove missing values')\n",
        "df.dropna(how='all')\n",
        "#print(df)"
      ],
      "execution_count": 8,
      "outputs": [
        {
          "output_type": "stream",
          "text": [
            "#1 Remove missing values\n"
          ],
          "name": "stdout"
        },
        {
          "output_type": "execute_result",
          "data": {
            "text/html": [
              "<div>\n",
              "<style scoped>\n",
              "    .dataframe tbody tr th:only-of-type {\n",
              "        vertical-align: middle;\n",
              "    }\n",
              "\n",
              "    .dataframe tbody tr th {\n",
              "        vertical-align: top;\n",
              "    }\n",
              "\n",
              "    .dataframe thead th {\n",
              "        text-align: right;\n",
              "    }\n",
              "</style>\n",
              "<table border=\"1\" class=\"dataframe\">\n",
              "  <thead>\n",
              "    <tr style=\"text-align: right;\">\n",
              "      <th></th>\n",
              "      <th>col1</th>\n",
              "      <th>col2</th>\n",
              "      <th>col3</th>\n",
              "      <th>col4</th>\n",
              "    </tr>\n",
              "  </thead>\n",
              "  <tbody>\n",
              "    <tr>\n",
              "      <th>a</th>\n",
              "      <td>0.0</td>\n",
              "      <td>1.0</td>\n",
              "      <td>2.0</td>\n",
              "      <td>1.7</td>\n",
              "    </tr>\n",
              "    <tr>\n",
              "      <th>b</th>\n",
              "      <td>3.0</td>\n",
              "      <td>4.0</td>\n",
              "      <td>5.0</td>\n",
              "      <td>NaN</td>\n",
              "    </tr>\n",
              "    <tr>\n",
              "      <th>d</th>\n",
              "      <td>9.0</td>\n",
              "      <td>10.0</td>\n",
              "      <td>11.0</td>\n",
              "      <td>NaN</td>\n",
              "    </tr>\n",
              "    <tr>\n",
              "      <th>e</th>\n",
              "      <td>12.0</td>\n",
              "      <td>13.0</td>\n",
              "      <td>14.0</td>\n",
              "      <td>1.2</td>\n",
              "    </tr>\n",
              "    <tr>\n",
              "      <th>f</th>\n",
              "      <td>15.0</td>\n",
              "      <td>16.0</td>\n",
              "      <td>17.0</td>\n",
              "      <td>NaN</td>\n",
              "    </tr>\n",
              "  </tbody>\n",
              "</table>\n",
              "</div>"
            ],
            "text/plain": [
              "   col1  col2  col3  col4\n",
              "a   0.0   1.0   2.0   1.7\n",
              "b   3.0   4.0   5.0   NaN\n",
              "d   9.0  10.0  11.0   NaN\n",
              "e  12.0  13.0  14.0   1.2\n",
              "f  15.0  16.0  17.0   NaN"
            ]
          },
          "metadata": {
            "tags": []
          },
          "execution_count": 8
        }
      ]
    },
    {
      "cell_type": "code",
      "metadata": {
        "id": "lF0R4KC_nryi",
        "colab": {
          "base_uri": "https://localhost:8080/",
          "height": 221
        },
        "outputId": "85669a34-0acc-4c48-d465-55f49eac1de0"
      },
      "source": [
        "# 원본데이터에 반영\n",
        "print('#2 Remove missing values with inpalce=True')\n",
        "df.dropna(how='all', inplace=True)\n",
        "df"
      ],
      "execution_count": 14,
      "outputs": [
        {
          "output_type": "stream",
          "text": [
            "#2 Remove missing values with inpalce=True\n"
          ],
          "name": "stdout"
        },
        {
          "output_type": "execute_result",
          "data": {
            "text/html": [
              "<div>\n",
              "<style scoped>\n",
              "    .dataframe tbody tr th:only-of-type {\n",
              "        vertical-align: middle;\n",
              "    }\n",
              "\n",
              "    .dataframe tbody tr th {\n",
              "        vertical-align: top;\n",
              "    }\n",
              "\n",
              "    .dataframe thead th {\n",
              "        text-align: right;\n",
              "    }\n",
              "</style>\n",
              "<table border=\"1\" class=\"dataframe\">\n",
              "  <thead>\n",
              "    <tr style=\"text-align: right;\">\n",
              "      <th></th>\n",
              "      <th>col1</th>\n",
              "      <th>col2</th>\n",
              "      <th>col3</th>\n",
              "      <th>col4</th>\n",
              "    </tr>\n",
              "  </thead>\n",
              "  <tbody>\n",
              "    <tr>\n",
              "      <th>a</th>\n",
              "      <td>0.0</td>\n",
              "      <td>1.0</td>\n",
              "      <td>2.0</td>\n",
              "      <td>1.7</td>\n",
              "    </tr>\n",
              "    <tr>\n",
              "      <th>b</th>\n",
              "      <td>3.0</td>\n",
              "      <td>4.0</td>\n",
              "      <td>5.0</td>\n",
              "      <td>NaN</td>\n",
              "    </tr>\n",
              "    <tr>\n",
              "      <th>d</th>\n",
              "      <td>9.0</td>\n",
              "      <td>10.0</td>\n",
              "      <td>11.0</td>\n",
              "      <td>NaN</td>\n",
              "    </tr>\n",
              "    <tr>\n",
              "      <th>e</th>\n",
              "      <td>12.0</td>\n",
              "      <td>13.0</td>\n",
              "      <td>14.0</td>\n",
              "      <td>1.2</td>\n",
              "    </tr>\n",
              "    <tr>\n",
              "      <th>f</th>\n",
              "      <td>15.0</td>\n",
              "      <td>16.0</td>\n",
              "      <td>17.0</td>\n",
              "      <td>NaN</td>\n",
              "    </tr>\n",
              "  </tbody>\n",
              "</table>\n",
              "</div>"
            ],
            "text/plain": [
              "   col1  col2  col3  col4\n",
              "a   0.0   1.0   2.0   1.7\n",
              "b   3.0   4.0   5.0   NaN\n",
              "d   9.0  10.0  11.0   NaN\n",
              "e  12.0  13.0  14.0   1.2\n",
              "f  15.0  16.0  17.0   NaN"
            ]
          },
          "metadata": {
            "tags": []
          },
          "execution_count": 14
        }
      ]
    },
    {
      "cell_type": "code",
      "metadata": {
        "id": "SpOfvr0boeao",
        "colab": {
          "base_uri": "https://localhost:8080/",
          "height": 221
        },
        "outputId": "5c4a74b5-15ff-4318-b98b-2ca8c90b5e25"
      },
      "source": [
        "# 열을 기준으로 결측치 조회하여 제거하기\n",
        "print('#3 Remove missing values in columns')\n",
        "df.dropna(axis='columns', how='all')"
      ],
      "execution_count": 15,
      "outputs": [
        {
          "output_type": "stream",
          "text": [
            "#3 Remove missing values in columns\n"
          ],
          "name": "stdout"
        },
        {
          "output_type": "execute_result",
          "data": {
            "text/html": [
              "<div>\n",
              "<style scoped>\n",
              "    .dataframe tbody tr th:only-of-type {\n",
              "        vertical-align: middle;\n",
              "    }\n",
              "\n",
              "    .dataframe tbody tr th {\n",
              "        vertical-align: top;\n",
              "    }\n",
              "\n",
              "    .dataframe thead th {\n",
              "        text-align: right;\n",
              "    }\n",
              "</style>\n",
              "<table border=\"1\" class=\"dataframe\">\n",
              "  <thead>\n",
              "    <tr style=\"text-align: right;\">\n",
              "      <th></th>\n",
              "      <th>col1</th>\n",
              "      <th>col2</th>\n",
              "      <th>col3</th>\n",
              "      <th>col4</th>\n",
              "    </tr>\n",
              "  </thead>\n",
              "  <tbody>\n",
              "    <tr>\n",
              "      <th>a</th>\n",
              "      <td>0.0</td>\n",
              "      <td>1.0</td>\n",
              "      <td>2.0</td>\n",
              "      <td>1.7</td>\n",
              "    </tr>\n",
              "    <tr>\n",
              "      <th>b</th>\n",
              "      <td>3.0</td>\n",
              "      <td>4.0</td>\n",
              "      <td>5.0</td>\n",
              "      <td>NaN</td>\n",
              "    </tr>\n",
              "    <tr>\n",
              "      <th>d</th>\n",
              "      <td>9.0</td>\n",
              "      <td>10.0</td>\n",
              "      <td>11.0</td>\n",
              "      <td>NaN</td>\n",
              "    </tr>\n",
              "    <tr>\n",
              "      <th>e</th>\n",
              "      <td>12.0</td>\n",
              "      <td>13.0</td>\n",
              "      <td>14.0</td>\n",
              "      <td>1.2</td>\n",
              "    </tr>\n",
              "    <tr>\n",
              "      <th>f</th>\n",
              "      <td>15.0</td>\n",
              "      <td>16.0</td>\n",
              "      <td>17.0</td>\n",
              "      <td>NaN</td>\n",
              "    </tr>\n",
              "  </tbody>\n",
              "</table>\n",
              "</div>"
            ],
            "text/plain": [
              "   col1  col2  col3  col4\n",
              "a   0.0   1.0   2.0   1.7\n",
              "b   3.0   4.0   5.0   NaN\n",
              "d   9.0  10.0  11.0   NaN\n",
              "e  12.0  13.0  14.0   1.2\n",
              "f  15.0  16.0  17.0   NaN"
            ]
          },
          "metadata": {
            "tags": []
          },
          "execution_count": 15
        }
      ]
    },
    {
      "cell_type": "code",
      "metadata": {
        "id": "_ptvBaiDzk7e",
        "colab": {
          "base_uri": "https://localhost:8080/"
        },
        "outputId": "ccb93802-6989-468b-d90e-796ba2c0c5d8"
      },
      "source": [
        "# 실습 데이터 추가\n",
        "df.iloc[:2, 0] = np.nan\n",
        "df.iloc[:4, 1] = np.nan\n",
        "print(df)"
      ],
      "execution_count": 16,
      "outputs": [
        {
          "output_type": "stream",
          "text": [
            "   col1  col2  col3  col4\n",
            "a   NaN   NaN   2.0   1.7\n",
            "b   NaN   NaN   5.0   NaN\n",
            "d   9.0   NaN  11.0   NaN\n",
            "e  12.0   NaN  14.0   1.2\n",
            "f  15.0  16.0  17.0   NaN\n"
          ],
          "name": "stdout"
        }
      ]
    },
    {
      "cell_type": "code",
      "metadata": {
        "id": "3ngZnrfIzmCn",
        "colab": {
          "base_uri": "https://localhost:8080/",
          "height": 221
        },
        "outputId": "d6e81baa-0b97-4bec-b608-7c77da16b8ed"
      },
      "source": [
        "# 결측값을 0 으로 대체하기\n",
        "print('#4 Replace missing values')\n",
        "df.fillna(0)"
      ],
      "execution_count": 17,
      "outputs": [
        {
          "output_type": "stream",
          "text": [
            "#4 Replace missing values\n"
          ],
          "name": "stdout"
        },
        {
          "output_type": "execute_result",
          "data": {
            "text/html": [
              "<div>\n",
              "<style scoped>\n",
              "    .dataframe tbody tr th:only-of-type {\n",
              "        vertical-align: middle;\n",
              "    }\n",
              "\n",
              "    .dataframe tbody tr th {\n",
              "        vertical-align: top;\n",
              "    }\n",
              "\n",
              "    .dataframe thead th {\n",
              "        text-align: right;\n",
              "    }\n",
              "</style>\n",
              "<table border=\"1\" class=\"dataframe\">\n",
              "  <thead>\n",
              "    <tr style=\"text-align: right;\">\n",
              "      <th></th>\n",
              "      <th>col1</th>\n",
              "      <th>col2</th>\n",
              "      <th>col3</th>\n",
              "      <th>col4</th>\n",
              "    </tr>\n",
              "  </thead>\n",
              "  <tbody>\n",
              "    <tr>\n",
              "      <th>a</th>\n",
              "      <td>0.0</td>\n",
              "      <td>0.0</td>\n",
              "      <td>2.0</td>\n",
              "      <td>1.7</td>\n",
              "    </tr>\n",
              "    <tr>\n",
              "      <th>b</th>\n",
              "      <td>0.0</td>\n",
              "      <td>0.0</td>\n",
              "      <td>5.0</td>\n",
              "      <td>0.0</td>\n",
              "    </tr>\n",
              "    <tr>\n",
              "      <th>d</th>\n",
              "      <td>9.0</td>\n",
              "      <td>0.0</td>\n",
              "      <td>11.0</td>\n",
              "      <td>0.0</td>\n",
              "    </tr>\n",
              "    <tr>\n",
              "      <th>e</th>\n",
              "      <td>12.0</td>\n",
              "      <td>0.0</td>\n",
              "      <td>14.0</td>\n",
              "      <td>1.2</td>\n",
              "    </tr>\n",
              "    <tr>\n",
              "      <th>f</th>\n",
              "      <td>15.0</td>\n",
              "      <td>16.0</td>\n",
              "      <td>17.0</td>\n",
              "      <td>0.0</td>\n",
              "    </tr>\n",
              "  </tbody>\n",
              "</table>\n",
              "</div>"
            ],
            "text/plain": [
              "   col1  col2  col3  col4\n",
              "a   0.0   0.0   2.0   1.7\n",
              "b   0.0   0.0   5.0   0.0\n",
              "d   9.0   0.0  11.0   0.0\n",
              "e  12.0   0.0  14.0   1.2\n",
              "f  15.0  16.0  17.0   0.0"
            ]
          },
          "metadata": {
            "tags": []
          },
          "execution_count": 17
        }
      ]
    },
    {
      "cell_type": "code",
      "metadata": {
        "id": "wjsSVlGc70bg"
      },
      "source": [
        "# 딕셔너리를 활용한 컬럼별 대체값 지정하기\n",
        "print('#5 Replace missing values')\n",
        "replace_set = {'col2':0, 'col4':'100'}\n"
      ],
      "execution_count": null,
      "outputs": []
    },
    {
      "cell_type": "code",
      "metadata": {
        "id": "F6dzT0XI718k",
        "colab": {
          "base_uri": "https://localhost:8080/",
          "height": 221
        },
        "outputId": "499e5a36-7d66-4103-c5ef-ce4165c0a381"
      },
      "source": [
        "print('#6 Replace missing values')\n",
        "replace_set = {'col1':df['col1'].mean()}\n",
        "df.fillna(replace_set, inplace=True)\n",
        "df"
      ],
      "execution_count": 19,
      "outputs": [
        {
          "output_type": "stream",
          "text": [
            "#6 Replace missing values\n"
          ],
          "name": "stdout"
        },
        {
          "output_type": "execute_result",
          "data": {
            "text/html": [
              "<div>\n",
              "<style scoped>\n",
              "    .dataframe tbody tr th:only-of-type {\n",
              "        vertical-align: middle;\n",
              "    }\n",
              "\n",
              "    .dataframe tbody tr th {\n",
              "        vertical-align: top;\n",
              "    }\n",
              "\n",
              "    .dataframe thead th {\n",
              "        text-align: right;\n",
              "    }\n",
              "</style>\n",
              "<table border=\"1\" class=\"dataframe\">\n",
              "  <thead>\n",
              "    <tr style=\"text-align: right;\">\n",
              "      <th></th>\n",
              "      <th>col1</th>\n",
              "      <th>col2</th>\n",
              "      <th>col3</th>\n",
              "      <th>col4</th>\n",
              "    </tr>\n",
              "  </thead>\n",
              "  <tbody>\n",
              "    <tr>\n",
              "      <th>a</th>\n",
              "      <td>12.0</td>\n",
              "      <td>NaN</td>\n",
              "      <td>2.0</td>\n",
              "      <td>1.7</td>\n",
              "    </tr>\n",
              "    <tr>\n",
              "      <th>b</th>\n",
              "      <td>12.0</td>\n",
              "      <td>NaN</td>\n",
              "      <td>5.0</td>\n",
              "      <td>NaN</td>\n",
              "    </tr>\n",
              "    <tr>\n",
              "      <th>d</th>\n",
              "      <td>9.0</td>\n",
              "      <td>NaN</td>\n",
              "      <td>11.0</td>\n",
              "      <td>NaN</td>\n",
              "    </tr>\n",
              "    <tr>\n",
              "      <th>e</th>\n",
              "      <td>12.0</td>\n",
              "      <td>NaN</td>\n",
              "      <td>14.0</td>\n",
              "      <td>1.2</td>\n",
              "    </tr>\n",
              "    <tr>\n",
              "      <th>f</th>\n",
              "      <td>15.0</td>\n",
              "      <td>16.0</td>\n",
              "      <td>17.0</td>\n",
              "      <td>NaN</td>\n",
              "    </tr>\n",
              "  </tbody>\n",
              "</table>\n",
              "</div>"
            ],
            "text/plain": [
              "   col1  col2  col3  col4\n",
              "a  12.0   NaN   2.0   1.7\n",
              "b  12.0   NaN   5.0   NaN\n",
              "d   9.0   NaN  11.0   NaN\n",
              "e  12.0   NaN  14.0   1.2\n",
              "f  15.0  16.0  17.0   NaN"
            ]
          },
          "metadata": {
            "tags": []
          },
          "execution_count": 19
        }
      ]
    },
    {
      "cell_type": "markdown",
      "metadata": {
        "id": "jxwWG6UZKi-a"
      },
      "source": [
        "## 데이터 인덱싱"
      ]
    },
    {
      "cell_type": "code",
      "metadata": {
        "id": "vxq2oTkw84Lx",
        "colab": {
          "base_uri": "https://localhost:8080/"
        },
        "outputId": "63933033-e7de-4f3a-a571-fb78cfcc4b18"
      },
      "source": [
        "# 실습 데이터 생성\n",
        "d = {'name': ['Jessi', 'Emma', 'Alex', 'Jessi', 'Tom'],\n",
        "     'score': [100, 95, 80, 85, 97],\n",
        "     'grade': ['A', 'A', 'B', 'B', 'A'],\n",
        "     'subject':['python', 'java', 'python', 'c', 'java']}\n",
        "\n",
        "df = pd.DataFrame(data=d)\n",
        "\n",
        "# 실습 데이터 출력\n",
        "print(df)"
      ],
      "execution_count": 20,
      "outputs": [
        {
          "output_type": "stream",
          "text": [
            "    name  score grade subject\n",
            "0  Jessi    100     A  python\n",
            "1   Emma     95     A    java\n",
            "2   Alex     80     B  python\n",
            "3  Jessi     85     B       c\n",
            "4    Tom     97     A    java\n"
          ],
          "name": "stdout"
        }
      ]
    },
    {
      "cell_type": "code",
      "metadata": {
        "id": "18kCo79j-7uD",
        "colab": {
          "base_uri": "https://localhost:8080/",
          "height": 252
        },
        "outputId": "75eeebc9-31f6-4324-b996-465032afd847"
      },
      "source": [
        "# name 컬럼을 행 인덱스로 바꾸기\n",
        "print('#1 Set Index')\n",
        "df.set_index('name', inplace=True)\n",
        "df"
      ],
      "execution_count": 21,
      "outputs": [
        {
          "output_type": "stream",
          "text": [
            "#1 Set Index\n"
          ],
          "name": "stdout"
        },
        {
          "output_type": "execute_result",
          "data": {
            "text/html": [
              "<div>\n",
              "<style scoped>\n",
              "    .dataframe tbody tr th:only-of-type {\n",
              "        vertical-align: middle;\n",
              "    }\n",
              "\n",
              "    .dataframe tbody tr th {\n",
              "        vertical-align: top;\n",
              "    }\n",
              "\n",
              "    .dataframe thead th {\n",
              "        text-align: right;\n",
              "    }\n",
              "</style>\n",
              "<table border=\"1\" class=\"dataframe\">\n",
              "  <thead>\n",
              "    <tr style=\"text-align: right;\">\n",
              "      <th></th>\n",
              "      <th>score</th>\n",
              "      <th>grade</th>\n",
              "      <th>subject</th>\n",
              "    </tr>\n",
              "    <tr>\n",
              "      <th>name</th>\n",
              "      <th></th>\n",
              "      <th></th>\n",
              "      <th></th>\n",
              "    </tr>\n",
              "  </thead>\n",
              "  <tbody>\n",
              "    <tr>\n",
              "      <th>Jessi</th>\n",
              "      <td>100</td>\n",
              "      <td>A</td>\n",
              "      <td>python</td>\n",
              "    </tr>\n",
              "    <tr>\n",
              "      <th>Emma</th>\n",
              "      <td>95</td>\n",
              "      <td>A</td>\n",
              "      <td>java</td>\n",
              "    </tr>\n",
              "    <tr>\n",
              "      <th>Alex</th>\n",
              "      <td>80</td>\n",
              "      <td>B</td>\n",
              "      <td>python</td>\n",
              "    </tr>\n",
              "    <tr>\n",
              "      <th>Jessi</th>\n",
              "      <td>85</td>\n",
              "      <td>B</td>\n",
              "      <td>c</td>\n",
              "    </tr>\n",
              "    <tr>\n",
              "      <th>Tom</th>\n",
              "      <td>97</td>\n",
              "      <td>A</td>\n",
              "      <td>java</td>\n",
              "    </tr>\n",
              "  </tbody>\n",
              "</table>\n",
              "</div>"
            ],
            "text/plain": [
              "       score grade subject\n",
              "name                      \n",
              "Jessi    100     A  python\n",
              "Emma      95     A    java\n",
              "Alex      80     B  python\n",
              "Jessi     85     B       c\n",
              "Tom       97     A    java"
            ]
          },
          "metadata": {
            "tags": []
          },
          "execution_count": 21
        }
      ]
    },
    {
      "cell_type": "code",
      "metadata": {
        "id": "gq8DsosR_8sv",
        "colab": {
          "base_uri": "https://localhost:8080/",
          "height": 190
        },
        "outputId": "e170ef15-1109-422a-97bd-bb009c47d641"
      },
      "source": [
        "# loc[] 를 통해 행 데이터 조회하기\n",
        "print('#2 Access rows')\n",
        "subset = df.loc[['Jessi', 'Emma']]\n",
        "subset"
      ],
      "execution_count": 22,
      "outputs": [
        {
          "output_type": "stream",
          "text": [
            "#2 Access rows\n"
          ],
          "name": "stdout"
        },
        {
          "output_type": "execute_result",
          "data": {
            "text/html": [
              "<div>\n",
              "<style scoped>\n",
              "    .dataframe tbody tr th:only-of-type {\n",
              "        vertical-align: middle;\n",
              "    }\n",
              "\n",
              "    .dataframe tbody tr th {\n",
              "        vertical-align: top;\n",
              "    }\n",
              "\n",
              "    .dataframe thead th {\n",
              "        text-align: right;\n",
              "    }\n",
              "</style>\n",
              "<table border=\"1\" class=\"dataframe\">\n",
              "  <thead>\n",
              "    <tr style=\"text-align: right;\">\n",
              "      <th></th>\n",
              "      <th>score</th>\n",
              "      <th>grade</th>\n",
              "      <th>subject</th>\n",
              "    </tr>\n",
              "    <tr>\n",
              "      <th>name</th>\n",
              "      <th></th>\n",
              "      <th></th>\n",
              "      <th></th>\n",
              "    </tr>\n",
              "  </thead>\n",
              "  <tbody>\n",
              "    <tr>\n",
              "      <th>Jessi</th>\n",
              "      <td>100</td>\n",
              "      <td>A</td>\n",
              "      <td>python</td>\n",
              "    </tr>\n",
              "    <tr>\n",
              "      <th>Jessi</th>\n",
              "      <td>85</td>\n",
              "      <td>B</td>\n",
              "      <td>c</td>\n",
              "    </tr>\n",
              "    <tr>\n",
              "      <th>Emma</th>\n",
              "      <td>95</td>\n",
              "      <td>A</td>\n",
              "      <td>java</td>\n",
              "    </tr>\n",
              "  </tbody>\n",
              "</table>\n",
              "</div>"
            ],
            "text/plain": [
              "       score grade subject\n",
              "name                      \n",
              "Jessi    100     A  python\n",
              "Jessi     85     B       c\n",
              "Emma      95     A    java"
            ]
          },
          "metadata": {
            "tags": []
          },
          "execution_count": 22
        }
      ]
    },
    {
      "cell_type": "code",
      "metadata": {
        "id": "T-PfuKs3BU2P"
      },
      "source": [
        "# iloc[] 를 통해 행 데이터 조회하기\n",
        "print('#3 Access rows by index position')\n",
        "subset = ________________________\n",
        "subset"
      ],
      "execution_count": null,
      "outputs": []
    },
    {
      "cell_type": "code",
      "metadata": {
        "id": "5YylRqJCBXeB"
      },
      "source": [
        "# loc[] 의 활용 : Boolean Indexing\n",
        "print('#4 Access rows by boolean indexing')\n",
        "subset = ________________________\n",
        "subset"
      ],
      "execution_count": null,
      "outputs": []
    },
    {
      "cell_type": "code",
      "metadata": {
        "id": "l1EaZ3_0Hicq"
      },
      "source": [
        "# loc[] 의 활용 : Boolean Indexing\n",
        "print('#5 Access rows by boolean indexing')\n",
        "subset = ________________________\n",
        "subset"
      ],
      "execution_count": null,
      "outputs": []
    },
    {
      "cell_type": "markdown",
      "metadata": {
        "id": "6S313dpXLGcl"
      },
      "source": [
        "## 데이터 슬라이싱"
      ]
    },
    {
      "cell_type": "code",
      "metadata": {
        "id": "vHfW0sLALNp2",
        "colab": {
          "base_uri": "https://localhost:8080/"
        },
        "outputId": "d1f1b3b2-e97c-4c62-9e64-024e2752e1ac"
      },
      "source": [
        "# 실습 데이터 생성\n",
        "d = {'name': ['Jessi', 'Emma', 'Alex', 'Jessi', 'Tom'],\n",
        "     'score': [100, 95, 80, 85, 97],\n",
        "     'grade': ['A', 'A', 'B', 'B', 'A'],\n",
        "     'subject':['python', 'java', 'python', 'c', 'java']}\n",
        "\n",
        "sample_df = pd.DataFrame(data=d)\n",
        "sample_df.set_index('name', inplace=True)\n",
        "\n",
        "# 실습 데이터 출력\n",
        "print(sample_df)"
      ],
      "execution_count": 23,
      "outputs": [
        {
          "output_type": "stream",
          "text": [
            "       score grade subject\n",
            "name                      \n",
            "Jessi    100     A  python\n",
            "Emma      95     A    java\n",
            "Alex      80     B  python\n",
            "Jessi     85     B       c\n",
            "Tom       97     A    java\n"
          ],
          "name": "stdout"
        }
      ]
    },
    {
      "cell_type": "code",
      "metadata": {
        "id": "SaUODQWVLTuL",
        "colab": {
          "base_uri": "https://localhost:8080/",
          "height": 190
        },
        "outputId": "d8317ea9-1577-45d8-815d-fc838d79224f"
      },
      "source": [
        "print('#1 Access Rows by slicing')\n",
        "subset = sample_df[1:4]\n",
        "subset"
      ],
      "execution_count": 26,
      "outputs": [
        {
          "output_type": "stream",
          "text": [
            "#1 Access Rows by slicing\n"
          ],
          "name": "stdout"
        },
        {
          "output_type": "execute_result",
          "data": {
            "text/html": [
              "<div>\n",
              "<style scoped>\n",
              "    .dataframe tbody tr th:only-of-type {\n",
              "        vertical-align: middle;\n",
              "    }\n",
              "\n",
              "    .dataframe tbody tr th {\n",
              "        vertical-align: top;\n",
              "    }\n",
              "\n",
              "    .dataframe thead th {\n",
              "        text-align: right;\n",
              "    }\n",
              "</style>\n",
              "<table border=\"1\" class=\"dataframe\">\n",
              "  <thead>\n",
              "    <tr style=\"text-align: right;\">\n",
              "      <th></th>\n",
              "      <th>score</th>\n",
              "      <th>grade</th>\n",
              "      <th>subject</th>\n",
              "    </tr>\n",
              "    <tr>\n",
              "      <th>name</th>\n",
              "      <th></th>\n",
              "      <th></th>\n",
              "      <th></th>\n",
              "    </tr>\n",
              "  </thead>\n",
              "  <tbody>\n",
              "    <tr>\n",
              "      <th>Emma</th>\n",
              "      <td>95</td>\n",
              "      <td>A</td>\n",
              "      <td>java</td>\n",
              "    </tr>\n",
              "    <tr>\n",
              "      <th>Alex</th>\n",
              "      <td>80</td>\n",
              "      <td>B</td>\n",
              "      <td>python</td>\n",
              "    </tr>\n",
              "    <tr>\n",
              "      <th>Jessi</th>\n",
              "      <td>85</td>\n",
              "      <td>B</td>\n",
              "      <td>c</td>\n",
              "    </tr>\n",
              "  </tbody>\n",
              "</table>\n",
              "</div>"
            ],
            "text/plain": [
              "       score grade subject\n",
              "name                      \n",
              "Emma      95     A    java\n",
              "Alex      80     B  python\n",
              "Jessi     85     B       c"
            ]
          },
          "metadata": {
            "tags": []
          },
          "execution_count": 26
        }
      ]
    },
    {
      "cell_type": "code",
      "metadata": {
        "id": "UhYkPEG1LgGa",
        "colab": {
          "base_uri": "https://localhost:8080/",
          "height": 190
        },
        "outputId": "5e966fa9-f134-445a-f0c0-6094d51d6001"
      },
      "source": [
        "print('#2 Access Rows by slicing')\n",
        "subset = sample_df[::2]\n",
        "subset"
      ],
      "execution_count": 27,
      "outputs": [
        {
          "output_type": "stream",
          "text": [
            "#2 Access Rows by slicing\n"
          ],
          "name": "stdout"
        },
        {
          "output_type": "execute_result",
          "data": {
            "text/html": [
              "<div>\n",
              "<style scoped>\n",
              "    .dataframe tbody tr th:only-of-type {\n",
              "        vertical-align: middle;\n",
              "    }\n",
              "\n",
              "    .dataframe tbody tr th {\n",
              "        vertical-align: top;\n",
              "    }\n",
              "\n",
              "    .dataframe thead th {\n",
              "        text-align: right;\n",
              "    }\n",
              "</style>\n",
              "<table border=\"1\" class=\"dataframe\">\n",
              "  <thead>\n",
              "    <tr style=\"text-align: right;\">\n",
              "      <th></th>\n",
              "      <th>score</th>\n",
              "      <th>grade</th>\n",
              "      <th>subject</th>\n",
              "    </tr>\n",
              "    <tr>\n",
              "      <th>name</th>\n",
              "      <th></th>\n",
              "      <th></th>\n",
              "      <th></th>\n",
              "    </tr>\n",
              "  </thead>\n",
              "  <tbody>\n",
              "    <tr>\n",
              "      <th>Jessi</th>\n",
              "      <td>100</td>\n",
              "      <td>A</td>\n",
              "      <td>python</td>\n",
              "    </tr>\n",
              "    <tr>\n",
              "      <th>Alex</th>\n",
              "      <td>80</td>\n",
              "      <td>B</td>\n",
              "      <td>python</td>\n",
              "    </tr>\n",
              "    <tr>\n",
              "      <th>Tom</th>\n",
              "      <td>97</td>\n",
              "      <td>A</td>\n",
              "      <td>java</td>\n",
              "    </tr>\n",
              "  </tbody>\n",
              "</table>\n",
              "</div>"
            ],
            "text/plain": [
              "       score grade subject\n",
              "name                      \n",
              "Jessi    100     A  python\n",
              "Alex      80     B  python\n",
              "Tom       97     A    java"
            ]
          },
          "metadata": {
            "tags": []
          },
          "execution_count": 27
        }
      ]
    },
    {
      "cell_type": "code",
      "metadata": {
        "id": "yO3sqcyTLhIe",
        "colab": {
          "base_uri": "https://localhost:8080/",
          "height": 190
        },
        "outputId": "f2eee1c1-47e8-4954-de34-6dbcd7fc6535"
      },
      "source": [
        "print('#3 Access Rows by slicing')\n",
        "subset =sample_df[:'Alex']\n",
        "subset"
      ],
      "execution_count": 28,
      "outputs": [
        {
          "output_type": "stream",
          "text": [
            "#3 Access Rows by slicing\n"
          ],
          "name": "stdout"
        },
        {
          "output_type": "execute_result",
          "data": {
            "text/html": [
              "<div>\n",
              "<style scoped>\n",
              "    .dataframe tbody tr th:only-of-type {\n",
              "        vertical-align: middle;\n",
              "    }\n",
              "\n",
              "    .dataframe tbody tr th {\n",
              "        vertical-align: top;\n",
              "    }\n",
              "\n",
              "    .dataframe thead th {\n",
              "        text-align: right;\n",
              "    }\n",
              "</style>\n",
              "<table border=\"1\" class=\"dataframe\">\n",
              "  <thead>\n",
              "    <tr style=\"text-align: right;\">\n",
              "      <th></th>\n",
              "      <th>score</th>\n",
              "      <th>grade</th>\n",
              "      <th>subject</th>\n",
              "    </tr>\n",
              "    <tr>\n",
              "      <th>name</th>\n",
              "      <th></th>\n",
              "      <th></th>\n",
              "      <th></th>\n",
              "    </tr>\n",
              "  </thead>\n",
              "  <tbody>\n",
              "    <tr>\n",
              "      <th>Jessi</th>\n",
              "      <td>100</td>\n",
              "      <td>A</td>\n",
              "      <td>python</td>\n",
              "    </tr>\n",
              "    <tr>\n",
              "      <th>Emma</th>\n",
              "      <td>95</td>\n",
              "      <td>A</td>\n",
              "      <td>java</td>\n",
              "    </tr>\n",
              "    <tr>\n",
              "      <th>Alex</th>\n",
              "      <td>80</td>\n",
              "      <td>B</td>\n",
              "      <td>python</td>\n",
              "    </tr>\n",
              "  </tbody>\n",
              "</table>\n",
              "</div>"
            ],
            "text/plain": [
              "       score grade subject\n",
              "name                      \n",
              "Jessi    100     A  python\n",
              "Emma      95     A    java\n",
              "Alex      80     B  python"
            ]
          },
          "metadata": {
            "tags": []
          },
          "execution_count": 28
        }
      ]
    },
    {
      "cell_type": "code",
      "metadata": {
        "id": "0IEu0pr_Lio4",
        "colab": {
          "base_uri": "https://localhost:8080/",
          "height": 159
        },
        "outputId": "7ad39795-55c9-433f-e761-2a405321b138"
      },
      "source": [
        "print('#4 Access Rows by loc[slicing]')\n",
        "subset = sample_df.loc[:'Emma',['subject', 'grade']]\n",
        "subset"
      ],
      "execution_count": 31,
      "outputs": [
        {
          "output_type": "stream",
          "text": [
            "#4 Access Rows by loc[slicing]\n"
          ],
          "name": "stdout"
        },
        {
          "output_type": "execute_result",
          "data": {
            "text/html": [
              "<div>\n",
              "<style scoped>\n",
              "    .dataframe tbody tr th:only-of-type {\n",
              "        vertical-align: middle;\n",
              "    }\n",
              "\n",
              "    .dataframe tbody tr th {\n",
              "        vertical-align: top;\n",
              "    }\n",
              "\n",
              "    .dataframe thead th {\n",
              "        text-align: right;\n",
              "    }\n",
              "</style>\n",
              "<table border=\"1\" class=\"dataframe\">\n",
              "  <thead>\n",
              "    <tr style=\"text-align: right;\">\n",
              "      <th></th>\n",
              "      <th>subject</th>\n",
              "      <th>grade</th>\n",
              "    </tr>\n",
              "    <tr>\n",
              "      <th>name</th>\n",
              "      <th></th>\n",
              "      <th></th>\n",
              "    </tr>\n",
              "  </thead>\n",
              "  <tbody>\n",
              "    <tr>\n",
              "      <th>Jessi</th>\n",
              "      <td>python</td>\n",
              "      <td>A</td>\n",
              "    </tr>\n",
              "    <tr>\n",
              "      <th>Emma</th>\n",
              "      <td>java</td>\n",
              "      <td>A</td>\n",
              "    </tr>\n",
              "  </tbody>\n",
              "</table>\n",
              "</div>"
            ],
            "text/plain": [
              "      subject grade\n",
              "name               \n",
              "Jessi  python     A\n",
              "Emma     java     A"
            ]
          },
          "metadata": {
            "tags": []
          },
          "execution_count": 31
        }
      ]
    },
    {
      "cell_type": "code",
      "metadata": {
        "id": "PV65qiRNLjxt",
        "colab": {
          "base_uri": "https://localhost:8080/"
        },
        "outputId": "83ece151-51c0-47ec-8f98-69427d42f73c"
      },
      "source": [
        "print('#5 Access Rows by iloc[slicing]')\n",
        "subset = sample_df.iloc[:4,-1]\n",
        "subset"
      ],
      "execution_count": 32,
      "outputs": [
        {
          "output_type": "stream",
          "text": [
            "#5 Access Rows by iloc[slicing]\n"
          ],
          "name": "stdout"
        },
        {
          "output_type": "execute_result",
          "data": {
            "text/plain": [
              "name\n",
              "Jessi    python\n",
              "Emma       java\n",
              "Alex     python\n",
              "Jessi         c\n",
              "Name: subject, dtype: object"
            ]
          },
          "metadata": {
            "tags": []
          },
          "execution_count": 32
        }
      ]
    },
    {
      "cell_type": "markdown",
      "metadata": {
        "id": "UewM_GzbLoli"
      },
      "source": [
        "## Pandas 의 집계함수"
      ]
    },
    {
      "cell_type": "code",
      "metadata": {
        "id": "tCjM6mY-Lrg7",
        "colab": {
          "base_uri": "https://localhost:8080/"
        },
        "outputId": "6c13889e-3518-4a31-b147-a4a9314d9225"
      },
      "source": [
        "# 실습 데이터 생성\n",
        "score = {'sub1': [3, 9, 1, 1, 9],\n",
        "         'sub2': [2, 9, np.nan, np.nan, 8],\n",
        "         'sub3': [np.nan, 1, 5, 5, 7],\n",
        "         'sub4': [np.nan, 3, np.nan, 1, np.nan]}\n",
        "\n",
        "df = pd.DataFrame(data=score)\n",
        "\n",
        "# 실습 데이터 출력\n",
        "print(df)"
      ],
      "execution_count": 33,
      "outputs": [
        {
          "output_type": "stream",
          "text": [
            "   sub1  sub2  sub3  sub4\n",
            "0     3   2.0   NaN   NaN\n",
            "1     9   9.0   1.0   3.0\n",
            "2     1   NaN   5.0   NaN\n",
            "3     1   NaN   5.0   1.0\n",
            "4     9   8.0   7.0   NaN\n"
          ],
          "name": "stdout"
        }
      ]
    },
    {
      "cell_type": "code",
      "metadata": {
        "id": "mVkD0rvLL1ve",
        "colab": {
          "base_uri": "https://localhost:8080/"
        },
        "outputId": "40d7cd2f-f369-4121-e761-c4db3df65e45"
      },
      "source": [
        "print('#1 Count Function')\n",
        "df.count()"
      ],
      "execution_count": 34,
      "outputs": [
        {
          "output_type": "stream",
          "text": [
            "#1 Count Function\n"
          ],
          "name": "stdout"
        },
        {
          "output_type": "execute_result",
          "data": {
            "text/plain": [
              "sub1    5\n",
              "sub2    3\n",
              "sub3    4\n",
              "sub4    2\n",
              "dtype: int64"
            ]
          },
          "metadata": {
            "tags": []
          },
          "execution_count": 34
        }
      ]
    },
    {
      "cell_type": "code",
      "metadata": {
        "id": "XoX8sli_L4PG",
        "colab": {
          "base_uri": "https://localhost:8080/"
        },
        "outputId": "66976cb6-c6e9-43f1-e2e8-e9d6e344da1c"
      },
      "source": [
        "print('#2 Count Function with axis=1')\n",
        "df.count(axis=1)"
      ],
      "execution_count": 35,
      "outputs": [
        {
          "output_type": "stream",
          "text": [
            "#2 Count Function with axis=1\n"
          ],
          "name": "stdout"
        },
        {
          "output_type": "execute_result",
          "data": {
            "text/plain": [
              "0    2\n",
              "1    4\n",
              "2    2\n",
              "3    3\n",
              "4    3\n",
              "dtype: int64"
            ]
          },
          "metadata": {
            "tags": []
          },
          "execution_count": 35
        }
      ]
    },
    {
      "cell_type": "code",
      "metadata": {
        "id": "U6XgdVxFL42n",
        "colab": {
          "base_uri": "https://localhost:8080/"
        },
        "outputId": "819330b6-347b-4963-cddc-83fb6c2f880e"
      },
      "source": [
        "print('#3 Sum Function')\n",
        "print(df.sum())"
      ],
      "execution_count": 36,
      "outputs": [
        {
          "output_type": "stream",
          "text": [
            "#3 Sum Function\n",
            "sub1    23.0\n",
            "sub2    19.0\n",
            "sub3    18.0\n",
            "sub4     4.0\n",
            "dtype: float64\n"
          ],
          "name": "stdout"
        }
      ]
    },
    {
      "cell_type": "code",
      "metadata": {
        "id": "kHFwcT5rL7qA",
        "colab": {
          "base_uri": "https://localhost:8080/"
        },
        "outputId": "e69de5e8-2ecb-479c-b2fc-4cee1dfd746b"
      },
      "source": [
        "print('#4 Sum Function with skipna')\n",
        "print(df.sum(skipna=False))"
      ],
      "execution_count": 40,
      "outputs": [
        {
          "output_type": "stream",
          "text": [
            "#4 Sum Function with skipna\n",
            "sub1    23.0\n",
            "sub2     NaN\n",
            "sub3     NaN\n",
            "sub4     NaN\n",
            "dtype: float64\n"
          ],
          "name": "stdout"
        }
      ]
    },
    {
      "cell_type": "markdown",
      "metadata": {
        "id": "3zpMGW2gL9_8"
      },
      "source": [
        "## 데이터 그룹화"
      ]
    },
    {
      "cell_type": "code",
      "metadata": {
        "id": "u2KCWsnxMIJ-",
        "colab": {
          "base_uri": "https://localhost:8080/"
        },
        "outputId": "4ecd4c3b-4f4b-45ea-be22-d759960c84d6"
      },
      "source": [
        "# 실습 데이터 생성\n",
        "sample = {'product':['a','b','a','b','a','b','a','a'],\n",
        "          'sensor':['s1','s1','s2','s3','s2','s2','s1','s3'],\n",
        "          'x':np.arange(1,9),\n",
        "          'y':np.arange(5,13)}\n",
        "\n",
        "df = pd.DataFrame(data=sample)\n",
        "\n",
        "# 실습 데이터 출력\n",
        "print(df)"
      ],
      "execution_count": 50,
      "outputs": [
        {
          "output_type": "stream",
          "text": [
            "  product sensor  x   y\n",
            "0       a     s1  1   5\n",
            "1       b     s1  2   6\n",
            "2       a     s2  3   7\n",
            "3       b     s3  4   8\n",
            "4       a     s2  5   9\n",
            "5       b     s2  6  10\n",
            "6       a     s1  7  11\n",
            "7       a     s3  8  12\n"
          ],
          "name": "stdout"
        }
      ]
    },
    {
      "cell_type": "code",
      "metadata": {
        "id": "8n9S0iJvMIEK",
        "colab": {
          "base_uri": "https://localhost:8080/"
        },
        "outputId": "6dd90778-503d-4d39-9484-4907aee8fce7"
      },
      "source": [
        "# product 컬럼 기준으로 그룹화하기\n",
        "print('#1 groupby-product')\n",
        "grouped_product = df.groupby('product')\n",
        "grouped_product"
      ],
      "execution_count": 51,
      "outputs": [
        {
          "output_type": "stream",
          "text": [
            "#1 groupby-product\n"
          ],
          "name": "stdout"
        },
        {
          "output_type": "execute_result",
          "data": {
            "text/plain": [
              "<pandas.core.groupby.generic.DataFrameGroupBy object at 0x7f3f41a6e910>"
            ]
          },
          "metadata": {
            "tags": []
          },
          "execution_count": 51
        }
      ]
    },
    {
      "cell_type": "code",
      "metadata": {
        "id": "zm3DJ5mpMVQf",
        "colab": {
          "base_uri": "https://localhost:8080/"
        },
        "outputId": "4c53c784-d4cc-4ad8-eb0e-15d86d1f0879"
      },
      "source": [
        "# grouped_product 에 저장된 key와 value 출력하기\n",
        "print('#2 key & value')\n",
        "for key, value in grouped_product:\n",
        "      print(\"-----------------------\")\n",
        "      print(\"key :\", key)\n",
        "      print(\"value :\\n\", value)"
      ],
      "execution_count": 52,
      "outputs": [
        {
          "output_type": "stream",
          "text": [
            "#2 key & value\n",
            "-----------------------\n",
            "key : a\n",
            "value :\n",
            "   product sensor  x   y\n",
            "0       a     s1  1   5\n",
            "2       a     s2  3   7\n",
            "4       a     s2  5   9\n",
            "6       a     s1  7  11\n",
            "7       a     s3  8  12\n",
            "-----------------------\n",
            "key : b\n",
            "value :\n",
            "   product sensor  x   y\n",
            "1       b     s1  2   6\n",
            "3       b     s3  4   8\n",
            "5       b     s2  6  10\n"
          ],
          "name": "stdout"
        }
      ]
    },
    {
      "cell_type": "code",
      "metadata": {
        "id": "FrmBnRJrMVgI",
        "colab": {
          "base_uri": "https://localhost:8080/"
        },
        "outputId": "ad9654ad-a36d-4e30-bae9-5b1f23e0878c"
      },
      "source": [
        "# groupby 결과에 집계함수 적용하기\n",
        "print('#3 groupby-product')\n",
        "grouped_product = df.groupby(\"product\").sum().sum(axis=1)\n",
        "grouped_product"
      ],
      "execution_count": 96,
      "outputs": [
        {
          "output_type": "stream",
          "text": [
            "#3 groupby-product\n"
          ],
          "name": "stdout"
        },
        {
          "output_type": "execute_result",
          "data": {
            "text/plain": [
              "product\n",
              "a    68\n",
              "b    36\n",
              "dtype: int64"
            ]
          },
          "metadata": {
            "tags": []
          },
          "execution_count": 96
        }
      ]
    },
    {
      "cell_type": "code",
      "metadata": {
        "id": "J0dtv3poMVue",
        "colab": {
          "base_uri": "https://localhost:8080/"
        },
        "outputId": "3c277a33-a3f6-48d8-8e8e-3b1651b45098"
      },
      "source": [
        "# product, sensor 기준으로 그룹화하기\n",
        "# 그룹화한 뒤 x 컬럼에 대해서만 집계함수 적용하기\n",
        "print('#4 groupby-product,sensor')\n",
        "grouped_product = df.groupby(['product', 'sensor'])['x'].sum()\n",
        "grouped_product"
      ],
      "execution_count": 58,
      "outputs": [
        {
          "output_type": "stream",
          "text": [
            "#4 groupby-product,sensor\n"
          ],
          "name": "stdout"
        },
        {
          "output_type": "execute_result",
          "data": {
            "text/plain": [
              "product  sensor\n",
              "a        s1        8\n",
              "         s2        8\n",
              "         s3        8\n",
              "b        s1        2\n",
              "         s2        6\n",
              "         s3        4\n",
              "Name: x, dtype: int64"
            ]
          },
          "metadata": {
            "tags": []
          },
          "execution_count": 58
        }
      ]
    },
    {
      "cell_type": "code",
      "metadata": {
        "id": "5shQ_cEMMdN0",
        "colab": {
          "base_uri": "https://localhost:8080/",
          "height": 283
        },
        "outputId": "c2ff1429-4dd7-4b3a-ed78-8aab41972917"
      },
      "source": [
        "# 그룹화한 뒤 x 컬럼에 대해서만 집계함수 적용하기\n",
        "print('#6 groupby-product,sensor')\n",
        "condition = {'x':'max', 'y':'min'}\n",
        "grouped_product =  df.groupby(['product','sensor']).agg(condition)\n",
        "grouped_product"
      ],
      "execution_count": 59,
      "outputs": [
        {
          "output_type": "stream",
          "text": [
            "#6 groupby-product,sensor\n"
          ],
          "name": "stdout"
        },
        {
          "output_type": "execute_result",
          "data": {
            "text/html": [
              "<div>\n",
              "<style scoped>\n",
              "    .dataframe tbody tr th:only-of-type {\n",
              "        vertical-align: middle;\n",
              "    }\n",
              "\n",
              "    .dataframe tbody tr th {\n",
              "        vertical-align: top;\n",
              "    }\n",
              "\n",
              "    .dataframe thead th {\n",
              "        text-align: right;\n",
              "    }\n",
              "</style>\n",
              "<table border=\"1\" class=\"dataframe\">\n",
              "  <thead>\n",
              "    <tr style=\"text-align: right;\">\n",
              "      <th></th>\n",
              "      <th></th>\n",
              "      <th>x</th>\n",
              "      <th>y</th>\n",
              "    </tr>\n",
              "    <tr>\n",
              "      <th>product</th>\n",
              "      <th>sensor</th>\n",
              "      <th></th>\n",
              "      <th></th>\n",
              "    </tr>\n",
              "  </thead>\n",
              "  <tbody>\n",
              "    <tr>\n",
              "      <th rowspan=\"3\" valign=\"top\">a</th>\n",
              "      <th>s1</th>\n",
              "      <td>7</td>\n",
              "      <td>5</td>\n",
              "    </tr>\n",
              "    <tr>\n",
              "      <th>s2</th>\n",
              "      <td>5</td>\n",
              "      <td>7</td>\n",
              "    </tr>\n",
              "    <tr>\n",
              "      <th>s3</th>\n",
              "      <td>8</td>\n",
              "      <td>12</td>\n",
              "    </tr>\n",
              "    <tr>\n",
              "      <th rowspan=\"3\" valign=\"top\">b</th>\n",
              "      <th>s1</th>\n",
              "      <td>2</td>\n",
              "      <td>6</td>\n",
              "    </tr>\n",
              "    <tr>\n",
              "      <th>s2</th>\n",
              "      <td>6</td>\n",
              "      <td>10</td>\n",
              "    </tr>\n",
              "    <tr>\n",
              "      <th>s3</th>\n",
              "      <td>4</td>\n",
              "      <td>8</td>\n",
              "    </tr>\n",
              "  </tbody>\n",
              "</table>\n",
              "</div>"
            ],
            "text/plain": [
              "                x   y\n",
              "product sensor       \n",
              "a       s1      7   5\n",
              "        s2      5   7\n",
              "        s3      8  12\n",
              "b       s1      2   6\n",
              "        s2      6  10\n",
              "        s3      4   8"
            ]
          },
          "metadata": {
            "tags": []
          },
          "execution_count": 59
        }
      ]
    },
    {
      "cell_type": "markdown",
      "metadata": {
        "id": "6vt1Rpi5vBXp"
      },
      "source": [
        "## 데이터 합치기(1)"
      ]
    },
    {
      "cell_type": "markdown",
      "metadata": {
        "id": "YnjQT-xhvNDw"
      },
      "source": [
        "* 실습 데이터 생성"
      ]
    },
    {
      "cell_type": "code",
      "metadata": {
        "id": "pVZX3kQEvD85",
        "colab": {
          "base_uri": "https://localhost:8080/"
        },
        "outputId": "58642a87-e464-45eb-9400-c8307d0f485b"
      },
      "source": [
        "import pandas as pd\n",
        "\n",
        "# 실습 데이터 생성\n",
        "df1 = pd.DataFrame({'A': ['A0', 'A1', 'A2', 'A3'],\n",
        "                    'B': ['B0', 'B1', 'B2', 'B3'],\n",
        "                    'C': ['C0', 'C1', 'C2', 'C3'],\n",
        "                    'D': ['D0', 'D1', 'D2', 'D3']},\n",
        "                    index=[0, 1, 2, 3])\n",
        "\n",
        "df2 = pd.DataFrame({'A': ['A4', 'A5', 'A6', 'A7'],\n",
        "                    'B': ['B4', 'B5', 'B6', 'B7'],\n",
        "                    'C': ['C4', 'C5', 'C6', 'C7'],\n",
        "                    'D': ['D4', 'D5', 'D6', 'D7']},\n",
        "                    index=[4, 5, 6, 7])                   \n",
        "\n",
        "df3 = pd.DataFrame({'A': ['A8', 'A9', 'A10', 'A11'],\n",
        "                    'B': ['B8', 'B9', 'B10', 'B11'],\n",
        "                    'C': ['C8', 'C9', 'C10', 'C11'],\n",
        "                    'D': ['D8', 'D9', 'D10', 'D11']},\n",
        "                    index=[8, 9, 10, 11])\n",
        "\n",
        "df4 = pd.DataFrame({'B': ['B2', 'B3', 'B6', 'B7'],\n",
        "                    'D': ['D2', 'D3', 'D6', 'D7'],\n",
        "                    'F': ['F2', 'F3', 'F6', 'F7']},\n",
        "                    index=[2, 3, 6, 7])\n",
        "                    \n",
        "print('DF1')\n",
        "print(df1)\n",
        "print('\\nDF2')\n",
        "print(df2)\n",
        "print('\\nDF3')\n",
        "print(df3)\n",
        "print('\\nDF4')\n",
        "print(df4)"
      ],
      "execution_count": 60,
      "outputs": [
        {
          "output_type": "stream",
          "text": [
            "DF1\n",
            "    A   B   C   D\n",
            "0  A0  B0  C0  D0\n",
            "1  A1  B1  C1  D1\n",
            "2  A2  B2  C2  D2\n",
            "3  A3  B3  C3  D3\n",
            "\n",
            "DF2\n",
            "    A   B   C   D\n",
            "4  A4  B4  C4  D4\n",
            "5  A5  B5  C5  D5\n",
            "6  A6  B6  C6  D6\n",
            "7  A7  B7  C7  D7\n",
            "\n",
            "DF3\n",
            "      A    B    C    D\n",
            "8    A8   B8   C8   D8\n",
            "9    A9   B9   C9   D9\n",
            "10  A10  B10  C10  D10\n",
            "11  A11  B11  C11  D11\n",
            "\n",
            "DF4\n",
            "    B   D   F\n",
            "2  B2  D2  F2\n",
            "3  B3  D3  F3\n",
            "6  B6  D6  F6\n",
            "7  B7  D7  F7\n"
          ],
          "name": "stdout"
        }
      ]
    },
    {
      "cell_type": "code",
      "metadata": {
        "id": "Ffx3Px-avRUn",
        "colab": {
          "base_uri": "https://localhost:8080/",
          "height": 314
        },
        "outputId": "196328a3-1d58-497a-85fa-99fa0089d108"
      },
      "source": [
        "# df2, df1 합치기\n",
        "print('#1 Concat df2, df1')\n",
        "result = pd.concat([df1, df2])\n",
        "result"
      ],
      "execution_count": 62,
      "outputs": [
        {
          "output_type": "stream",
          "text": [
            "#1 Concat df2, df1\n"
          ],
          "name": "stdout"
        },
        {
          "output_type": "execute_result",
          "data": {
            "text/html": [
              "<div>\n",
              "<style scoped>\n",
              "    .dataframe tbody tr th:only-of-type {\n",
              "        vertical-align: middle;\n",
              "    }\n",
              "\n",
              "    .dataframe tbody tr th {\n",
              "        vertical-align: top;\n",
              "    }\n",
              "\n",
              "    .dataframe thead th {\n",
              "        text-align: right;\n",
              "    }\n",
              "</style>\n",
              "<table border=\"1\" class=\"dataframe\">\n",
              "  <thead>\n",
              "    <tr style=\"text-align: right;\">\n",
              "      <th></th>\n",
              "      <th>A</th>\n",
              "      <th>B</th>\n",
              "      <th>C</th>\n",
              "      <th>D</th>\n",
              "    </tr>\n",
              "  </thead>\n",
              "  <tbody>\n",
              "    <tr>\n",
              "      <th>0</th>\n",
              "      <td>A0</td>\n",
              "      <td>B0</td>\n",
              "      <td>C0</td>\n",
              "      <td>D0</td>\n",
              "    </tr>\n",
              "    <tr>\n",
              "      <th>1</th>\n",
              "      <td>A1</td>\n",
              "      <td>B1</td>\n",
              "      <td>C1</td>\n",
              "      <td>D1</td>\n",
              "    </tr>\n",
              "    <tr>\n",
              "      <th>2</th>\n",
              "      <td>A2</td>\n",
              "      <td>B2</td>\n",
              "      <td>C2</td>\n",
              "      <td>D2</td>\n",
              "    </tr>\n",
              "    <tr>\n",
              "      <th>3</th>\n",
              "      <td>A3</td>\n",
              "      <td>B3</td>\n",
              "      <td>C3</td>\n",
              "      <td>D3</td>\n",
              "    </tr>\n",
              "    <tr>\n",
              "      <th>4</th>\n",
              "      <td>A4</td>\n",
              "      <td>B4</td>\n",
              "      <td>C4</td>\n",
              "      <td>D4</td>\n",
              "    </tr>\n",
              "    <tr>\n",
              "      <th>5</th>\n",
              "      <td>A5</td>\n",
              "      <td>B5</td>\n",
              "      <td>C5</td>\n",
              "      <td>D5</td>\n",
              "    </tr>\n",
              "    <tr>\n",
              "      <th>6</th>\n",
              "      <td>A6</td>\n",
              "      <td>B6</td>\n",
              "      <td>C6</td>\n",
              "      <td>D6</td>\n",
              "    </tr>\n",
              "    <tr>\n",
              "      <th>7</th>\n",
              "      <td>A7</td>\n",
              "      <td>B7</td>\n",
              "      <td>C7</td>\n",
              "      <td>D7</td>\n",
              "    </tr>\n",
              "  </tbody>\n",
              "</table>\n",
              "</div>"
            ],
            "text/plain": [
              "    A   B   C   D\n",
              "0  A0  B0  C0  D0\n",
              "1  A1  B1  C1  D1\n",
              "2  A2  B2  C2  D2\n",
              "3  A3  B3  C3  D3\n",
              "4  A4  B4  C4  D4\n",
              "5  A5  B5  C5  D5\n",
              "6  A6  B6  C6  D6\n",
              "7  A7  B7  C7  D7"
            ]
          },
          "metadata": {
            "tags": []
          },
          "execution_count": 62
        }
      ]
    },
    {
      "cell_type": "code",
      "metadata": {
        "id": "0QukdmKQvlXb",
        "colab": {
          "base_uri": "https://localhost:8080/",
          "height": 314
        },
        "outputId": "12d70390-1b41-415f-fe26-1ea8f9e273ad"
      },
      "source": [
        "# shape 이 서로 다른 df1, df4 합치기\n",
        "print('#2 Concat df1, df4')\n",
        "result = pd.concat([df1, df4])\n",
        "result"
      ],
      "execution_count": 73,
      "outputs": [
        {
          "output_type": "stream",
          "text": [
            "#2 Concat df1, df4\n"
          ],
          "name": "stdout"
        },
        {
          "output_type": "execute_result",
          "data": {
            "text/html": [
              "<div>\n",
              "<style scoped>\n",
              "    .dataframe tbody tr th:only-of-type {\n",
              "        vertical-align: middle;\n",
              "    }\n",
              "\n",
              "    .dataframe tbody tr th {\n",
              "        vertical-align: top;\n",
              "    }\n",
              "\n",
              "    .dataframe thead th {\n",
              "        text-align: right;\n",
              "    }\n",
              "</style>\n",
              "<table border=\"1\" class=\"dataframe\">\n",
              "  <thead>\n",
              "    <tr style=\"text-align: right;\">\n",
              "      <th></th>\n",
              "      <th>A</th>\n",
              "      <th>B</th>\n",
              "      <th>C</th>\n",
              "      <th>D</th>\n",
              "      <th>F</th>\n",
              "    </tr>\n",
              "  </thead>\n",
              "  <tbody>\n",
              "    <tr>\n",
              "      <th>0</th>\n",
              "      <td>A0</td>\n",
              "      <td>B0</td>\n",
              "      <td>C0</td>\n",
              "      <td>D0</td>\n",
              "      <td>NaN</td>\n",
              "    </tr>\n",
              "    <tr>\n",
              "      <th>1</th>\n",
              "      <td>A1</td>\n",
              "      <td>B1</td>\n",
              "      <td>C1</td>\n",
              "      <td>D1</td>\n",
              "      <td>NaN</td>\n",
              "    </tr>\n",
              "    <tr>\n",
              "      <th>2</th>\n",
              "      <td>A2</td>\n",
              "      <td>B2</td>\n",
              "      <td>C2</td>\n",
              "      <td>D2</td>\n",
              "      <td>NaN</td>\n",
              "    </tr>\n",
              "    <tr>\n",
              "      <th>3</th>\n",
              "      <td>A3</td>\n",
              "      <td>B3</td>\n",
              "      <td>C3</td>\n",
              "      <td>D3</td>\n",
              "      <td>NaN</td>\n",
              "    </tr>\n",
              "    <tr>\n",
              "      <th>2</th>\n",
              "      <td>NaN</td>\n",
              "      <td>B2</td>\n",
              "      <td>NaN</td>\n",
              "      <td>D2</td>\n",
              "      <td>F2</td>\n",
              "    </tr>\n",
              "    <tr>\n",
              "      <th>3</th>\n",
              "      <td>NaN</td>\n",
              "      <td>B3</td>\n",
              "      <td>NaN</td>\n",
              "      <td>D3</td>\n",
              "      <td>F3</td>\n",
              "    </tr>\n",
              "    <tr>\n",
              "      <th>6</th>\n",
              "      <td>NaN</td>\n",
              "      <td>B6</td>\n",
              "      <td>NaN</td>\n",
              "      <td>D6</td>\n",
              "      <td>F6</td>\n",
              "    </tr>\n",
              "    <tr>\n",
              "      <th>7</th>\n",
              "      <td>NaN</td>\n",
              "      <td>B7</td>\n",
              "      <td>NaN</td>\n",
              "      <td>D7</td>\n",
              "      <td>F7</td>\n",
              "    </tr>\n",
              "  </tbody>\n",
              "</table>\n",
              "</div>"
            ],
            "text/plain": [
              "     A   B    C   D    F\n",
              "0   A0  B0   C0  D0  NaN\n",
              "1   A1  B1   C1  D1  NaN\n",
              "2   A2  B2   C2  D2  NaN\n",
              "3   A3  B3   C3  D3  NaN\n",
              "2  NaN  B2  NaN  D2   F2\n",
              "3  NaN  B3  NaN  D3   F3\n",
              "6  NaN  B6  NaN  D6   F6\n",
              "7  NaN  B7  NaN  D7   F7"
            ]
          },
          "metadata": {
            "tags": []
          },
          "execution_count": 73
        }
      ]
    },
    {
      "cell_type": "code",
      "metadata": {
        "id": "q-lweJmVvmi9",
        "colab": {
          "base_uri": "https://localhost:8080/",
          "height": 159
        },
        "outputId": "7e9ba5b9-1931-44c8-b8bc-b363b7f56019"
      },
      "source": [
        "# 슬라이싱을 통해 일부 데이터 합치기\n",
        "print('#3 Concat df1, df4 by slicing')\n",
        "result = pd.concat([df1[:2], df4[3:]])\n",
        "result"
      ],
      "execution_count": 74,
      "outputs": [
        {
          "output_type": "stream",
          "text": [
            "#3 Concat df1, df4 by slicing\n"
          ],
          "name": "stdout"
        },
        {
          "output_type": "execute_result",
          "data": {
            "text/html": [
              "<div>\n",
              "<style scoped>\n",
              "    .dataframe tbody tr th:only-of-type {\n",
              "        vertical-align: middle;\n",
              "    }\n",
              "\n",
              "    .dataframe tbody tr th {\n",
              "        vertical-align: top;\n",
              "    }\n",
              "\n",
              "    .dataframe thead th {\n",
              "        text-align: right;\n",
              "    }\n",
              "</style>\n",
              "<table border=\"1\" class=\"dataframe\">\n",
              "  <thead>\n",
              "    <tr style=\"text-align: right;\">\n",
              "      <th></th>\n",
              "      <th>A</th>\n",
              "      <th>B</th>\n",
              "      <th>C</th>\n",
              "      <th>D</th>\n",
              "      <th>F</th>\n",
              "    </tr>\n",
              "  </thead>\n",
              "  <tbody>\n",
              "    <tr>\n",
              "      <th>0</th>\n",
              "      <td>A0</td>\n",
              "      <td>B0</td>\n",
              "      <td>C0</td>\n",
              "      <td>D0</td>\n",
              "      <td>NaN</td>\n",
              "    </tr>\n",
              "    <tr>\n",
              "      <th>1</th>\n",
              "      <td>A1</td>\n",
              "      <td>B1</td>\n",
              "      <td>C1</td>\n",
              "      <td>D1</td>\n",
              "      <td>NaN</td>\n",
              "    </tr>\n",
              "    <tr>\n",
              "      <th>7</th>\n",
              "      <td>NaN</td>\n",
              "      <td>B7</td>\n",
              "      <td>NaN</td>\n",
              "      <td>D7</td>\n",
              "      <td>F7</td>\n",
              "    </tr>\n",
              "  </tbody>\n",
              "</table>\n",
              "</div>"
            ],
            "text/plain": [
              "     A   B    C   D    F\n",
              "0   A0  B0   C0  D0  NaN\n",
              "1   A1  B1   C1  D1  NaN\n",
              "7  NaN  B7  NaN  D7   F7"
            ]
          },
          "metadata": {
            "tags": []
          },
          "execution_count": 74
        }
      ]
    },
    {
      "cell_type": "code",
      "metadata": {
        "id": "1YisekdWvoDs",
        "colab": {
          "base_uri": "https://localhost:8080/",
          "height": 252
        },
        "outputId": "147212cd-7650-4422-f778-5dedd91c0554"
      },
      "source": [
        "# 행 기준으로 df1, df4 합치기\n",
        "print('#4 Concat df1, df4 by axis=1')\n",
        "result = pd.concat([df1, df4],axis=1, ignore_index=True)\n",
        "result"
      ],
      "execution_count": 81,
      "outputs": [
        {
          "output_type": "stream",
          "text": [
            "#4 Concat df1, df4 by axis=1\n"
          ],
          "name": "stdout"
        },
        {
          "output_type": "execute_result",
          "data": {
            "text/html": [
              "<div>\n",
              "<style scoped>\n",
              "    .dataframe tbody tr th:only-of-type {\n",
              "        vertical-align: middle;\n",
              "    }\n",
              "\n",
              "    .dataframe tbody tr th {\n",
              "        vertical-align: top;\n",
              "    }\n",
              "\n",
              "    .dataframe thead th {\n",
              "        text-align: right;\n",
              "    }\n",
              "</style>\n",
              "<table border=\"1\" class=\"dataframe\">\n",
              "  <thead>\n",
              "    <tr style=\"text-align: right;\">\n",
              "      <th></th>\n",
              "      <th>0</th>\n",
              "      <th>1</th>\n",
              "      <th>2</th>\n",
              "      <th>3</th>\n",
              "      <th>4</th>\n",
              "      <th>5</th>\n",
              "      <th>6</th>\n",
              "    </tr>\n",
              "  </thead>\n",
              "  <tbody>\n",
              "    <tr>\n",
              "      <th>0</th>\n",
              "      <td>A0</td>\n",
              "      <td>B0</td>\n",
              "      <td>C0</td>\n",
              "      <td>D0</td>\n",
              "      <td>NaN</td>\n",
              "      <td>NaN</td>\n",
              "      <td>NaN</td>\n",
              "    </tr>\n",
              "    <tr>\n",
              "      <th>1</th>\n",
              "      <td>A1</td>\n",
              "      <td>B1</td>\n",
              "      <td>C1</td>\n",
              "      <td>D1</td>\n",
              "      <td>NaN</td>\n",
              "      <td>NaN</td>\n",
              "      <td>NaN</td>\n",
              "    </tr>\n",
              "    <tr>\n",
              "      <th>2</th>\n",
              "      <td>A2</td>\n",
              "      <td>B2</td>\n",
              "      <td>C2</td>\n",
              "      <td>D2</td>\n",
              "      <td>B2</td>\n",
              "      <td>D2</td>\n",
              "      <td>F2</td>\n",
              "    </tr>\n",
              "    <tr>\n",
              "      <th>3</th>\n",
              "      <td>A3</td>\n",
              "      <td>B3</td>\n",
              "      <td>C3</td>\n",
              "      <td>D3</td>\n",
              "      <td>B3</td>\n",
              "      <td>D3</td>\n",
              "      <td>F3</td>\n",
              "    </tr>\n",
              "    <tr>\n",
              "      <th>6</th>\n",
              "      <td>NaN</td>\n",
              "      <td>NaN</td>\n",
              "      <td>NaN</td>\n",
              "      <td>NaN</td>\n",
              "      <td>B6</td>\n",
              "      <td>D6</td>\n",
              "      <td>F6</td>\n",
              "    </tr>\n",
              "    <tr>\n",
              "      <th>7</th>\n",
              "      <td>NaN</td>\n",
              "      <td>NaN</td>\n",
              "      <td>NaN</td>\n",
              "      <td>NaN</td>\n",
              "      <td>B7</td>\n",
              "      <td>D7</td>\n",
              "      <td>F7</td>\n",
              "    </tr>\n",
              "  </tbody>\n",
              "</table>\n",
              "</div>"
            ],
            "text/plain": [
              "     0    1    2    3    4    5    6\n",
              "0   A0   B0   C0   D0  NaN  NaN  NaN\n",
              "1   A1   B1   C1   D1  NaN  NaN  NaN\n",
              "2   A2   B2   C2   D2   B2   D2   F2\n",
              "3   A3   B3   C3   D3   B3   D3   F3\n",
              "6  NaN  NaN  NaN  NaN   B6   D6   F6\n",
              "7  NaN  NaN  NaN  NaN   B7   D7   F7"
            ]
          },
          "metadata": {
            "tags": []
          },
          "execution_count": 81
        }
      ]
    },
    {
      "cell_type": "code",
      "metadata": {
        "id": "UjyiCRuTvRrw",
        "colab": {
          "base_uri": "https://localhost:8080/",
          "height": 128
        },
        "outputId": "ecb5f9d8-129d-4fdf-cde6-a4d5ad6a894e"
      },
      "source": [
        "# 교집합으로 데이터 결합하기\n",
        "print('#5 Concat df1, df4 by join=inner')\n",
        "#result = pd.concat([df1, df4], join='inner')\n",
        "result = pd.concat([df1, df4], join='inner', axis=1)\n",
        "result"
      ],
      "execution_count": 82,
      "outputs": [
        {
          "output_type": "stream",
          "text": [
            "#5 Concat df1, df4 by join=inner\n"
          ],
          "name": "stdout"
        },
        {
          "output_type": "execute_result",
          "data": {
            "text/html": [
              "<div>\n",
              "<style scoped>\n",
              "    .dataframe tbody tr th:only-of-type {\n",
              "        vertical-align: middle;\n",
              "    }\n",
              "\n",
              "    .dataframe tbody tr th {\n",
              "        vertical-align: top;\n",
              "    }\n",
              "\n",
              "    .dataframe thead th {\n",
              "        text-align: right;\n",
              "    }\n",
              "</style>\n",
              "<table border=\"1\" class=\"dataframe\">\n",
              "  <thead>\n",
              "    <tr style=\"text-align: right;\">\n",
              "      <th></th>\n",
              "      <th>A</th>\n",
              "      <th>B</th>\n",
              "      <th>C</th>\n",
              "      <th>D</th>\n",
              "      <th>B</th>\n",
              "      <th>D</th>\n",
              "      <th>F</th>\n",
              "    </tr>\n",
              "  </thead>\n",
              "  <tbody>\n",
              "    <tr>\n",
              "      <th>2</th>\n",
              "      <td>A2</td>\n",
              "      <td>B2</td>\n",
              "      <td>C2</td>\n",
              "      <td>D2</td>\n",
              "      <td>B2</td>\n",
              "      <td>D2</td>\n",
              "      <td>F2</td>\n",
              "    </tr>\n",
              "    <tr>\n",
              "      <th>3</th>\n",
              "      <td>A3</td>\n",
              "      <td>B3</td>\n",
              "      <td>C3</td>\n",
              "      <td>D3</td>\n",
              "      <td>B3</td>\n",
              "      <td>D3</td>\n",
              "      <td>F3</td>\n",
              "    </tr>\n",
              "  </tbody>\n",
              "</table>\n",
              "</div>"
            ],
            "text/plain": [
              "    A   B   C   D   B   D   F\n",
              "2  A2  B2  C2  D2  B2  D2  F2\n",
              "3  A3  B3  C3  D3  B3  D3  F3"
            ]
          },
          "metadata": {
            "tags": []
          },
          "execution_count": 82
        }
      ]
    },
    {
      "cell_type": "markdown",
      "metadata": {
        "id": "uEHP9fXuMDC-"
      },
      "source": [
        "## 데이터 합치기(2)"
      ]
    },
    {
      "cell_type": "code",
      "metadata": {
        "id": "HohJK3eKNLBg"
      },
      "source": [
        "# 실습 데이터 생성\n",
        "stu1 = pd.DataFrame({'name':['Kim','Lee','Choi'],\n",
        "                     'subject':['c', 'python', 'c'],\n",
        "                     'result':['pass','pass', 'fail']})\n",
        "\n",
        "stu2 = pd.DataFrame({'name':['Kim','Hwang','Lee','Park'],\n",
        "                    'language':['c','java','python','python'],\n",
        "                    'score':[95,85,97,80]})"
      ],
      "execution_count": 84,
      "outputs": []
    },
    {
      "cell_type": "code",
      "metadata": {
        "id": "ZFeELmt8NNTB",
        "colab": {
          "base_uri": "https://localhost:8080/"
        },
        "outputId": "36f364b0-fccb-4493-bd9a-cffeb2e76d10"
      },
      "source": [
        "# 실습 데이터 출력\n",
        "print('stu1')\n",
        "print(stu1)"
      ],
      "execution_count": 85,
      "outputs": [
        {
          "output_type": "stream",
          "text": [
            "stu1\n",
            "   name subject result\n",
            "0   Kim       c   pass\n",
            "1   Lee  python   pass\n",
            "2  Choi       c   fail\n"
          ],
          "name": "stdout"
        }
      ]
    },
    {
      "cell_type": "code",
      "metadata": {
        "id": "IAYSfqo5NVrx",
        "colab": {
          "base_uri": "https://localhost:8080/"
        },
        "outputId": "fcec443e-60a9-492f-c9d2-725d8075d433"
      },
      "source": [
        "# 실습 데이터 출력\n",
        "print('stu2')\n",
        "print(stu2)"
      ],
      "execution_count": 86,
      "outputs": [
        {
          "output_type": "stream",
          "text": [
            "stu2\n",
            "    name language  score\n",
            "0    Kim        c     95\n",
            "1  Hwang     java     85\n",
            "2    Lee   python     97\n",
            "3   Park   python     80\n"
          ],
          "name": "stdout"
        }
      ]
    },
    {
      "cell_type": "code",
      "metadata": {
        "colab": {
          "base_uri": "https://localhost:8080/",
          "height": 128
        },
        "id": "uJwAHqzsNNn0",
        "outputId": "7f2f1a7a-6914-4c15-fd7f-ff8e602c3bd5"
      },
      "source": [
        "#stu1, stu1 합치기\n",
        "print('#1 Merge stu1, stu2')\n",
        "#result = pd.merge(stu1, stu2)\n",
        "result = pd.merge(stu1, stu2, on='name')\n",
        "result"
      ],
      "execution_count": 89,
      "outputs": [
        {
          "output_type": "stream",
          "text": [
            "#1 Merge stu1, stu2\n"
          ],
          "name": "stdout"
        },
        {
          "output_type": "execute_result",
          "data": {
            "text/html": [
              "<div>\n",
              "<style scoped>\n",
              "    .dataframe tbody tr th:only-of-type {\n",
              "        vertical-align: middle;\n",
              "    }\n",
              "\n",
              "    .dataframe tbody tr th {\n",
              "        vertical-align: top;\n",
              "    }\n",
              "\n",
              "    .dataframe thead th {\n",
              "        text-align: right;\n",
              "    }\n",
              "</style>\n",
              "<table border=\"1\" class=\"dataframe\">\n",
              "  <thead>\n",
              "    <tr style=\"text-align: right;\">\n",
              "      <th></th>\n",
              "      <th>name</th>\n",
              "      <th>subject</th>\n",
              "      <th>result</th>\n",
              "      <th>language</th>\n",
              "      <th>score</th>\n",
              "    </tr>\n",
              "  </thead>\n",
              "  <tbody>\n",
              "    <tr>\n",
              "      <th>0</th>\n",
              "      <td>Kim</td>\n",
              "      <td>c</td>\n",
              "      <td>pass</td>\n",
              "      <td>c</td>\n",
              "      <td>95</td>\n",
              "    </tr>\n",
              "    <tr>\n",
              "      <th>1</th>\n",
              "      <td>Lee</td>\n",
              "      <td>python</td>\n",
              "      <td>pass</td>\n",
              "      <td>python</td>\n",
              "      <td>97</td>\n",
              "    </tr>\n",
              "  </tbody>\n",
              "</table>\n",
              "</div>"
            ],
            "text/plain": [
              "  name subject result language  score\n",
              "0  Kim       c   pass        c     95\n",
              "1  Lee  python   pass   python     97"
            ]
          },
          "metadata": {
            "tags": []
          },
          "execution_count": 89
        }
      ]
    },
    {
      "cell_type": "code",
      "metadata": {
        "colab": {
          "base_uri": "https://localhost:8080/",
          "height": 190
        },
        "id": "42bt-RvUNfrp",
        "outputId": "82d2699d-c6ab-4760-bb5e-35ad4ceede72"
      },
      "source": [
        "#key 값을 기준으로 stu1, stu1 합치기\n",
        "print('#2 Merge stu1, stu2 by key value')\n",
        "result = pd.merge(stu1, stu2,\n",
        "                  left_on=['subject'],\n",
        "                  right_on=['language']\n",
        "                  )\n",
        "result"
      ],
      "execution_count": 94,
      "outputs": [
        {
          "output_type": "stream",
          "text": [
            "#2 Merge stu1, stu2 by key value\n"
          ],
          "name": "stdout"
        },
        {
          "output_type": "execute_result",
          "data": {
            "text/html": [
              "<div>\n",
              "<style scoped>\n",
              "    .dataframe tbody tr th:only-of-type {\n",
              "        vertical-align: middle;\n",
              "    }\n",
              "\n",
              "    .dataframe tbody tr th {\n",
              "        vertical-align: top;\n",
              "    }\n",
              "\n",
              "    .dataframe thead th {\n",
              "        text-align: right;\n",
              "    }\n",
              "</style>\n",
              "<table border=\"1\" class=\"dataframe\">\n",
              "  <thead>\n",
              "    <tr style=\"text-align: right;\">\n",
              "      <th></th>\n",
              "      <th>name_x</th>\n",
              "      <th>subject</th>\n",
              "      <th>result</th>\n",
              "      <th>name_y</th>\n",
              "      <th>language</th>\n",
              "      <th>score</th>\n",
              "    </tr>\n",
              "  </thead>\n",
              "  <tbody>\n",
              "    <tr>\n",
              "      <th>0</th>\n",
              "      <td>Kim</td>\n",
              "      <td>c</td>\n",
              "      <td>pass</td>\n",
              "      <td>Kim</td>\n",
              "      <td>c</td>\n",
              "      <td>95</td>\n",
              "    </tr>\n",
              "    <tr>\n",
              "      <th>1</th>\n",
              "      <td>Choi</td>\n",
              "      <td>c</td>\n",
              "      <td>fail</td>\n",
              "      <td>Kim</td>\n",
              "      <td>c</td>\n",
              "      <td>95</td>\n",
              "    </tr>\n",
              "    <tr>\n",
              "      <th>2</th>\n",
              "      <td>Lee</td>\n",
              "      <td>python</td>\n",
              "      <td>pass</td>\n",
              "      <td>Lee</td>\n",
              "      <td>python</td>\n",
              "      <td>97</td>\n",
              "    </tr>\n",
              "    <tr>\n",
              "      <th>3</th>\n",
              "      <td>Lee</td>\n",
              "      <td>python</td>\n",
              "      <td>pass</td>\n",
              "      <td>Park</td>\n",
              "      <td>python</td>\n",
              "      <td>80</td>\n",
              "    </tr>\n",
              "  </tbody>\n",
              "</table>\n",
              "</div>"
            ],
            "text/plain": [
              "  name_x subject result name_y language  score\n",
              "0    Kim       c   pass    Kim        c     95\n",
              "1   Choi       c   fail    Kim        c     95\n",
              "2    Lee  python   pass    Lee   python     97\n",
              "3    Lee  python   pass   Park   python     80"
            ]
          },
          "metadata": {
            "tags": []
          },
          "execution_count": 94
        }
      ]
    },
    {
      "cell_type": "code",
      "metadata": {
        "colab": {
          "base_uri": "https://localhost:8080/",
          "height": 221
        },
        "id": "D1qmiKb5Nq51",
        "outputId": "db915005-36f7-480a-aaad-91934f9064a0"
      },
      "source": [
        "#합집합으로 데이터 합치기\n",
        "print('#3 Merge stu1, stu2 by how=outer')\n",
        "result = pd.merge(stu1, stu2, on='name', how='outer')\n",
        "result"
      ],
      "execution_count": 91,
      "outputs": [
        {
          "output_type": "stream",
          "text": [
            "#3 Merge stu1, stu2 by how=outer\n"
          ],
          "name": "stdout"
        },
        {
          "output_type": "execute_result",
          "data": {
            "text/html": [
              "<div>\n",
              "<style scoped>\n",
              "    .dataframe tbody tr th:only-of-type {\n",
              "        vertical-align: middle;\n",
              "    }\n",
              "\n",
              "    .dataframe tbody tr th {\n",
              "        vertical-align: top;\n",
              "    }\n",
              "\n",
              "    .dataframe thead th {\n",
              "        text-align: right;\n",
              "    }\n",
              "</style>\n",
              "<table border=\"1\" class=\"dataframe\">\n",
              "  <thead>\n",
              "    <tr style=\"text-align: right;\">\n",
              "      <th></th>\n",
              "      <th>name</th>\n",
              "      <th>subject</th>\n",
              "      <th>result</th>\n",
              "      <th>language</th>\n",
              "      <th>score</th>\n",
              "    </tr>\n",
              "  </thead>\n",
              "  <tbody>\n",
              "    <tr>\n",
              "      <th>0</th>\n",
              "      <td>Kim</td>\n",
              "      <td>c</td>\n",
              "      <td>pass</td>\n",
              "      <td>c</td>\n",
              "      <td>95.0</td>\n",
              "    </tr>\n",
              "    <tr>\n",
              "      <th>1</th>\n",
              "      <td>Lee</td>\n",
              "      <td>python</td>\n",
              "      <td>pass</td>\n",
              "      <td>python</td>\n",
              "      <td>97.0</td>\n",
              "    </tr>\n",
              "    <tr>\n",
              "      <th>2</th>\n",
              "      <td>Choi</td>\n",
              "      <td>c</td>\n",
              "      <td>fail</td>\n",
              "      <td>NaN</td>\n",
              "      <td>NaN</td>\n",
              "    </tr>\n",
              "    <tr>\n",
              "      <th>3</th>\n",
              "      <td>Hwang</td>\n",
              "      <td>NaN</td>\n",
              "      <td>NaN</td>\n",
              "      <td>java</td>\n",
              "      <td>85.0</td>\n",
              "    </tr>\n",
              "    <tr>\n",
              "      <th>4</th>\n",
              "      <td>Park</td>\n",
              "      <td>NaN</td>\n",
              "      <td>NaN</td>\n",
              "      <td>python</td>\n",
              "      <td>80.0</td>\n",
              "    </tr>\n",
              "  </tbody>\n",
              "</table>\n",
              "</div>"
            ],
            "text/plain": [
              "    name subject result language  score\n",
              "0    Kim       c   pass        c   95.0\n",
              "1    Lee  python   pass   python   97.0\n",
              "2   Choi       c   fail      NaN    NaN\n",
              "3  Hwang     NaN    NaN     java   85.0\n",
              "4   Park     NaN    NaN   python   80.0"
            ]
          },
          "metadata": {
            "tags": []
          },
          "execution_count": 91
        }
      ]
    },
    {
      "cell_type": "code",
      "metadata": {
        "id": "tttkwTbiNr77",
        "colab": {
          "base_uri": "https://localhost:8080/",
          "height": 190
        },
        "outputId": "b37ac017-9e6b-478f-b3e9-c3c8fdef15fa"
      },
      "source": [
        "#stu2 기준으로 데이터 합치기\n",
        "print('#4 Merge stu1, stu2 by how=right')\n",
        "result = pd.merge(stu1, stu2, on='name', how='right')\n",
        "result"
      ],
      "execution_count": 92,
      "outputs": [
        {
          "output_type": "stream",
          "text": [
            "#4 Merge stu1, stu2 by how=right\n"
          ],
          "name": "stdout"
        },
        {
          "output_type": "execute_result",
          "data": {
            "text/html": [
              "<div>\n",
              "<style scoped>\n",
              "    .dataframe tbody tr th:only-of-type {\n",
              "        vertical-align: middle;\n",
              "    }\n",
              "\n",
              "    .dataframe tbody tr th {\n",
              "        vertical-align: top;\n",
              "    }\n",
              "\n",
              "    .dataframe thead th {\n",
              "        text-align: right;\n",
              "    }\n",
              "</style>\n",
              "<table border=\"1\" class=\"dataframe\">\n",
              "  <thead>\n",
              "    <tr style=\"text-align: right;\">\n",
              "      <th></th>\n",
              "      <th>name</th>\n",
              "      <th>subject</th>\n",
              "      <th>result</th>\n",
              "      <th>language</th>\n",
              "      <th>score</th>\n",
              "    </tr>\n",
              "  </thead>\n",
              "  <tbody>\n",
              "    <tr>\n",
              "      <th>0</th>\n",
              "      <td>Kim</td>\n",
              "      <td>c</td>\n",
              "      <td>pass</td>\n",
              "      <td>c</td>\n",
              "      <td>95</td>\n",
              "    </tr>\n",
              "    <tr>\n",
              "      <th>1</th>\n",
              "      <td>Hwang</td>\n",
              "      <td>NaN</td>\n",
              "      <td>NaN</td>\n",
              "      <td>java</td>\n",
              "      <td>85</td>\n",
              "    </tr>\n",
              "    <tr>\n",
              "      <th>2</th>\n",
              "      <td>Lee</td>\n",
              "      <td>python</td>\n",
              "      <td>pass</td>\n",
              "      <td>python</td>\n",
              "      <td>97</td>\n",
              "    </tr>\n",
              "    <tr>\n",
              "      <th>3</th>\n",
              "      <td>Park</td>\n",
              "      <td>NaN</td>\n",
              "      <td>NaN</td>\n",
              "      <td>python</td>\n",
              "      <td>80</td>\n",
              "    </tr>\n",
              "  </tbody>\n",
              "</table>\n",
              "</div>"
            ],
            "text/plain": [
              "    name subject result language  score\n",
              "0    Kim       c   pass        c     95\n",
              "1  Hwang     NaN    NaN     java     85\n",
              "2    Lee  python   pass   python     97\n",
              "3   Park     NaN    NaN   python     80"
            ]
          },
          "metadata": {
            "tags": []
          },
          "execution_count": 92
        }
      ]
    },
    {
      "cell_type": "code",
      "metadata": {
        "id": "3nNWGovv8-Q6"
      },
      "source": [
        ""
      ],
      "execution_count": null,
      "outputs": []
    }
  ]
}