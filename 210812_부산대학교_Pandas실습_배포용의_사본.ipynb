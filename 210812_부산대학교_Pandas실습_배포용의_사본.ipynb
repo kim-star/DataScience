{
  "nbformat": 4,
  "nbformat_minor": 0,
  "metadata": {
    "colab": {
      "name": "210812_부산대학교_Pandas실습_배포용의 사본",
      "provenance": [],
      "collapsed_sections": [],
      "include_colab_link": true
    },
    "kernelspec": {
      "name": "python3",
      "display_name": "Python 3"
    },
    "language_info": {
      "name": "python"
    }
  },
  "cells": [
    {
      "cell_type": "markdown",
      "metadata": {
        "id": "view-in-github",
        "colab_type": "text"
      },
      "source": [
        "<a href=\"https://colab.research.google.com/github/kim-star/DataScience/blob/master/210812_%EB%B6%80%EC%82%B0%EB%8C%80%ED%95%99%EA%B5%90_Pandas%EC%8B%A4%EC%8A%B5_%EB%B0%B0%ED%8F%AC%EC%9A%A9%EC%9D%98_%EC%82%AC%EB%B3%B8.ipynb\" target=\"_parent\"><img src=\"https://colab.research.google.com/assets/colab-badge.svg\" alt=\"Open In Colab\"/></a>"
      ]
    },
    {
      "cell_type": "markdown",
      "metadata": {
        "id": "2i0l9eY6EPIg"
      },
      "source": [
        "## Pandas 시작하기"
      ]
    },
    {
      "cell_type": "code",
      "metadata": {
        "id": "KQPSiy9IERPO"
      },
      "source": [
        ""
      ],
      "execution_count": null,
      "outputs": []
    },
    {
      "cell_type": "code",
      "metadata": {
        "id": "vwZBqkLlcuWi"
      },
      "source": [
        ""
      ],
      "execution_count": null,
      "outputs": []
    },
    {
      "cell_type": "markdown",
      "metadata": {
        "id": "irfUTn66ESI4"
      },
      "source": [
        "## 자료구조 Series"
      ]
    },
    {
      "cell_type": "markdown",
      "metadata": {
        "id": "148kmTzwEZ2I"
      },
      "source": [
        "### Series 의 생성(1)"
      ]
    },
    {
      "cell_type": "code",
      "metadata": {
        "id": "ojGe_q-pEYek"
      },
      "source": [
        "# 리스트 데이터로 Series 객체 생성하기\n",
        "#  _____ 란에 실습을 시작하세요.\n",
        "\n",
        "year = ['2019', '2020', '2021', '2022']\n",
        "result = ________________\n",
        "\n",
        "print('\\nType:', type(result))\n",
        "print(result)"
      ],
      "execution_count": null,
      "outputs": []
    },
    {
      "cell_type": "code",
      "metadata": {
        "id": "VS4ryu7NEX52"
      },
      "source": [
        "# Series 객체의 주요 속성\n",
        "print('Index: ', __________ )\n",
        "print('Data: ', __________ )\n",
        "print('DType: ', __________ )\n",
        "print('Shape: ', __________ )"
      ],
      "execution_count": null,
      "outputs": []
    },
    {
      "cell_type": "code",
      "metadata": {
        "id": "9NJwyc9uE2HE"
      },
      "source": [
        "# Series 객체의 이름 지정\n",
        " _____________ = 'Year'\n",
        " _____________ = 'No.'\n",
        "print(result)"
      ],
      "execution_count": null,
      "outputs": []
    },
    {
      "cell_type": "markdown",
      "metadata": {
        "id": "4NvITPjnFCEf"
      },
      "source": [
        "### Series 의 생성(2)"
      ]
    },
    {
      "cell_type": "code",
      "metadata": {
        "id": "HoW74USJFB92"
      },
      "source": [
        "# 인덱스 추가하여 Series 객체 생성하기\n",
        "year = ['2019', '2020', '2021', '2022']\n",
        "idx = ['a', 'b', 'c', 'd']\n",
        "\n",
        "result = __________________________ \n",
        "print(result)"
      ],
      "execution_count": null,
      "outputs": []
    },
    {
      "cell_type": "markdown",
      "metadata": {
        "id": "RqHXmqPxFLK2"
      },
      "source": [
        "### Series 의 생성(3)"
      ]
    },
    {
      "cell_type": "code",
      "metadata": {
        "id": "zMjM3vBVE9LN"
      },
      "source": [
        "# 딕셔너리 데이터로 Series 객체 생성하기\n",
        "score = {'Kim':85, 'Han':89, 'Lee':99, 'Choi':70}\n",
        "\n",
        "result = __________________________\n",
        "print(result)\n"
      ],
      "execution_count": null,
      "outputs": []
    },
    {
      "cell_type": "markdown",
      "metadata": {
        "id": "b_UdHQLOFVcn"
      },
      "source": [
        "## 자료구조 DataFrame"
      ]
    },
    {
      "cell_type": "markdown",
      "metadata": {
        "id": "fVbByRhdFXvR"
      },
      "source": [
        "### DataFrame 의 생성(1)"
      ]
    },
    {
      "cell_type": "code",
      "metadata": {
        "id": "ogzlILfZFZdG"
      },
      "source": [
        "# 파이썬 딕셔너리 객체 이용하여 DataFrame 생성하기\n",
        "score = {'name': ['Jessi', 'Emma', 'Alex', 'Tom'],\n",
        "         'score': [100, 95, 80, 85],\n",
        "         'grade': ['A', 'A', 'B', 'B']}\n",
        "        \n",
        "df = __________________\n",
        "print(type(df))\n",
        "print(df)"
      ],
      "execution_count": null,
      "outputs": []
    },
    {
      "cell_type": "code",
      "metadata": {
        "id": "x7ttqRW8FZ0B"
      },
      "source": [
        "# DataFrame 주요 속성 실습-1\n",
        "print('-Index: ', ________)\n",
        "print('-Columns: ', ________)\n",
        "print('-Values:', ________)"
      ],
      "execution_count": null,
      "outputs": []
    },
    {
      "cell_type": "code",
      "metadata": {
        "id": "qS63-sxSFZxc"
      },
      "source": [
        "# DataFrame 주요 속성 실습-2\n",
        "print('-DTypes: ', ________)\n",
        "print('-Shape: ', ________)"
      ],
      "execution_count": null,
      "outputs": []
    },
    {
      "cell_type": "markdown",
      "metadata": {
        "id": "c5RxldbzGOK8"
      },
      "source": [
        "### DataFrame 의 생성(2)"
      ]
    },
    {
      "cell_type": "code",
      "metadata": {
        "id": "Olyz0dnTF1iG"
      },
      "source": [
        "# index, columns 지정하여 DataFrame 생성하기\n",
        "score = {'name': ['Jessi', 'Emma', 'Alex', 'Tom'],\n",
        "         'score': [100, 95, 80, 85],\n",
        "         'grade': ['A', 'A', 'B', 'B']}     \n",
        "i = ['a', 'b', 'c', 'd']\n",
        "c = ['score', 'grade', 'name', 'email']\n",
        "        \n",
        "df = ______________________________\n",
        "print(df)"
      ],
      "execution_count": null,
      "outputs": []
    },
    {
      "cell_type": "markdown",
      "metadata": {
        "id": "8mFIIUPjGQRL"
      },
      "source": [
        "## DataFrame 살펴보기"
      ]
    },
    {
      "cell_type": "markdown",
      "metadata": {
        "id": "p9u8gX8YGjxG"
      },
      "source": [
        "* 실습 데이터 생성"
      ]
    },
    {
      "cell_type": "code",
      "metadata": {
        "id": "7YA_SjVUGjH4",
        "colab": {
          "base_uri": "https://localhost:8080/"
        },
        "outputId": "424443e6-09d6-4bcf-fdb9-d4adf91acf45"
      },
      "source": [
        "import pandas as pd\n",
        "\n",
        "# 실습 데이터 생성\n",
        "score = {'name': ['Jessi', 'Emma', 'Alex', 'Jessi', 'Tom'],\n",
        "         'score': [100, 95, 80, 85, 97],\n",
        "         'grade': ['A', 'A', 'B', 'B', 'A'],\n",
        "         'subject':['python', 'java', 'python', 'c', 'java']}\n",
        "\n",
        "score_df = pd.DataFrame(data=score)\n",
        "print(score_df)"
      ],
      "execution_count": null,
      "outputs": [
        {
          "output_type": "stream",
          "text": [
            "    name  score grade subject\n",
            "0  Jessi    100     A  python\n",
            "1   Emma     95     A    java\n",
            "2   Alex     80     B  python\n",
            "3  Jessi     85     B       c\n",
            "4    Tom     97     A    java\n"
          ],
          "name": "stdout"
        }
      ]
    },
    {
      "cell_type": "markdown",
      "metadata": {
        "id": "mQXBs3_wGtJT"
      },
      "source": [
        "* info(), head(), tail(), sample() 실습"
      ]
    },
    {
      "cell_type": "code",
      "metadata": {
        "id": "OiVi8-m9GQlr",
        "colab": {
          "base_uri": "https://localhost:8080/"
        },
        "outputId": "47994b92-eaf5-4076-ae73-1727e565b001"
      },
      "source": [
        "print(score_df.head(3))"
      ],
      "execution_count": null,
      "outputs": [
        {
          "output_type": "stream",
          "text": [
            "    name  score grade subject\n",
            "0  Jessi    100     A  python\n",
            "1   Emma     95     A    java\n",
            "2   Alex     80     B  python\n"
          ],
          "name": "stdout"
        }
      ]
    },
    {
      "cell_type": "code",
      "metadata": {
        "id": "q2NmxlOQGrNf",
        "colab": {
          "base_uri": "https://localhost:8080/",
          "height": 111
        },
        "outputId": "9f2f0ec9-fc4e-41a7-f315-780f5c563f15"
      },
      "source": [
        "score_df.tail(2)"
      ],
      "execution_count": null,
      "outputs": [
        {
          "output_type": "execute_result",
          "data": {
            "text/html": [
              "<div>\n",
              "<style scoped>\n",
              "    .dataframe tbody tr th:only-of-type {\n",
              "        vertical-align: middle;\n",
              "    }\n",
              "\n",
              "    .dataframe tbody tr th {\n",
              "        vertical-align: top;\n",
              "    }\n",
              "\n",
              "    .dataframe thead th {\n",
              "        text-align: right;\n",
              "    }\n",
              "</style>\n",
              "<table border=\"1\" class=\"dataframe\">\n",
              "  <thead>\n",
              "    <tr style=\"text-align: right;\">\n",
              "      <th></th>\n",
              "      <th>name</th>\n",
              "      <th>score</th>\n",
              "      <th>grade</th>\n",
              "      <th>subject</th>\n",
              "    </tr>\n",
              "  </thead>\n",
              "  <tbody>\n",
              "    <tr>\n",
              "      <th>3</th>\n",
              "      <td>Jessi</td>\n",
              "      <td>85</td>\n",
              "      <td>B</td>\n",
              "      <td>c</td>\n",
              "    </tr>\n",
              "    <tr>\n",
              "      <th>4</th>\n",
              "      <td>Tom</td>\n",
              "      <td>97</td>\n",
              "      <td>A</td>\n",
              "      <td>java</td>\n",
              "    </tr>\n",
              "  </tbody>\n",
              "</table>\n",
              "</div>"
            ],
            "text/plain": [
              "    name  score grade subject\n",
              "3  Jessi     85     B       c\n",
              "4    Tom     97     A    java"
            ]
          },
          "metadata": {
            "tags": []
          },
          "execution_count": 6
        }
      ]
    },
    {
      "cell_type": "code",
      "metadata": {
        "id": "7F1oP5BqGrix",
        "colab": {
          "base_uri": "https://localhost:8080/",
          "height": 111
        },
        "outputId": "06cdd6af-1dcc-466e-c5b5-fca799ff79d0"
      },
      "source": [
        "score_df.sample(2, random_state=10)"
      ],
      "execution_count": null,
      "outputs": [
        {
          "output_type": "execute_result",
          "data": {
            "text/html": [
              "<div>\n",
              "<style scoped>\n",
              "    .dataframe tbody tr th:only-of-type {\n",
              "        vertical-align: middle;\n",
              "    }\n",
              "\n",
              "    .dataframe tbody tr th {\n",
              "        vertical-align: top;\n",
              "    }\n",
              "\n",
              "    .dataframe thead th {\n",
              "        text-align: right;\n",
              "    }\n",
              "</style>\n",
              "<table border=\"1\" class=\"dataframe\">\n",
              "  <thead>\n",
              "    <tr style=\"text-align: right;\">\n",
              "      <th></th>\n",
              "      <th>name</th>\n",
              "      <th>score</th>\n",
              "      <th>grade</th>\n",
              "      <th>subject</th>\n",
              "    </tr>\n",
              "  </thead>\n",
              "  <tbody>\n",
              "    <tr>\n",
              "      <th>2</th>\n",
              "      <td>Alex</td>\n",
              "      <td>80</td>\n",
              "      <td>B</td>\n",
              "      <td>python</td>\n",
              "    </tr>\n",
              "    <tr>\n",
              "      <th>3</th>\n",
              "      <td>Jessi</td>\n",
              "      <td>85</td>\n",
              "      <td>B</td>\n",
              "      <td>c</td>\n",
              "    </tr>\n",
              "  </tbody>\n",
              "</table>\n",
              "</div>"
            ],
            "text/plain": [
              "    name  score grade subject\n",
              "2   Alex     80     B  python\n",
              "3  Jessi     85     B       c"
            ]
          },
          "metadata": {
            "tags": []
          },
          "execution_count": 8
        }
      ]
    },
    {
      "cell_type": "code",
      "metadata": {
        "id": "plli9DkaGr9R",
        "colab": {
          "base_uri": "https://localhost:8080/",
          "height": 111
        },
        "outputId": "2fcfe495-1b8d-469b-9c8e-58bfd1173f81"
      },
      "source": [
        "score_df.sample(frac=0.5)"
      ],
      "execution_count": null,
      "outputs": [
        {
          "output_type": "execute_result",
          "data": {
            "text/html": [
              "<div>\n",
              "<style scoped>\n",
              "    .dataframe tbody tr th:only-of-type {\n",
              "        vertical-align: middle;\n",
              "    }\n",
              "\n",
              "    .dataframe tbody tr th {\n",
              "        vertical-align: top;\n",
              "    }\n",
              "\n",
              "    .dataframe thead th {\n",
              "        text-align: right;\n",
              "    }\n",
              "</style>\n",
              "<table border=\"1\" class=\"dataframe\">\n",
              "  <thead>\n",
              "    <tr style=\"text-align: right;\">\n",
              "      <th></th>\n",
              "      <th>name</th>\n",
              "      <th>score</th>\n",
              "      <th>grade</th>\n",
              "      <th>subject</th>\n",
              "    </tr>\n",
              "  </thead>\n",
              "  <tbody>\n",
              "    <tr>\n",
              "      <th>3</th>\n",
              "      <td>Jessi</td>\n",
              "      <td>85</td>\n",
              "      <td>B</td>\n",
              "      <td>c</td>\n",
              "    </tr>\n",
              "    <tr>\n",
              "      <th>1</th>\n",
              "      <td>Emma</td>\n",
              "      <td>95</td>\n",
              "      <td>A</td>\n",
              "      <td>java</td>\n",
              "    </tr>\n",
              "  </tbody>\n",
              "</table>\n",
              "</div>"
            ],
            "text/plain": [
              "    name  score grade subject\n",
              "3  Jessi     85     B       c\n",
              "1   Emma     95     A    java"
            ]
          },
          "metadata": {
            "tags": []
          },
          "execution_count": 10
        }
      ]
    },
    {
      "cell_type": "markdown",
      "metadata": {
        "id": "uU2NxwmaHGOa"
      },
      "source": [
        "## 수치형과 범주형 데이터의 이해"
      ]
    },
    {
      "cell_type": "markdown",
      "metadata": {
        "id": "6y2UZKNoHQG7"
      },
      "source": [
        "* 실습 데이터 생성"
      ]
    },
    {
      "cell_type": "code",
      "metadata": {
        "colab": {
          "base_uri": "https://localhost:8080/"
        },
        "id": "NsYc4uJAHILn",
        "outputId": "5297ac66-c624-47fc-a3fd-36ddab74a023"
      },
      "source": [
        "import pandas as pd\n",
        "\n",
        "# 실습 데이터 생성\n",
        "score = {'name': ['Jessi', 'Emma', 'Alex', 'Jessi', 'Tom'],\n",
        "         'age': [20, 24, 23, 20, 27],\n",
        "         'score': [100, 95, 80, 85, 97],\n",
        "         'grade': ['A', 'A', 'B', 'B', 'A'],\n",
        "         'subject':['python', 'java', 'python', 'c', 'java']}\n",
        "\n",
        "score_df = pd.DataFrame(data=score)\n",
        "print(score_df)"
      ],
      "execution_count": null,
      "outputs": [
        {
          "output_type": "stream",
          "text": [
            "    name  age  score grade subject\n",
            "0  Jessi   20    100     A  python\n",
            "1   Emma   24     95     A    java\n",
            "2   Alex   23     80     B  python\n",
            "3  Jessi   20     85     B       c\n",
            "4    Tom   27     97     A    java\n"
          ],
          "name": "stdout"
        }
      ]
    },
    {
      "cell_type": "code",
      "metadata": {
        "id": "FJDlcauGHTMD",
        "colab": {
          "base_uri": "https://localhost:8080/",
          "height": 314
        },
        "outputId": "2d1d8dac-45fb-492c-d16f-c554ad0e8347"
      },
      "source": [
        "# describe() 함수 실습\n",
        "print(\"Generate Descriptive Statistics\")\n",
        "#____________________\n",
        "score_df.describe()"
      ],
      "execution_count": null,
      "outputs": [
        {
          "output_type": "stream",
          "text": [
            "Generate Descriptive Statistics\n"
          ],
          "name": "stdout"
        },
        {
          "output_type": "execute_result",
          "data": {
            "text/html": [
              "<div>\n",
              "<style scoped>\n",
              "    .dataframe tbody tr th:only-of-type {\n",
              "        vertical-align: middle;\n",
              "    }\n",
              "\n",
              "    .dataframe tbody tr th {\n",
              "        vertical-align: top;\n",
              "    }\n",
              "\n",
              "    .dataframe thead th {\n",
              "        text-align: right;\n",
              "    }\n",
              "</style>\n",
              "<table border=\"1\" class=\"dataframe\">\n",
              "  <thead>\n",
              "    <tr style=\"text-align: right;\">\n",
              "      <th></th>\n",
              "      <th>age</th>\n",
              "      <th>score</th>\n",
              "    </tr>\n",
              "  </thead>\n",
              "  <tbody>\n",
              "    <tr>\n",
              "      <th>count</th>\n",
              "      <td>5.000000</td>\n",
              "      <td>5.000000</td>\n",
              "    </tr>\n",
              "    <tr>\n",
              "      <th>mean</th>\n",
              "      <td>22.800000</td>\n",
              "      <td>91.400000</td>\n",
              "    </tr>\n",
              "    <tr>\n",
              "      <th>std</th>\n",
              "      <td>2.949576</td>\n",
              "      <td>8.502941</td>\n",
              "    </tr>\n",
              "    <tr>\n",
              "      <th>min</th>\n",
              "      <td>20.000000</td>\n",
              "      <td>80.000000</td>\n",
              "    </tr>\n",
              "    <tr>\n",
              "      <th>25%</th>\n",
              "      <td>20.000000</td>\n",
              "      <td>85.000000</td>\n",
              "    </tr>\n",
              "    <tr>\n",
              "      <th>50%</th>\n",
              "      <td>23.000000</td>\n",
              "      <td>95.000000</td>\n",
              "    </tr>\n",
              "    <tr>\n",
              "      <th>75%</th>\n",
              "      <td>24.000000</td>\n",
              "      <td>97.000000</td>\n",
              "    </tr>\n",
              "    <tr>\n",
              "      <th>max</th>\n",
              "      <td>27.000000</td>\n",
              "      <td>100.000000</td>\n",
              "    </tr>\n",
              "  </tbody>\n",
              "</table>\n",
              "</div>"
            ],
            "text/plain": [
              "             age       score\n",
              "count   5.000000    5.000000\n",
              "mean   22.800000   91.400000\n",
              "std     2.949576    8.502941\n",
              "min    20.000000   80.000000\n",
              "25%    20.000000   85.000000\n",
              "50%    23.000000   95.000000\n",
              "75%    24.000000   97.000000\n",
              "max    27.000000  100.000000"
            ]
          },
          "metadata": {
            "tags": []
          },
          "execution_count": 13
        }
      ]
    },
    {
      "cell_type": "code",
      "metadata": {
        "id": "MJmMQxTyHjEg",
        "colab": {
          "base_uri": "https://localhost:8080/",
          "height": 407
        },
        "outputId": "71b4f498-672e-48c3-d8b7-14c5e80c712c"
      },
      "source": [
        "# 범주형 데이터에 대한 describe() 함수 실습\n",
        "\n",
        "print(\"Generate Descriptive Statistics for Categorical\")\n",
        "#____________________\n",
        "#score_df[['grade', 'subject']].describe()\n",
        "score_df.describe(include='all')"
      ],
      "execution_count": null,
      "outputs": [
        {
          "output_type": "stream",
          "text": [
            "Generate Descriptive Statistics for Categorical\n"
          ],
          "name": "stdout"
        },
        {
          "output_type": "execute_result",
          "data": {
            "text/html": [
              "<div>\n",
              "<style scoped>\n",
              "    .dataframe tbody tr th:only-of-type {\n",
              "        vertical-align: middle;\n",
              "    }\n",
              "\n",
              "    .dataframe tbody tr th {\n",
              "        vertical-align: top;\n",
              "    }\n",
              "\n",
              "    .dataframe thead th {\n",
              "        text-align: right;\n",
              "    }\n",
              "</style>\n",
              "<table border=\"1\" class=\"dataframe\">\n",
              "  <thead>\n",
              "    <tr style=\"text-align: right;\">\n",
              "      <th></th>\n",
              "      <th>name</th>\n",
              "      <th>age</th>\n",
              "      <th>score</th>\n",
              "      <th>grade</th>\n",
              "      <th>subject</th>\n",
              "    </tr>\n",
              "  </thead>\n",
              "  <tbody>\n",
              "    <tr>\n",
              "      <th>count</th>\n",
              "      <td>5</td>\n",
              "      <td>5.000000</td>\n",
              "      <td>5.000000</td>\n",
              "      <td>5</td>\n",
              "      <td>5</td>\n",
              "    </tr>\n",
              "    <tr>\n",
              "      <th>unique</th>\n",
              "      <td>4</td>\n",
              "      <td>NaN</td>\n",
              "      <td>NaN</td>\n",
              "      <td>2</td>\n",
              "      <td>3</td>\n",
              "    </tr>\n",
              "    <tr>\n",
              "      <th>top</th>\n",
              "      <td>Jessi</td>\n",
              "      <td>NaN</td>\n",
              "      <td>NaN</td>\n",
              "      <td>A</td>\n",
              "      <td>java</td>\n",
              "    </tr>\n",
              "    <tr>\n",
              "      <th>freq</th>\n",
              "      <td>2</td>\n",
              "      <td>NaN</td>\n",
              "      <td>NaN</td>\n",
              "      <td>3</td>\n",
              "      <td>2</td>\n",
              "    </tr>\n",
              "    <tr>\n",
              "      <th>mean</th>\n",
              "      <td>NaN</td>\n",
              "      <td>22.800000</td>\n",
              "      <td>91.400000</td>\n",
              "      <td>NaN</td>\n",
              "      <td>NaN</td>\n",
              "    </tr>\n",
              "    <tr>\n",
              "      <th>std</th>\n",
              "      <td>NaN</td>\n",
              "      <td>2.949576</td>\n",
              "      <td>8.502941</td>\n",
              "      <td>NaN</td>\n",
              "      <td>NaN</td>\n",
              "    </tr>\n",
              "    <tr>\n",
              "      <th>min</th>\n",
              "      <td>NaN</td>\n",
              "      <td>20.000000</td>\n",
              "      <td>80.000000</td>\n",
              "      <td>NaN</td>\n",
              "      <td>NaN</td>\n",
              "    </tr>\n",
              "    <tr>\n",
              "      <th>25%</th>\n",
              "      <td>NaN</td>\n",
              "      <td>20.000000</td>\n",
              "      <td>85.000000</td>\n",
              "      <td>NaN</td>\n",
              "      <td>NaN</td>\n",
              "    </tr>\n",
              "    <tr>\n",
              "      <th>50%</th>\n",
              "      <td>NaN</td>\n",
              "      <td>23.000000</td>\n",
              "      <td>95.000000</td>\n",
              "      <td>NaN</td>\n",
              "      <td>NaN</td>\n",
              "    </tr>\n",
              "    <tr>\n",
              "      <th>75%</th>\n",
              "      <td>NaN</td>\n",
              "      <td>24.000000</td>\n",
              "      <td>97.000000</td>\n",
              "      <td>NaN</td>\n",
              "      <td>NaN</td>\n",
              "    </tr>\n",
              "    <tr>\n",
              "      <th>max</th>\n",
              "      <td>NaN</td>\n",
              "      <td>27.000000</td>\n",
              "      <td>100.000000</td>\n",
              "      <td>NaN</td>\n",
              "      <td>NaN</td>\n",
              "    </tr>\n",
              "  </tbody>\n",
              "</table>\n",
              "</div>"
            ],
            "text/plain": [
              "         name        age       score grade subject\n",
              "count       5   5.000000    5.000000     5       5\n",
              "unique      4        NaN         NaN     2       3\n",
              "top     Jessi        NaN         NaN     A    java\n",
              "freq        2        NaN         NaN     3       2\n",
              "mean      NaN  22.800000   91.400000   NaN     NaN\n",
              "std       NaN   2.949576    8.502941   NaN     NaN\n",
              "min       NaN  20.000000   80.000000   NaN     NaN\n",
              "25%       NaN  20.000000   85.000000   NaN     NaN\n",
              "50%       NaN  23.000000   95.000000   NaN     NaN\n",
              "75%       NaN  24.000000   97.000000   NaN     NaN\n",
              "max       NaN  27.000000  100.000000   NaN     NaN"
            ]
          },
          "metadata": {
            "tags": []
          },
          "execution_count": 16
        }
      ]
    },
    {
      "cell_type": "code",
      "metadata": {
        "id": "JebYM1-vHuG6",
        "colab": {
          "base_uri": "https://localhost:8080/"
        },
        "outputId": "089ea94d-bfe3-4766-c124-0a0d09f9acf2"
      },
      "source": [
        "# 범주형 데이터를 위한 unique() 함수 실습\n",
        "print(\"The Unique Values\")\n",
        "#____________________\n",
        "score_df['subject'].unique()"
      ],
      "execution_count": null,
      "outputs": [
        {
          "output_type": "stream",
          "text": [
            "The Unique Values\n"
          ],
          "name": "stdout"
        },
        {
          "output_type": "execute_result",
          "data": {
            "text/plain": [
              "array(['python', 'java', 'c'], dtype=object)"
            ]
          },
          "metadata": {
            "tags": []
          },
          "execution_count": 18
        }
      ]
    },
    {
      "cell_type": "code",
      "metadata": {
        "id": "RcRf5zvoHzv4",
        "colab": {
          "base_uri": "https://localhost:8080/"
        },
        "outputId": "d9fff412-c146-461f-d089-ede29c767ab8"
      },
      "source": [
        "# 범주형 데이터를 위한 value_counts() 함수 실습\n",
        "print(\"The Value Counts\")\n",
        "#____________________\n",
        "#score_df['subject'].value_counts()\n",
        "score_df['subject'].value_counts(normalize=True)"
      ],
      "execution_count": null,
      "outputs": [
        {
          "output_type": "stream",
          "text": [
            "The Value Counts\n"
          ],
          "name": "stdout"
        },
        {
          "output_type": "execute_result",
          "data": {
            "text/plain": [
              "java      0.4\n",
              "python    0.4\n",
              "c         0.2\n",
              "Name: subject, dtype: float64"
            ]
          },
          "metadata": {
            "tags": []
          },
          "execution_count": 22
        }
      ]
    },
    {
      "cell_type": "markdown",
      "metadata": {
        "id": "dVgtPNLeH3k7"
      },
      "source": [
        "## 데이터 조회 및 변경"
      ]
    },
    {
      "cell_type": "markdown",
      "metadata": {
        "id": "Mckbd1qBIO9q"
      },
      "source": [
        "* 실습 데이터 생성"
      ]
    },
    {
      "cell_type": "code",
      "metadata": {
        "id": "MUqGgC3MIOZH",
        "colab": {
          "base_uri": "https://localhost:8080/"
        },
        "outputId": "e5f37e71-9da0-4b2e-8b5e-fa462746710c"
      },
      "source": [
        "import pandas as pd\n",
        "\n",
        "# 실습 데이터 생성\n",
        "score = {'name': ['Jessi', 'Emma', 'Alex', 'Jessi', 'Tom'],\n",
        "         'score': [100, 95, 80, 85, 97],\n",
        "         'grade': ['A', 'A', 'B', 'B', 'A'],\n",
        "         'subject':['python', 'java', 'python', 'c', 'java']}\n",
        "c = ['name', 'subject', 'score', 'grade', 'etc']\n",
        "\n",
        "df = pd.DataFrame(data=score, columns=c)\n",
        "print(df)"
      ],
      "execution_count": null,
      "outputs": [
        {
          "output_type": "stream",
          "text": [
            "    name subject  score grade  etc\n",
            "0  Jessi  python    100     A  NaN\n",
            "1   Emma    java     95     A  NaN\n",
            "2   Alex  python     80     B  NaN\n",
            "3  Jessi       c     85     B  NaN\n",
            "4    Tom    java     97     A  NaN\n"
          ],
          "name": "stdout"
        }
      ]
    },
    {
      "cell_type": "code",
      "metadata": {
        "id": "1-LVf17-IQS0",
        "colab": {
          "base_uri": "https://localhost:8080/"
        },
        "outputId": "f8074c29-900c-414a-b624-bb5b161007cc"
      },
      "source": [
        "# 인덱싱 기법으로 열 데이터 조회 실습\n",
        "print('Columns : name')\n",
        "#_______________\n",
        "df['name']"
      ],
      "execution_count": null,
      "outputs": [
        {
          "output_type": "stream",
          "text": [
            "Columns : name\n"
          ],
          "name": "stdout"
        },
        {
          "output_type": "execute_result",
          "data": {
            "text/plain": [
              "0    Jessi\n",
              "1     Emma\n",
              "2     Alex\n",
              "3    Jessi\n",
              "4      Tom\n",
              "Name: name, dtype: object"
            ]
          },
          "metadata": {
            "tags": []
          },
          "execution_count": 24
        }
      ]
    },
    {
      "cell_type": "code",
      "metadata": {
        "id": "T4iomF6QIgbg",
        "colab": {
          "base_uri": "https://localhost:8080/"
        },
        "outputId": "6868897c-a547-4214-a8b4-a58d204cfc51"
      },
      "source": [
        "# . 연산자로 열 데이터 조회 실습\n",
        "print('Columns : name')\n",
        "#_______________\n",
        "df.name"
      ],
      "execution_count": null,
      "outputs": [
        {
          "output_type": "stream",
          "text": [
            "Columns : name\n"
          ],
          "name": "stdout"
        },
        {
          "output_type": "execute_result",
          "data": {
            "text/plain": [
              "0    Jessi\n",
              "1     Emma\n",
              "2     Alex\n",
              "3    Jessi\n",
              "4      Tom\n",
              "Name: name, dtype: object"
            ]
          },
          "metadata": {
            "tags": []
          },
          "execution_count": 26
        }
      ]
    },
    {
      "cell_type": "code",
      "metadata": {
        "id": "Ot6uwRIgIrbD"
      },
      "source": [
        "# df.name 의 타입 출력하여 확인\n",
        "print('Type:', type(df.name))"
      ],
      "execution_count": null,
      "outputs": []
    },
    {
      "cell_type": "code",
      "metadata": {
        "id": "eRdalyI7IzvQ",
        "colab": {
          "base_uri": "https://localhost:8080/",
          "height": 221
        },
        "outputId": "ab94767d-d373-4791-c9b6-80cea4444683"
      },
      "source": [
        "# 다중 열 데이터 조회 실습\n",
        "print('Columns : name-subject-grade')\n",
        "#_____________________\n",
        "df[['name', 'subject', 'grade']]"
      ],
      "execution_count": null,
      "outputs": [
        {
          "output_type": "stream",
          "text": [
            "Columns : name-subject-grade\n"
          ],
          "name": "stdout"
        },
        {
          "output_type": "execute_result",
          "data": {
            "text/html": [
              "<div>\n",
              "<style scoped>\n",
              "    .dataframe tbody tr th:only-of-type {\n",
              "        vertical-align: middle;\n",
              "    }\n",
              "\n",
              "    .dataframe tbody tr th {\n",
              "        vertical-align: top;\n",
              "    }\n",
              "\n",
              "    .dataframe thead th {\n",
              "        text-align: right;\n",
              "    }\n",
              "</style>\n",
              "<table border=\"1\" class=\"dataframe\">\n",
              "  <thead>\n",
              "    <tr style=\"text-align: right;\">\n",
              "      <th></th>\n",
              "      <th>name</th>\n",
              "      <th>subject</th>\n",
              "      <th>grade</th>\n",
              "    </tr>\n",
              "  </thead>\n",
              "  <tbody>\n",
              "    <tr>\n",
              "      <th>0</th>\n",
              "      <td>Jessi</td>\n",
              "      <td>python</td>\n",
              "      <td>A</td>\n",
              "    </tr>\n",
              "    <tr>\n",
              "      <th>1</th>\n",
              "      <td>Emma</td>\n",
              "      <td>java</td>\n",
              "      <td>A</td>\n",
              "    </tr>\n",
              "    <tr>\n",
              "      <th>2</th>\n",
              "      <td>Alex</td>\n",
              "      <td>python</td>\n",
              "      <td>B</td>\n",
              "    </tr>\n",
              "    <tr>\n",
              "      <th>3</th>\n",
              "      <td>Jessi</td>\n",
              "      <td>c</td>\n",
              "      <td>B</td>\n",
              "    </tr>\n",
              "    <tr>\n",
              "      <th>4</th>\n",
              "      <td>Tom</td>\n",
              "      <td>java</td>\n",
              "      <td>A</td>\n",
              "    </tr>\n",
              "  </tbody>\n",
              "</table>\n",
              "</div>"
            ],
            "text/plain": [
              "    name subject grade\n",
              "0  Jessi  python     A\n",
              "1   Emma    java     A\n",
              "2   Alex  python     B\n",
              "3  Jessi       c     B\n",
              "4    Tom    java     A"
            ]
          },
          "metadata": {
            "tags": []
          },
          "execution_count": 29
        }
      ]
    },
    {
      "cell_type": "code",
      "metadata": {
        "id": "NsZ6ymOTIzsN",
        "colab": {
          "base_uri": "https://localhost:8080/",
          "height": 215
        },
        "outputId": "57eec550-3462-4cb1-c895-e0f52c59ad13"
      },
      "source": [
        "# etc 열 데이터 변경하기\n",
        "print('Modify Column Data')\n",
        "#_____________________\n",
        "#df['etc']=0\n",
        "df.drop(etx)"
      ],
      "execution_count": null,
      "outputs": [
        {
          "output_type": "stream",
          "text": [
            "Modify Column Data\n"
          ],
          "name": "stdout"
        },
        {
          "output_type": "error",
          "ename": "NameError",
          "evalue": "ignored",
          "traceback": [
            "\u001b[0;31m---------------------------------------------------------------------------\u001b[0m",
            "\u001b[0;31mNameError\u001b[0m                                 Traceback (most recent call last)",
            "\u001b[0;32m<ipython-input-42-a04bf4eeabed>\u001b[0m in \u001b[0;36m<module>\u001b[0;34m()\u001b[0m\n\u001b[1;32m      3\u001b[0m \u001b[0;31m#_____________________\u001b[0m\u001b[0;34m\u001b[0m\u001b[0;34m\u001b[0m\u001b[0;34m\u001b[0m\u001b[0m\n\u001b[1;32m      4\u001b[0m \u001b[0;31m#df['etc']=0\u001b[0m\u001b[0;34m\u001b[0m\u001b[0;34m\u001b[0m\u001b[0;34m\u001b[0m\u001b[0m\n\u001b[0;32m----> 5\u001b[0;31m \u001b[0mdf\u001b[0m\u001b[0;34m.\u001b[0m\u001b[0mdrop\u001b[0m\u001b[0;34m(\u001b[0m\u001b[0metx\u001b[0m\u001b[0;34m)\u001b[0m\u001b[0;34m\u001b[0m\u001b[0;34m\u001b[0m\u001b[0m\n\u001b[0m",
            "\u001b[0;31mNameError\u001b[0m: name 'etx' is not defined"
          ]
        }
      ]
    },
    {
      "cell_type": "code",
      "metadata": {
        "id": "tpBpAQIUJN3P",
        "colab": {
          "base_uri": "https://localhost:8080/"
        },
        "outputId": "df76bdc3-04b9-45b1-897b-81f7e495d964"
      },
      "source": [
        "# loc 이용하여 행 데이터 조회 실습\n",
        "print('Rows-1')\n",
        "#_____________________\n",
        "df.loc[1]"
      ],
      "execution_count": null,
      "outputs": [
        {
          "output_type": "stream",
          "text": [
            "Rows-1\n"
          ],
          "name": "stdout"
        },
        {
          "output_type": "execute_result",
          "data": {
            "text/plain": [
              "name       Emma\n",
              "subject    java\n",
              "score        95\n",
              "grade         A\n",
              "etc           0\n",
              "etx           0\n",
              "Name: 1, dtype: object"
            ]
          },
          "metadata": {
            "tags": []
          },
          "execution_count": 33
        }
      ]
    },
    {
      "cell_type": "code",
      "metadata": {
        "id": "7-1KRarJJOt_",
        "colab": {
          "base_uri": "https://localhost:8080/",
          "height": 159
        },
        "outputId": "9acb1521-0dcb-467e-fab8-b51cbfe10b53"
      },
      "source": [
        "# loc 이용하여 다중 행 데이터 조회 실습\n",
        "print('Rows-0,2,4')\n",
        "df.loc[[0,2,4]]"
      ],
      "execution_count": null,
      "outputs": [
        {
          "output_type": "stream",
          "text": [
            "Rows-0,2,4\n"
          ],
          "name": "stdout"
        },
        {
          "output_type": "execute_result",
          "data": {
            "text/html": [
              "<div>\n",
              "<style scoped>\n",
              "    .dataframe tbody tr th:only-of-type {\n",
              "        vertical-align: middle;\n",
              "    }\n",
              "\n",
              "    .dataframe tbody tr th {\n",
              "        vertical-align: top;\n",
              "    }\n",
              "\n",
              "    .dataframe thead th {\n",
              "        text-align: right;\n",
              "    }\n",
              "</style>\n",
              "<table border=\"1\" class=\"dataframe\">\n",
              "  <thead>\n",
              "    <tr style=\"text-align: right;\">\n",
              "      <th></th>\n",
              "      <th>name</th>\n",
              "      <th>subject</th>\n",
              "      <th>score</th>\n",
              "      <th>grade</th>\n",
              "      <th>etc</th>\n",
              "      <th>etx</th>\n",
              "    </tr>\n",
              "  </thead>\n",
              "  <tbody>\n",
              "    <tr>\n",
              "      <th>0</th>\n",
              "      <td>Jessi</td>\n",
              "      <td>python</td>\n",
              "      <td>100</td>\n",
              "      <td>A</td>\n",
              "      <td>0</td>\n",
              "      <td>0</td>\n",
              "    </tr>\n",
              "    <tr>\n",
              "      <th>2</th>\n",
              "      <td>Alex</td>\n",
              "      <td>python</td>\n",
              "      <td>80</td>\n",
              "      <td>B</td>\n",
              "      <td>0</td>\n",
              "      <td>0</td>\n",
              "    </tr>\n",
              "    <tr>\n",
              "      <th>4</th>\n",
              "      <td>Tom</td>\n",
              "      <td>java</td>\n",
              "      <td>97</td>\n",
              "      <td>A</td>\n",
              "      <td>0</td>\n",
              "      <td>0</td>\n",
              "    </tr>\n",
              "  </tbody>\n",
              "</table>\n",
              "</div>"
            ],
            "text/plain": [
              "    name subject  score grade  etc  etx\n",
              "0  Jessi  python    100     A    0    0\n",
              "2   Alex  python     80     B    0    0\n",
              "4    Tom    java     97     A    0    0"
            ]
          },
          "metadata": {
            "tags": []
          },
          "execution_count": 34
        }
      ]
    },
    {
      "cell_type": "code",
      "metadata": {
        "id": "aTtp3SlhJU2C",
        "colab": {
          "base_uri": "https://localhost:8080/",
          "height": 221
        },
        "outputId": "f4111a81-aebd-4853-e134-d6b270aea28f"
      },
      "source": [
        "# 특정 행 데이터 변경 실습\n",
        "print('Modify Rows0')\n",
        "df.loc[0] = ['Jessi', 'java', 70, 'C', 1,0]\n",
        "df"
      ],
      "execution_count": null,
      "outputs": [
        {
          "output_type": "stream",
          "text": [
            "Modify Rows0\n"
          ],
          "name": "stdout"
        },
        {
          "output_type": "execute_result",
          "data": {
            "text/html": [
              "<div>\n",
              "<style scoped>\n",
              "    .dataframe tbody tr th:only-of-type {\n",
              "        vertical-align: middle;\n",
              "    }\n",
              "\n",
              "    .dataframe tbody tr th {\n",
              "        vertical-align: top;\n",
              "    }\n",
              "\n",
              "    .dataframe thead th {\n",
              "        text-align: right;\n",
              "    }\n",
              "</style>\n",
              "<table border=\"1\" class=\"dataframe\">\n",
              "  <thead>\n",
              "    <tr style=\"text-align: right;\">\n",
              "      <th></th>\n",
              "      <th>name</th>\n",
              "      <th>subject</th>\n",
              "      <th>score</th>\n",
              "      <th>grade</th>\n",
              "      <th>etc</th>\n",
              "      <th>etx</th>\n",
              "    </tr>\n",
              "  </thead>\n",
              "  <tbody>\n",
              "    <tr>\n",
              "      <th>0</th>\n",
              "      <td>Jessi</td>\n",
              "      <td>java</td>\n",
              "      <td>70</td>\n",
              "      <td>C</td>\n",
              "      <td>1</td>\n",
              "      <td>0</td>\n",
              "    </tr>\n",
              "    <tr>\n",
              "      <th>1</th>\n",
              "      <td>Emma</td>\n",
              "      <td>java</td>\n",
              "      <td>95</td>\n",
              "      <td>A</td>\n",
              "      <td>0</td>\n",
              "      <td>0</td>\n",
              "    </tr>\n",
              "    <tr>\n",
              "      <th>2</th>\n",
              "      <td>Alex</td>\n",
              "      <td>python</td>\n",
              "      <td>80</td>\n",
              "      <td>B</td>\n",
              "      <td>0</td>\n",
              "      <td>0</td>\n",
              "    </tr>\n",
              "    <tr>\n",
              "      <th>3</th>\n",
              "      <td>Jessi</td>\n",
              "      <td>c</td>\n",
              "      <td>85</td>\n",
              "      <td>B</td>\n",
              "      <td>0</td>\n",
              "      <td>0</td>\n",
              "    </tr>\n",
              "    <tr>\n",
              "      <th>4</th>\n",
              "      <td>Tom</td>\n",
              "      <td>java</td>\n",
              "      <td>97</td>\n",
              "      <td>A</td>\n",
              "      <td>0</td>\n",
              "      <td>0</td>\n",
              "    </tr>\n",
              "  </tbody>\n",
              "</table>\n",
              "</div>"
            ],
            "text/plain": [
              "    name subject  score grade  etc  etx\n",
              "0  Jessi    java     70     C    1    0\n",
              "1   Emma    java     95     A    0    0\n",
              "2   Alex  python     80     B    0    0\n",
              "3  Jessi       c     85     B    0    0\n",
              "4    Tom    java     97     A    0    0"
            ]
          },
          "metadata": {
            "tags": []
          },
          "execution_count": 36
        }
      ]
    },
    {
      "cell_type": "code",
      "metadata": {
        "id": "LeVe9022IUBd",
        "colab": {
          "base_uri": "https://localhost:8080/",
          "height": 159
        },
        "outputId": "4d219f5a-a1fd-4964-9214-14419b3a6394"
      },
      "source": [
        "# 행과 열의 조건을 동시에 지정하여 조회 실습\n",
        "row_idx = [1,2,4]\n",
        "col_idx = ['name', 'subject', 'grade']\n",
        "\n",
        "print('Rows & Columns')\n",
        "df.loc[row_idx, col_idx]"
      ],
      "execution_count": null,
      "outputs": [
        {
          "output_type": "stream",
          "text": [
            "Rows & Columns\n"
          ],
          "name": "stdout"
        },
        {
          "output_type": "execute_result",
          "data": {
            "text/html": [
              "<div>\n",
              "<style scoped>\n",
              "    .dataframe tbody tr th:only-of-type {\n",
              "        vertical-align: middle;\n",
              "    }\n",
              "\n",
              "    .dataframe tbody tr th {\n",
              "        vertical-align: top;\n",
              "    }\n",
              "\n",
              "    .dataframe thead th {\n",
              "        text-align: right;\n",
              "    }\n",
              "</style>\n",
              "<table border=\"1\" class=\"dataframe\">\n",
              "  <thead>\n",
              "    <tr style=\"text-align: right;\">\n",
              "      <th></th>\n",
              "      <th>name</th>\n",
              "      <th>subject</th>\n",
              "      <th>grade</th>\n",
              "    </tr>\n",
              "  </thead>\n",
              "  <tbody>\n",
              "    <tr>\n",
              "      <th>1</th>\n",
              "      <td>Emma</td>\n",
              "      <td>java</td>\n",
              "      <td>A</td>\n",
              "    </tr>\n",
              "    <tr>\n",
              "      <th>2</th>\n",
              "      <td>Alex</td>\n",
              "      <td>python</td>\n",
              "      <td>B</td>\n",
              "    </tr>\n",
              "    <tr>\n",
              "      <th>4</th>\n",
              "      <td>Tom</td>\n",
              "      <td>java</td>\n",
              "      <td>A</td>\n",
              "    </tr>\n",
              "  </tbody>\n",
              "</table>\n",
              "</div>"
            ],
            "text/plain": [
              "   name subject grade\n",
              "1  Emma    java     A\n",
              "2  Alex  python     B\n",
              "4   Tom    java     A"
            ]
          },
          "metadata": {
            "tags": []
          },
          "execution_count": 37
        }
      ]
    },
    {
      "cell_type": "markdown",
      "metadata": {
        "id": "WjGQLYbhJe41"
      },
      "source": [
        "## 데이터 추가, 삭제"
      ]
    },
    {
      "cell_type": "markdown",
      "metadata": {
        "id": "nRJlpQe7JjW-"
      },
      "source": [
        "* 실습 데이터 생성"
      ]
    },
    {
      "cell_type": "code",
      "metadata": {
        "id": "XD-djooBJcNs",
        "colab": {
          "base_uri": "https://localhost:8080/"
        },
        "outputId": "64d24514-2e40-40eb-ecb7-01809643d55a"
      },
      "source": [
        "import pandas as pd\n",
        "\n",
        "# 실습 데이터 생성\n",
        "score = {'name': ['Jessi', 'Emma', 'Alex', 'Jessi', 'Tom'],\n",
        "         'score': [100, 95, 80, 85, 97],\n",
        "         'grade': ['A', 'A', 'B', 'B', 'A'],\n",
        "         'subject':['python', 'java', 'python', 'c', 'java']}\n",
        "c = ['name', 'subject', 'score', 'grade', 'etc']\n",
        "\n",
        "df = pd.DataFrame(data=score, columns=c)\n",
        "print(df)"
      ],
      "execution_count": null,
      "outputs": [
        {
          "output_type": "stream",
          "text": [
            "    name subject  score grade  etc\n",
            "0  Jessi  python    100     A  NaN\n",
            "1   Emma    java     95     A  NaN\n",
            "2   Alex  python     80     B  NaN\n",
            "3  Jessi       c     85     B  NaN\n",
            "4    Tom    java     97     A  NaN\n"
          ],
          "name": "stdout"
        }
      ]
    },
    {
      "cell_type": "code",
      "metadata": {
        "id": "oqjBn-ukJeFm",
        "colab": {
          "base_uri": "https://localhost:8080/",
          "height": 221
        },
        "outputId": "167810fb-0da7-4ad0-870b-cc928e2e87b8"
      },
      "source": [
        "# Series 객체 생성하여 'semester' 라는 열 추가\n",
        "semester_data = pd.Series(['20-01', '20-01', '20-02', '20-01'])\n",
        "df['semester'] = semester_data\n",
        "\n",
        "print('Add Columns : semester')\n",
        "df"
      ],
      "execution_count": null,
      "outputs": [
        {
          "output_type": "stream",
          "text": [
            "Add Columns : semester\n"
          ],
          "name": "stdout"
        },
        {
          "output_type": "execute_result",
          "data": {
            "text/html": [
              "<div>\n",
              "<style scoped>\n",
              "    .dataframe tbody tr th:only-of-type {\n",
              "        vertical-align: middle;\n",
              "    }\n",
              "\n",
              "    .dataframe tbody tr th {\n",
              "        vertical-align: top;\n",
              "    }\n",
              "\n",
              "    .dataframe thead th {\n",
              "        text-align: right;\n",
              "    }\n",
              "</style>\n",
              "<table border=\"1\" class=\"dataframe\">\n",
              "  <thead>\n",
              "    <tr style=\"text-align: right;\">\n",
              "      <th></th>\n",
              "      <th>name</th>\n",
              "      <th>subject</th>\n",
              "      <th>score</th>\n",
              "      <th>grade</th>\n",
              "      <th>etc</th>\n",
              "      <th>semester</th>\n",
              "    </tr>\n",
              "  </thead>\n",
              "  <tbody>\n",
              "    <tr>\n",
              "      <th>0</th>\n",
              "      <td>Jessi</td>\n",
              "      <td>python</td>\n",
              "      <td>100</td>\n",
              "      <td>A</td>\n",
              "      <td>NaN</td>\n",
              "      <td>20-01</td>\n",
              "    </tr>\n",
              "    <tr>\n",
              "      <th>1</th>\n",
              "      <td>Emma</td>\n",
              "      <td>java</td>\n",
              "      <td>95</td>\n",
              "      <td>A</td>\n",
              "      <td>NaN</td>\n",
              "      <td>20-01</td>\n",
              "    </tr>\n",
              "    <tr>\n",
              "      <th>2</th>\n",
              "      <td>Alex</td>\n",
              "      <td>python</td>\n",
              "      <td>80</td>\n",
              "      <td>B</td>\n",
              "      <td>NaN</td>\n",
              "      <td>20-02</td>\n",
              "    </tr>\n",
              "    <tr>\n",
              "      <th>3</th>\n",
              "      <td>Jessi</td>\n",
              "      <td>c</td>\n",
              "      <td>85</td>\n",
              "      <td>B</td>\n",
              "      <td>NaN</td>\n",
              "      <td>20-01</td>\n",
              "    </tr>\n",
              "    <tr>\n",
              "      <th>4</th>\n",
              "      <td>Tom</td>\n",
              "      <td>java</td>\n",
              "      <td>97</td>\n",
              "      <td>A</td>\n",
              "      <td>NaN</td>\n",
              "      <td>NaN</td>\n",
              "    </tr>\n",
              "  </tbody>\n",
              "</table>\n",
              "</div>"
            ],
            "text/plain": [
              "    name subject  score grade  etc semester\n",
              "0  Jessi  python    100     A  NaN    20-01\n",
              "1   Emma    java     95     A  NaN    20-01\n",
              "2   Alex  python     80     B  NaN    20-02\n",
              "3  Jessi       c     85     B  NaN    20-01\n",
              "4    Tom    java     97     A  NaN      NaN"
            ]
          },
          "metadata": {
            "tags": []
          },
          "execution_count": 44
        }
      ]
    },
    {
      "cell_type": "code",
      "metadata": {
        "id": "0SUJtn5HJo_n",
        "colab": {
          "base_uri": "https://localhost:8080/",
          "height": 221
        },
        "outputId": "366aff2f-d223-4163-f677-a294d812f825"
      },
      "source": [
        "# 연산 이용하여 'high_score' 라는 열 추가\n",
        "df['high_score'] = df['score']>90 #boolean\n",
        "\n",
        "print('Add Columns : high_score')\n",
        "df"
      ],
      "execution_count": null,
      "outputs": [
        {
          "output_type": "stream",
          "text": [
            "Add Columns : high_score\n"
          ],
          "name": "stdout"
        },
        {
          "output_type": "execute_result",
          "data": {
            "text/html": [
              "<div>\n",
              "<style scoped>\n",
              "    .dataframe tbody tr th:only-of-type {\n",
              "        vertical-align: middle;\n",
              "    }\n",
              "\n",
              "    .dataframe tbody tr th {\n",
              "        vertical-align: top;\n",
              "    }\n",
              "\n",
              "    .dataframe thead th {\n",
              "        text-align: right;\n",
              "    }\n",
              "</style>\n",
              "<table border=\"1\" class=\"dataframe\">\n",
              "  <thead>\n",
              "    <tr style=\"text-align: right;\">\n",
              "      <th></th>\n",
              "      <th>name</th>\n",
              "      <th>subject</th>\n",
              "      <th>score</th>\n",
              "      <th>grade</th>\n",
              "      <th>etc</th>\n",
              "      <th>semester</th>\n",
              "      <th>high_score</th>\n",
              "    </tr>\n",
              "  </thead>\n",
              "  <tbody>\n",
              "    <tr>\n",
              "      <th>0</th>\n",
              "      <td>Jessi</td>\n",
              "      <td>python</td>\n",
              "      <td>100</td>\n",
              "      <td>A</td>\n",
              "      <td>NaN</td>\n",
              "      <td>20-01</td>\n",
              "      <td>True</td>\n",
              "    </tr>\n",
              "    <tr>\n",
              "      <th>1</th>\n",
              "      <td>Emma</td>\n",
              "      <td>java</td>\n",
              "      <td>95</td>\n",
              "      <td>A</td>\n",
              "      <td>NaN</td>\n",
              "      <td>20-01</td>\n",
              "      <td>True</td>\n",
              "    </tr>\n",
              "    <tr>\n",
              "      <th>2</th>\n",
              "      <td>Alex</td>\n",
              "      <td>python</td>\n",
              "      <td>80</td>\n",
              "      <td>B</td>\n",
              "      <td>NaN</td>\n",
              "      <td>20-02</td>\n",
              "      <td>False</td>\n",
              "    </tr>\n",
              "    <tr>\n",
              "      <th>3</th>\n",
              "      <td>Jessi</td>\n",
              "      <td>c</td>\n",
              "      <td>85</td>\n",
              "      <td>B</td>\n",
              "      <td>NaN</td>\n",
              "      <td>20-01</td>\n",
              "      <td>False</td>\n",
              "    </tr>\n",
              "    <tr>\n",
              "      <th>4</th>\n",
              "      <td>Tom</td>\n",
              "      <td>java</td>\n",
              "      <td>97</td>\n",
              "      <td>A</td>\n",
              "      <td>NaN</td>\n",
              "      <td>NaN</td>\n",
              "      <td>True</td>\n",
              "    </tr>\n",
              "  </tbody>\n",
              "</table>\n",
              "</div>"
            ],
            "text/plain": [
              "    name subject  score grade  etc semester  high_score\n",
              "0  Jessi  python    100     A  NaN    20-01        True\n",
              "1   Emma    java     95     A  NaN    20-01        True\n",
              "2   Alex  python     80     B  NaN    20-02       False\n",
              "3  Jessi       c     85     B  NaN    20-01       False\n",
              "4    Tom    java     97     A  NaN      NaN        True"
            ]
          },
          "metadata": {
            "tags": []
          },
          "execution_count": 45
        }
      ]
    },
    {
      "cell_type": "code",
      "metadata": {
        "id": "mQ9_h-SsKKUm",
        "colab": {
          "base_uri": "https://localhost:8080/",
          "height": 252
        },
        "outputId": "e2d9658e-ff12-44d0-b45c-ea2ddae736cd"
      },
      "source": [
        "# 6 번 인덱스에 행 데이터 추가\n",
        "df.loc[6] = ['Jina', 'python', 100, 'A', 1, '20-02', True]\n",
        "\n",
        "print('Add Row 6')\n",
        "df"
      ],
      "execution_count": null,
      "outputs": [
        {
          "output_type": "stream",
          "text": [
            "Add Row 6\n"
          ],
          "name": "stdout"
        },
        {
          "output_type": "execute_result",
          "data": {
            "text/html": [
              "<div>\n",
              "<style scoped>\n",
              "    .dataframe tbody tr th:only-of-type {\n",
              "        vertical-align: middle;\n",
              "    }\n",
              "\n",
              "    .dataframe tbody tr th {\n",
              "        vertical-align: top;\n",
              "    }\n",
              "\n",
              "    .dataframe thead th {\n",
              "        text-align: right;\n",
              "    }\n",
              "</style>\n",
              "<table border=\"1\" class=\"dataframe\">\n",
              "  <thead>\n",
              "    <tr style=\"text-align: right;\">\n",
              "      <th></th>\n",
              "      <th>name</th>\n",
              "      <th>subject</th>\n",
              "      <th>score</th>\n",
              "      <th>grade</th>\n",
              "      <th>etc</th>\n",
              "      <th>semester</th>\n",
              "      <th>high_score</th>\n",
              "    </tr>\n",
              "  </thead>\n",
              "  <tbody>\n",
              "    <tr>\n",
              "      <th>0</th>\n",
              "      <td>Jessi</td>\n",
              "      <td>python</td>\n",
              "      <td>100</td>\n",
              "      <td>A</td>\n",
              "      <td>NaN</td>\n",
              "      <td>20-01</td>\n",
              "      <td>True</td>\n",
              "    </tr>\n",
              "    <tr>\n",
              "      <th>1</th>\n",
              "      <td>Emma</td>\n",
              "      <td>java</td>\n",
              "      <td>95</td>\n",
              "      <td>A</td>\n",
              "      <td>NaN</td>\n",
              "      <td>20-01</td>\n",
              "      <td>True</td>\n",
              "    </tr>\n",
              "    <tr>\n",
              "      <th>2</th>\n",
              "      <td>Alex</td>\n",
              "      <td>python</td>\n",
              "      <td>80</td>\n",
              "      <td>B</td>\n",
              "      <td>NaN</td>\n",
              "      <td>20-02</td>\n",
              "      <td>False</td>\n",
              "    </tr>\n",
              "    <tr>\n",
              "      <th>3</th>\n",
              "      <td>Jessi</td>\n",
              "      <td>c</td>\n",
              "      <td>85</td>\n",
              "      <td>B</td>\n",
              "      <td>NaN</td>\n",
              "      <td>20-01</td>\n",
              "      <td>False</td>\n",
              "    </tr>\n",
              "    <tr>\n",
              "      <th>4</th>\n",
              "      <td>Tom</td>\n",
              "      <td>java</td>\n",
              "      <td>97</td>\n",
              "      <td>A</td>\n",
              "      <td>NaN</td>\n",
              "      <td>NaN</td>\n",
              "      <td>True</td>\n",
              "    </tr>\n",
              "    <tr>\n",
              "      <th>6</th>\n",
              "      <td>Jina</td>\n",
              "      <td>python</td>\n",
              "      <td>100</td>\n",
              "      <td>A</td>\n",
              "      <td>1</td>\n",
              "      <td>20-02</td>\n",
              "      <td>True</td>\n",
              "    </tr>\n",
              "  </tbody>\n",
              "</table>\n",
              "</div>"
            ],
            "text/plain": [
              "    name subject  score grade  etc semester  high_score\n",
              "0  Jessi  python    100     A  NaN    20-01        True\n",
              "1   Emma    java     95     A  NaN    20-01        True\n",
              "2   Alex  python     80     B  NaN    20-02       False\n",
              "3  Jessi       c     85     B  NaN    20-01       False\n",
              "4    Tom    java     97     A  NaN      NaN        True\n",
              "6   Jina  python    100     A    1    20-02        True"
            ]
          },
          "metadata": {
            "tags": []
          },
          "execution_count": 46
        }
      ]
    },
    {
      "cell_type": "code",
      "metadata": {
        "id": "MUyViJR0KJCJ",
        "colab": {
          "base_uri": "https://localhost:8080/",
          "height": 221
        },
        "outputId": "69c54795-6253-4f49-acb9-bf72bbd7d840"
      },
      "source": [
        "# 1) drop() 이용하여 행 데이터 삭제\n",
        "# 2) inplace 인자를 사용하여 원본 데이터에 바로 삭제\n",
        "\n",
        "#df.drop(6)\n",
        "\n",
        "df.drop(6, inplace=True)\n",
        "print('Delete Row : 6')\n",
        "df"
      ],
      "execution_count": null,
      "outputs": [
        {
          "output_type": "stream",
          "text": [
            "Delete Row : 6\n"
          ],
          "name": "stdout"
        },
        {
          "output_type": "execute_result",
          "data": {
            "text/html": [
              "<div>\n",
              "<style scoped>\n",
              "    .dataframe tbody tr th:only-of-type {\n",
              "        vertical-align: middle;\n",
              "    }\n",
              "\n",
              "    .dataframe tbody tr th {\n",
              "        vertical-align: top;\n",
              "    }\n",
              "\n",
              "    .dataframe thead th {\n",
              "        text-align: right;\n",
              "    }\n",
              "</style>\n",
              "<table border=\"1\" class=\"dataframe\">\n",
              "  <thead>\n",
              "    <tr style=\"text-align: right;\">\n",
              "      <th></th>\n",
              "      <th>name</th>\n",
              "      <th>subject</th>\n",
              "      <th>score</th>\n",
              "      <th>grade</th>\n",
              "      <th>etc</th>\n",
              "      <th>semester</th>\n",
              "      <th>high_score</th>\n",
              "    </tr>\n",
              "  </thead>\n",
              "  <tbody>\n",
              "    <tr>\n",
              "      <th>0</th>\n",
              "      <td>Jessi</td>\n",
              "      <td>python</td>\n",
              "      <td>100</td>\n",
              "      <td>A</td>\n",
              "      <td>NaN</td>\n",
              "      <td>20-01</td>\n",
              "      <td>True</td>\n",
              "    </tr>\n",
              "    <tr>\n",
              "      <th>1</th>\n",
              "      <td>Emma</td>\n",
              "      <td>java</td>\n",
              "      <td>95</td>\n",
              "      <td>A</td>\n",
              "      <td>NaN</td>\n",
              "      <td>20-01</td>\n",
              "      <td>True</td>\n",
              "    </tr>\n",
              "    <tr>\n",
              "      <th>2</th>\n",
              "      <td>Alex</td>\n",
              "      <td>python</td>\n",
              "      <td>80</td>\n",
              "      <td>B</td>\n",
              "      <td>NaN</td>\n",
              "      <td>20-02</td>\n",
              "      <td>False</td>\n",
              "    </tr>\n",
              "    <tr>\n",
              "      <th>3</th>\n",
              "      <td>Jessi</td>\n",
              "      <td>c</td>\n",
              "      <td>85</td>\n",
              "      <td>B</td>\n",
              "      <td>NaN</td>\n",
              "      <td>20-01</td>\n",
              "      <td>False</td>\n",
              "    </tr>\n",
              "    <tr>\n",
              "      <th>4</th>\n",
              "      <td>Tom</td>\n",
              "      <td>java</td>\n",
              "      <td>97</td>\n",
              "      <td>A</td>\n",
              "      <td>NaN</td>\n",
              "      <td>NaN</td>\n",
              "      <td>True</td>\n",
              "    </tr>\n",
              "  </tbody>\n",
              "</table>\n",
              "</div>"
            ],
            "text/plain": [
              "    name subject  score grade  etc semester  high_score\n",
              "0  Jessi  python    100     A  NaN    20-01        True\n",
              "1   Emma    java     95     A  NaN    20-01        True\n",
              "2   Alex  python     80     B  NaN    20-02       False\n",
              "3  Jessi       c     85     B  NaN    20-01       False\n",
              "4    Tom    java     97     A  NaN      NaN        True"
            ]
          },
          "metadata": {
            "tags": []
          },
          "execution_count": 50
        }
      ]
    },
    {
      "cell_type": "code",
      "metadata": {
        "id": "8YkvfggrJpNZ",
        "colab": {
          "base_uri": "https://localhost:8080/",
          "height": 221
        },
        "outputId": "13569e03-c602-4f3d-eb8c-251a296f5b4a"
      },
      "source": [
        "# drop() 이용하여 'etc' 열 삭제 (원본데이터변경)\n",
        "df.drop(columns=['etc'], inplace=True)\n",
        "\n",
        "print('Delete Column :')\n",
        "df"
      ],
      "execution_count": null,
      "outputs": [
        {
          "output_type": "stream",
          "text": [
            "Delete Column :\n"
          ],
          "name": "stdout"
        },
        {
          "output_type": "execute_result",
          "data": {
            "text/html": [
              "<div>\n",
              "<style scoped>\n",
              "    .dataframe tbody tr th:only-of-type {\n",
              "        vertical-align: middle;\n",
              "    }\n",
              "\n",
              "    .dataframe tbody tr th {\n",
              "        vertical-align: top;\n",
              "    }\n",
              "\n",
              "    .dataframe thead th {\n",
              "        text-align: right;\n",
              "    }\n",
              "</style>\n",
              "<table border=\"1\" class=\"dataframe\">\n",
              "  <thead>\n",
              "    <tr style=\"text-align: right;\">\n",
              "      <th></th>\n",
              "      <th>name</th>\n",
              "      <th>subject</th>\n",
              "      <th>score</th>\n",
              "      <th>grade</th>\n",
              "      <th>semester</th>\n",
              "      <th>high_score</th>\n",
              "    </tr>\n",
              "  </thead>\n",
              "  <tbody>\n",
              "    <tr>\n",
              "      <th>0</th>\n",
              "      <td>Jessi</td>\n",
              "      <td>python</td>\n",
              "      <td>100</td>\n",
              "      <td>A</td>\n",
              "      <td>20-01</td>\n",
              "      <td>True</td>\n",
              "    </tr>\n",
              "    <tr>\n",
              "      <th>1</th>\n",
              "      <td>Emma</td>\n",
              "      <td>java</td>\n",
              "      <td>95</td>\n",
              "      <td>A</td>\n",
              "      <td>20-01</td>\n",
              "      <td>True</td>\n",
              "    </tr>\n",
              "    <tr>\n",
              "      <th>2</th>\n",
              "      <td>Alex</td>\n",
              "      <td>python</td>\n",
              "      <td>80</td>\n",
              "      <td>B</td>\n",
              "      <td>20-02</td>\n",
              "      <td>False</td>\n",
              "    </tr>\n",
              "    <tr>\n",
              "      <th>3</th>\n",
              "      <td>Jessi</td>\n",
              "      <td>c</td>\n",
              "      <td>85</td>\n",
              "      <td>B</td>\n",
              "      <td>20-01</td>\n",
              "      <td>False</td>\n",
              "    </tr>\n",
              "    <tr>\n",
              "      <th>4</th>\n",
              "      <td>Tom</td>\n",
              "      <td>java</td>\n",
              "      <td>97</td>\n",
              "      <td>A</td>\n",
              "      <td>NaN</td>\n",
              "      <td>True</td>\n",
              "    </tr>\n",
              "  </tbody>\n",
              "</table>\n",
              "</div>"
            ],
            "text/plain": [
              "    name subject  score grade semester  high_score\n",
              "0  Jessi  python    100     A    20-01        True\n",
              "1   Emma    java     95     A    20-01        True\n",
              "2   Alex  python     80     B    20-02       False\n",
              "3  Jessi       c     85     B    20-01       False\n",
              "4    Tom    java     97     A      NaN        True"
            ]
          },
          "metadata": {
            "tags": []
          },
          "execution_count": 51
        }
      ]
    },
    {
      "cell_type": "markdown",
      "metadata": {
        "id": "O34KjT_RKdGV"
      },
      "source": [
        "## 데이터 파일 읽기"
      ]
    },
    {
      "cell_type": "code",
      "metadata": {
        "id": "eVGnPfk_Ko33",
        "colab": {
          "base_uri": "https://localhost:8080/"
        },
        "outputId": "e6cd1919-1f71-4442-c524-22a104199a18"
      },
      "source": [
        "filepath = '/content/sample_data/mnist_train_small.csv'\n",
        "\n",
        "titanic_df = pd.read_csv(filepath)\n",
        "type(titanic_df)"
      ],
      "execution_count": null,
      "outputs": [
        {
          "output_type": "execute_result",
          "data": {
            "text/plain": [
              "pandas.core.frame.DataFrame"
            ]
          },
          "metadata": {
            "tags": []
          },
          "execution_count": 71
        }
      ]
    },
    {
      "cell_type": "code",
      "metadata": {
        "colab": {
          "base_uri": "https://localhost:8080/"
        },
        "id": "It-uCdIFFgAz",
        "outputId": "831c6466-626c-467d-978f-c21a160749b8"
      },
      "source": [
        "from google.colab import drive\n",
        "drive.mount('/content/drive')"
      ],
      "execution_count": null,
      "outputs": [
        {
          "output_type": "stream",
          "text": [
            "Mounted at /content/drive\n"
          ],
          "name": "stdout"
        }
      ]
    },
    {
      "cell_type": "code",
      "metadata": {
        "colab": {
          "base_uri": "https://localhost:8080/"
        },
        "id": "K_bbLOazFOIi",
        "outputId": "9ec354ba-7815-477d-d94c-704c6c088f35"
      },
      "source": [
        "!unzip -qq '/dataset_1.zip'"
      ],
      "execution_count": null,
      "outputs": [
        {
          "output_type": "stream",
          "text": [
            "checkdir error:  cannot create dataset_1\n",
            "                 File exists\n",
            "                 unable to process dataset_1/.\n",
            "checkdir error:  cannot create dataset_1\n",
            "                 File exists\n",
            "                 unable to process dataset_1/students_score.xlsx.\n",
            "checkdir error:  cannot create dataset_1\n",
            "                 File exists\n",
            "                 unable to process dataset_1/titanic.csv.\n"
          ],
          "name": "stdout"
        }
      ]
    },
    {
      "cell_type": "code",
      "metadata": {
        "id": "9vZMt3zLLqMi"
      },
      "source": [
        "# info() 확인해보기\n",
        "print('Summary of DataFrame')\n",
        "____________________"
      ],
      "execution_count": null,
      "outputs": []
    },
    {
      "cell_type": "code",
      "metadata": {
        "id": "bnEkYB5EWHym",
        "colab": {
          "base_uri": "https://localhost:8080/"
        },
        "outputId": "12c8cafa-69f3-4367-83c9-c0585088c07e"
      },
      "source": [
        "# sample 데이터 출력해보기\n",
        "print('Return the first n rows')\n",
        "print(titanic_df.head())"
      ],
      "execution_count": null,
      "outputs": [
        {
          "output_type": "stream",
          "text": [
            "Return the first n rows\n",
            "   6  0  0.1  0.2  0.3  0.4  ...  0.585  0.586  0.587  0.588  0.589  0.590\n",
            "0  5  0    0    0    0    0  ...      0      0      0      0      0      0\n",
            "1  7  0    0    0    0    0  ...      0      0      0      0      0      0\n",
            "2  9  0    0    0    0    0  ...      0      0      0      0      0      0\n",
            "3  5  0    0    0    0    0  ...      0      0      0      0      0      0\n",
            "4  2  0    0    0    0    0  ...      0      0      0      0      0      0\n",
            "\n",
            "[5 rows x 785 columns]\n"
          ],
          "name": "stdout"
        }
      ]
    },
    {
      "cell_type": "code",
      "metadata": {
        "id": "uZaVp91sWPHs",
        "colab": {
          "base_uri": "https://localhost:8080/",
          "height": 221
        },
        "outputId": "68c88ec9-c225-4511-efa7-35be646a8a3c"
      },
      "source": [
        "# 엑셀 파일에서 데이터 읽기\n",
        "filepath2 = '/content/sample_data/students_score.xlsx'\n",
        "print('Read students_score.xlsx')\n",
        "sample_df = pd.read_excel(filepath2)\n",
        "sample_df"
      ],
      "execution_count": null,
      "outputs": [
        {
          "output_type": "stream",
          "text": [
            "Read students_score.xlsx\n"
          ],
          "name": "stdout"
        },
        {
          "output_type": "execute_result",
          "data": {
            "text/html": [
              "<div>\n",
              "<style scoped>\n",
              "    .dataframe tbody tr th:only-of-type {\n",
              "        vertical-align: middle;\n",
              "    }\n",
              "\n",
              "    .dataframe tbody tr th {\n",
              "        vertical-align: top;\n",
              "    }\n",
              "\n",
              "    .dataframe thead th {\n",
              "        text-align: right;\n",
              "    }\n",
              "</style>\n",
              "<table border=\"1\" class=\"dataframe\">\n",
              "  <thead>\n",
              "    <tr style=\"text-align: right;\">\n",
              "      <th></th>\n",
              "      <th>Jessi</th>\n",
              "      <th>20</th>\n",
              "      <th>100</th>\n",
              "      <th>A</th>\n",
              "      <th>python</th>\n",
              "    </tr>\n",
              "  </thead>\n",
              "  <tbody>\n",
              "    <tr>\n",
              "      <th>0</th>\n",
              "      <td>Emma</td>\n",
              "      <td>24</td>\n",
              "      <td>95</td>\n",
              "      <td>A</td>\n",
              "      <td>java</td>\n",
              "    </tr>\n",
              "    <tr>\n",
              "      <th>1</th>\n",
              "      <td>Alex</td>\n",
              "      <td>23</td>\n",
              "      <td>80</td>\n",
              "      <td>B</td>\n",
              "      <td>python</td>\n",
              "    </tr>\n",
              "    <tr>\n",
              "      <th>2</th>\n",
              "      <td>Jessi</td>\n",
              "      <td>20</td>\n",
              "      <td>85</td>\n",
              "      <td>B</td>\n",
              "      <td>c</td>\n",
              "    </tr>\n",
              "    <tr>\n",
              "      <th>3</th>\n",
              "      <td>Tom</td>\n",
              "      <td>27</td>\n",
              "      <td>97</td>\n",
              "      <td>A</td>\n",
              "      <td>java</td>\n",
              "    </tr>\n",
              "    <tr>\n",
              "      <th>4</th>\n",
              "      <td>Sia</td>\n",
              "      <td>28</td>\n",
              "      <td>79</td>\n",
              "      <td>C</td>\n",
              "      <td>python</td>\n",
              "    </tr>\n",
              "  </tbody>\n",
              "</table>\n",
              "</div>"
            ],
            "text/plain": [
              "   Jessi  20  100  A  python\n",
              "0   Emma  24   95  A    java\n",
              "1   Alex  23   80  B  python\n",
              "2  Jessi  20   85  B       c\n",
              "3    Tom  27   97  A    java\n",
              "4    Sia  28   79  C  python"
            ]
          },
          "metadata": {
            "tags": []
          },
          "execution_count": 73
        }
      ]
    },
    {
      "cell_type": "code",
      "metadata": {
        "id": "IwGt1nLsWXiQ",
        "colab": {
          "base_uri": "https://localhost:8080/",
          "height": 159
        },
        "outputId": "ce5bf3bc-e9af-456f-bcca-4b372134773c"
      },
      "source": [
        "# 1) header=none 옵션으로 컬럼 없이 데이터 읽기\n",
        "# 2) df.columns 에 새로운 컬럼명 저장하기\n",
        "sample_df = pd.read_excel(filepath2, header = 2)\n",
        "sample_df.columns = ['name', 'age', 'score', 'grade', 'subject']\n",
        "\n",
        "print('Read Excel by header=none')\n",
        "sample_df"
      ],
      "execution_count": null,
      "outputs": [
        {
          "output_type": "stream",
          "text": [
            "Read Excel by header=none\n"
          ],
          "name": "stdout"
        },
        {
          "output_type": "execute_result",
          "data": {
            "text/html": [
              "<div>\n",
              "<style scoped>\n",
              "    .dataframe tbody tr th:only-of-type {\n",
              "        vertical-align: middle;\n",
              "    }\n",
              "\n",
              "    .dataframe tbody tr th {\n",
              "        vertical-align: top;\n",
              "    }\n",
              "\n",
              "    .dataframe thead th {\n",
              "        text-align: right;\n",
              "    }\n",
              "</style>\n",
              "<table border=\"1\" class=\"dataframe\">\n",
              "  <thead>\n",
              "    <tr style=\"text-align: right;\">\n",
              "      <th></th>\n",
              "      <th>name</th>\n",
              "      <th>age</th>\n",
              "      <th>score</th>\n",
              "      <th>grade</th>\n",
              "      <th>subject</th>\n",
              "    </tr>\n",
              "  </thead>\n",
              "  <tbody>\n",
              "    <tr>\n",
              "      <th>0</th>\n",
              "      <td>Jessi</td>\n",
              "      <td>20</td>\n",
              "      <td>85</td>\n",
              "      <td>B</td>\n",
              "      <td>c</td>\n",
              "    </tr>\n",
              "    <tr>\n",
              "      <th>1</th>\n",
              "      <td>Tom</td>\n",
              "      <td>27</td>\n",
              "      <td>97</td>\n",
              "      <td>A</td>\n",
              "      <td>java</td>\n",
              "    </tr>\n",
              "    <tr>\n",
              "      <th>2</th>\n",
              "      <td>Sia</td>\n",
              "      <td>28</td>\n",
              "      <td>79</td>\n",
              "      <td>C</td>\n",
              "      <td>python</td>\n",
              "    </tr>\n",
              "  </tbody>\n",
              "</table>\n",
              "</div>"
            ],
            "text/plain": [
              "    name  age  score grade subject\n",
              "0  Jessi   20     85     B       c\n",
              "1    Tom   27     97     A    java\n",
              "2    Sia   28     79     C  python"
            ]
          },
          "metadata": {
            "tags": []
          },
          "execution_count": 76
        }
      ]
    },
    {
      "cell_type": "code",
      "metadata": {
        "id": "f7gQlyXzWh2F",
        "colab": {
          "base_uri": "https://localhost:8080/",
          "height": 252
        },
        "outputId": "d90aaee7-8945-43e1-81d5-82d24cf3da8e"
      },
      "source": [
        "# 'students' sheet 에 있는 데이터 읽기\n",
        "print('Read Excel on students sheet')\n",
        "student_df =pd.read_excel(filepath2, sheet_name='students')\n",
        "student_df"
      ],
      "execution_count": null,
      "outputs": [
        {
          "output_type": "stream",
          "text": [
            "Read Excel on students sheet\n"
          ],
          "name": "stdout"
        },
        {
          "output_type": "execute_result",
          "data": {
            "text/html": [
              "<div>\n",
              "<style scoped>\n",
              "    .dataframe tbody tr th:only-of-type {\n",
              "        vertical-align: middle;\n",
              "    }\n",
              "\n",
              "    .dataframe tbody tr th {\n",
              "        vertical-align: top;\n",
              "    }\n",
              "\n",
              "    .dataframe thead th {\n",
              "        text-align: right;\n",
              "    }\n",
              "</style>\n",
              "<table border=\"1\" class=\"dataframe\">\n",
              "  <thead>\n",
              "    <tr style=\"text-align: right;\">\n",
              "      <th></th>\n",
              "      <th>name</th>\n",
              "      <th>age</th>\n",
              "      <th>etc1</th>\n",
              "      <th>etc2</th>\n",
              "      <th>etc3</th>\n",
              "      <th>email</th>\n",
              "    </tr>\n",
              "  </thead>\n",
              "  <tbody>\n",
              "    <tr>\n",
              "      <th>0</th>\n",
              "      <td>Lee</td>\n",
              "      <td>25</td>\n",
              "      <td>0.1</td>\n",
              "      <td>0.1</td>\n",
              "      <td>0.1</td>\n",
              "      <td>lee@codepresso.kr</td>\n",
              "    </tr>\n",
              "    <tr>\n",
              "      <th>1</th>\n",
              "      <td>Hwang</td>\n",
              "      <td>24</td>\n",
              "      <td>0.1</td>\n",
              "      <td>0.1</td>\n",
              "      <td>0.1</td>\n",
              "      <td>hwang@codepresso.kr</td>\n",
              "    </tr>\n",
              "    <tr>\n",
              "      <th>2</th>\n",
              "      <td>Kim</td>\n",
              "      <td>28</td>\n",
              "      <td>0.1</td>\n",
              "      <td>0.1</td>\n",
              "      <td>0.1</td>\n",
              "      <td>kim@codepresso.kr</td>\n",
              "    </tr>\n",
              "    <tr>\n",
              "      <th>3</th>\n",
              "      <td>Choi</td>\n",
              "      <td>27</td>\n",
              "      <td>0.1</td>\n",
              "      <td>0.1</td>\n",
              "      <td>0.1</td>\n",
              "      <td>choi@codepresso.kr</td>\n",
              "    </tr>\n",
              "    <tr>\n",
              "      <th>4</th>\n",
              "      <td>Park</td>\n",
              "      <td>21</td>\n",
              "      <td>0.1</td>\n",
              "      <td>0.1</td>\n",
              "      <td>0.1</td>\n",
              "      <td>park@codepresso.kr</td>\n",
              "    </tr>\n",
              "    <tr>\n",
              "      <th>5</th>\n",
              "      <td>Lim</td>\n",
              "      <td>20</td>\n",
              "      <td>0.1</td>\n",
              "      <td>0.1</td>\n",
              "      <td>0.1</td>\n",
              "      <td>lim@codepresso.kr</td>\n",
              "    </tr>\n",
              "  </tbody>\n",
              "</table>\n",
              "</div>"
            ],
            "text/plain": [
              "    name  age  etc1  etc2  etc3                email\n",
              "0    Lee   25   0.1   0.1   0.1    lee@codepresso.kr\n",
              "1  Hwang   24   0.1   0.1   0.1  hwang@codepresso.kr\n",
              "2    Kim   28   0.1   0.1   0.1    kim@codepresso.kr\n",
              "3   Choi   27   0.1   0.1   0.1   choi@codepresso.kr\n",
              "4   Park   21   0.1   0.1   0.1   park@codepresso.kr\n",
              "5    Lim   20   0.1   0.1   0.1    lim@codepresso.kr"
            ]
          },
          "metadata": {
            "tags": []
          },
          "execution_count": 77
        }
      ]
    },
    {
      "cell_type": "markdown",
      "metadata": {
        "id": "MM-tFHB8HM-T"
      },
      "source": [
        "## 데이터 전처리(1)"
      ]
    },
    {
      "cell_type": "markdown",
      "metadata": {
        "id": "pyXLGxOZHOdn"
      },
      "source": [
        "* 샘플데이터 생성"
      ]
    },
    {
      "cell_type": "code",
      "metadata": {
        "colab": {
          "base_uri": "https://localhost:8080/"
        },
        "id": "ew4EjJLQiAnJ",
        "outputId": "d3c3f6a0-61a6-430a-dc3a-5aecaf7e94c4"
      },
      "source": [
        "import pandas as pd\n",
        "import numpy as np\n",
        "\n",
        "# 실습 데이터 생성\n",
        "df = pd.DataFrame(data = np.arange(18).reshape(6,3),\n",
        "\t\t\t\t  index = ['a','b','c','d','e','f'],\n",
        "                  columns=['col1','col2','col3'])\n",
        "                  \n",
        "df['col4'] = pd.Series(data = [1.7, 1.2, 2.4], \n",
        "                       index = ['a','e','c'])\n",
        "df.loc['c'] = None\n",
        "\n",
        "# 실습 데이터 출력\n",
        "print(df)"
      ],
      "execution_count": null,
      "outputs": [
        {
          "output_type": "stream",
          "text": [
            "   col1  col2  col3  col4\n",
            "a   0.0   1.0   2.0   1.7\n",
            "b   3.0   4.0   5.0   NaN\n",
            "c   NaN   NaN   NaN   NaN\n",
            "d   9.0  10.0  11.0   NaN\n",
            "e  12.0  13.0  14.0   1.2\n",
            "f  15.0  16.0  17.0   NaN\n"
          ],
          "name": "stdout"
        }
      ]
    },
    {
      "cell_type": "code",
      "metadata": {
        "id": "dvydmxI1jiWe",
        "colab": {
          "base_uri": "https://localhost:8080/"
        },
        "outputId": "a2759d99-1c85-4033-fd0a-81411d15c4a7"
      },
      "source": [
        "# df.info() 함수로 결측치 유무 확인하기\n",
        "print('#1 Summary of DataFrame')\n",
        "df.info()"
      ],
      "execution_count": null,
      "outputs": [
        {
          "output_type": "stream",
          "text": [
            "#1 Summary of DataFrame\n",
            "<class 'pandas.core.frame.DataFrame'>\n",
            "Index: 6 entries, a to f\n",
            "Data columns (total 4 columns):\n",
            " #   Column  Non-Null Count  Dtype  \n",
            "---  ------  --------------  -----  \n",
            " 0   col1    5 non-null      float64\n",
            " 1   col2    5 non-null      float64\n",
            " 2   col3    5 non-null      float64\n",
            " 3   col4    2 non-null      float64\n",
            "dtypes: float64(4)\n",
            "memory usage: 400.0+ bytes\n"
          ],
          "name": "stdout"
        }
      ]
    },
    {
      "cell_type": "code",
      "metadata": {
        "id": "8tXxWDoqHiPw",
        "colab": {
          "base_uri": "https://localhost:8080/",
          "height": 252
        },
        "outputId": "65d24adf-4f1d-4111-e0bf-b3bee93499cc"
      },
      "source": [
        "# df.isnull() 함수로 결측치 유무 확인하기\n",
        "print('#2 isnull of DataFrame')\n",
        "df.isnull()\n"
      ],
      "execution_count": null,
      "outputs": [
        {
          "output_type": "stream",
          "text": [
            "#2 isnull of DataFrame\n"
          ],
          "name": "stdout"
        },
        {
          "output_type": "execute_result",
          "data": {
            "text/html": [
              "<div>\n",
              "<style scoped>\n",
              "    .dataframe tbody tr th:only-of-type {\n",
              "        vertical-align: middle;\n",
              "    }\n",
              "\n",
              "    .dataframe tbody tr th {\n",
              "        vertical-align: top;\n",
              "    }\n",
              "\n",
              "    .dataframe thead th {\n",
              "        text-align: right;\n",
              "    }\n",
              "</style>\n",
              "<table border=\"1\" class=\"dataframe\">\n",
              "  <thead>\n",
              "    <tr style=\"text-align: right;\">\n",
              "      <th></th>\n",
              "      <th>col1</th>\n",
              "      <th>col2</th>\n",
              "      <th>col3</th>\n",
              "      <th>col4</th>\n",
              "    </tr>\n",
              "  </thead>\n",
              "  <tbody>\n",
              "    <tr>\n",
              "      <th>a</th>\n",
              "      <td>False</td>\n",
              "      <td>False</td>\n",
              "      <td>False</td>\n",
              "      <td>False</td>\n",
              "    </tr>\n",
              "    <tr>\n",
              "      <th>b</th>\n",
              "      <td>False</td>\n",
              "      <td>False</td>\n",
              "      <td>False</td>\n",
              "      <td>True</td>\n",
              "    </tr>\n",
              "    <tr>\n",
              "      <th>c</th>\n",
              "      <td>True</td>\n",
              "      <td>True</td>\n",
              "      <td>True</td>\n",
              "      <td>True</td>\n",
              "    </tr>\n",
              "    <tr>\n",
              "      <th>d</th>\n",
              "      <td>False</td>\n",
              "      <td>False</td>\n",
              "      <td>False</td>\n",
              "      <td>True</td>\n",
              "    </tr>\n",
              "    <tr>\n",
              "      <th>e</th>\n",
              "      <td>False</td>\n",
              "      <td>False</td>\n",
              "      <td>False</td>\n",
              "      <td>False</td>\n",
              "    </tr>\n",
              "    <tr>\n",
              "      <th>f</th>\n",
              "      <td>False</td>\n",
              "      <td>False</td>\n",
              "      <td>False</td>\n",
              "      <td>True</td>\n",
              "    </tr>\n",
              "  </tbody>\n",
              "</table>\n",
              "</div>"
            ],
            "text/plain": [
              "    col1   col2   col3   col4\n",
              "a  False  False  False  False\n",
              "b  False  False  False   True\n",
              "c   True   True   True   True\n",
              "d  False  False  False   True\n",
              "e  False  False  False  False\n",
              "f  False  False  False   True"
            ]
          },
          "metadata": {
            "tags": []
          },
          "execution_count": 83
        }
      ]
    },
    {
      "cell_type": "code",
      "metadata": {
        "id": "PiStPJsxjdrp",
        "colab": {
          "base_uri": "https://localhost:8080/"
        },
        "outputId": "b85f2027-99c6-4856-d1d8-b28bdc8910f7"
      },
      "source": [
        "print('#4 Sum of all missing values per columns')\n",
        "df.isnull().sum()\n"
      ],
      "execution_count": null,
      "outputs": [
        {
          "output_type": "stream",
          "text": [
            "#4 Sum of all missing values per columns\n"
          ],
          "name": "stdout"
        },
        {
          "output_type": "execute_result",
          "data": {
            "text/plain": [
              "col1    1\n",
              "col2    1\n",
              "col3    1\n",
              "col4    4\n",
              "dtype: int64"
            ]
          },
          "metadata": {
            "tags": []
          },
          "execution_count": 84
        }
      ]
    },
    {
      "cell_type": "code",
      "metadata": {
        "id": "b6uRlTlHHqCK",
        "colab": {
          "base_uri": "https://localhost:8080/"
        },
        "outputId": "1f8fd901-727e-4f9a-d41d-fe6c9a4a623c"
      },
      "source": [
        "print('#5 Sum of all missing values per rows')\n",
        "df.isnull().sum(axis=1)"
      ],
      "execution_count": null,
      "outputs": [
        {
          "output_type": "stream",
          "text": [
            "#5 Sum of all missing values per rows\n"
          ],
          "name": "stdout"
        },
        {
          "output_type": "execute_result",
          "data": {
            "text/plain": [
              "a    0\n",
              "b    1\n",
              "c    4\n",
              "d    1\n",
              "e    0\n",
              "f    1\n",
              "dtype: int64"
            ]
          },
          "metadata": {
            "tags": []
          },
          "execution_count": 85
        }
      ]
    },
    {
      "cell_type": "markdown",
      "metadata": {
        "id": "w3Ip6LuHJJ_H"
      },
      "source": [
        "## 데이터 전처리(2)"
      ]
    },
    {
      "cell_type": "code",
      "metadata": {
        "id": "VdhnQABcmm60"
      },
      "source": [
        "# 행을 기준으로 결측치 조회하여 제거하기\n",
        "print('#1 Remove missing values')\n",
        "_________________________"
      ],
      "execution_count": null,
      "outputs": []
    },
    {
      "cell_type": "code",
      "metadata": {
        "id": "lF0R4KC_nryi"
      },
      "source": [
        "# 원본데이터에 반영\n",
        "print('#2 Remove missing values with inpalce=True')\n",
        "_________________________\n",
        "_________________________"
      ],
      "execution_count": null,
      "outputs": []
    },
    {
      "cell_type": "code",
      "metadata": {
        "id": "SpOfvr0boeao"
      },
      "source": [
        "# 열을 기준으로 결측치 조회하여 제거하기\n",
        "print('#3 Remove missing values in columns')\n",
        "_________________________"
      ],
      "execution_count": null,
      "outputs": []
    },
    {
      "cell_type": "code",
      "metadata": {
        "id": "_ptvBaiDzk7e"
      },
      "source": [
        "# 실습 데이터 추가\n",
        "df.iloc[:2, 0] = np.nan\n",
        "df.iloc[:4, 1] = np.nan\n",
        "print(df)"
      ],
      "execution_count": null,
      "outputs": []
    },
    {
      "cell_type": "code",
      "metadata": {
        "id": "3ngZnrfIzmCn"
      },
      "source": [
        "# 결측값을 0 으로 대체하기\n",
        "print('#4 Replace missing values')\n",
        "_________________________"
      ],
      "execution_count": null,
      "outputs": []
    },
    {
      "cell_type": "code",
      "metadata": {
        "id": "wjsSVlGc70bg"
      },
      "source": [
        "# 딕셔너리를 활용한 컬럼별 대체값 지정하기\n",
        "print('#5 Replace missing values')\n",
        "replace_set = {'col2':0, 'col4':'100'}\n",
        "_________________________"
      ],
      "execution_count": null,
      "outputs": []
    },
    {
      "cell_type": "code",
      "metadata": {
        "id": "F6dzT0XI718k"
      },
      "source": [
        "print('#6 Replace missing values')\n",
        "replace_set = {'col1':df['col1'].mean()}\n",
        "_________________________"
      ],
      "execution_count": null,
      "outputs": []
    }
  ]
}