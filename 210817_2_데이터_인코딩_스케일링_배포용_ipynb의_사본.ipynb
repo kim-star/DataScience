{
  "nbformat": 4,
  "nbformat_minor": 0,
  "metadata": {
    "kernelspec": {
      "display_name": "Python 3",
      "language": "python",
      "name": "python3"
    },
    "language_info": {
      "codemirror_mode": {
        "name": "ipython",
        "version": 3
      },
      "file_extension": ".py",
      "mimetype": "text/x-python",
      "name": "python",
      "nbconvert_exporter": "python",
      "pygments_lexer": "ipython3",
      "version": "3.8.8"
    },
    "toc": {
      "base_numbering": 1,
      "nav_menu": {},
      "number_sections": true,
      "sideBar": true,
      "skip_h1_title": false,
      "title_cell": "Table of Contents",
      "title_sidebar": "Contents",
      "toc_cell": false,
      "toc_position": {
        "height": "calc(100% - 180px)",
        "left": "10px",
        "top": "150px",
        "width": "165px"
      },
      "toc_section_display": true,
      "toc_window_display": true
    },
    "colab": {
      "name": "210817_2_데이터_인코딩_스케일링_배포용.ipynb의 사본",
      "provenance": [],
      "collapsed_sections": [],
      "include_colab_link": true
    }
  },
  "cells": [
    {
      "cell_type": "markdown",
      "metadata": {
        "id": "view-in-github",
        "colab_type": "text"
      },
      "source": [
        "<a href=\"https://colab.research.google.com/github/kim-star/DataScience/blob/master/210817_2_%EB%8D%B0%EC%9D%B4%ED%84%B0_%EC%9D%B8%EC%BD%94%EB%94%A9_%EC%8A%A4%EC%BC%80%EC%9D%BC%EB%A7%81_%EB%B0%B0%ED%8F%AC%EC%9A%A9_ipynb%EC%9D%98_%EC%82%AC%EB%B3%B8.ipynb\" target=\"_parent\"><img src=\"https://colab.research.google.com/assets/colab-badge.svg\" alt=\"Open In Colab\"/></a>"
      ]
    },
    {
      "cell_type": "markdown",
      "metadata": {
        "id": "L0Qc-FZOKt36"
      },
      "source": [
        "# 파이썬 머신러닝 실습"
      ]
    },
    {
      "cell_type": "markdown",
      "metadata": {
        "id": "tOhmUIlQKt38"
      },
      "source": [
        "## 데이터 인코딩"
      ]
    },
    {
      "cell_type": "markdown",
      "metadata": {
        "id": "wljyHF8AKt38"
      },
      "source": [
        "### 데이터 로딩\n",
        "실습 데이터 소개 : Seaborn 에 내장된 tips 데이터셋"
      ]
    },
    {
      "cell_type": "code",
      "metadata": {
        "scrolled": true,
        "id": "NrF7_geJKt39",
        "colab": {
          "base_uri": "https://localhost:8080/",
          "height": 204
        },
        "outputId": "0f6b0814-4891-42a3-be38-cd1610638fca"
      },
      "source": [
        "# 필요한 라이브러리 로딩\n",
        "import seaborn as sns\n",
        "\n",
        "#데이터 로딩\n",
        "tips = sns.load_dataset('tips')\n",
        "tips.head(5)"
      ],
      "execution_count": 1,
      "outputs": [
        {
          "output_type": "execute_result",
          "data": {
            "text/html": [
              "<div>\n",
              "<style scoped>\n",
              "    .dataframe tbody tr th:only-of-type {\n",
              "        vertical-align: middle;\n",
              "    }\n",
              "\n",
              "    .dataframe tbody tr th {\n",
              "        vertical-align: top;\n",
              "    }\n",
              "\n",
              "    .dataframe thead th {\n",
              "        text-align: right;\n",
              "    }\n",
              "</style>\n",
              "<table border=\"1\" class=\"dataframe\">\n",
              "  <thead>\n",
              "    <tr style=\"text-align: right;\">\n",
              "      <th></th>\n",
              "      <th>total_bill</th>\n",
              "      <th>tip</th>\n",
              "      <th>sex</th>\n",
              "      <th>smoker</th>\n",
              "      <th>day</th>\n",
              "      <th>time</th>\n",
              "      <th>size</th>\n",
              "    </tr>\n",
              "  </thead>\n",
              "  <tbody>\n",
              "    <tr>\n",
              "      <th>0</th>\n",
              "      <td>16.99</td>\n",
              "      <td>1.01</td>\n",
              "      <td>Female</td>\n",
              "      <td>No</td>\n",
              "      <td>Sun</td>\n",
              "      <td>Dinner</td>\n",
              "      <td>2</td>\n",
              "    </tr>\n",
              "    <tr>\n",
              "      <th>1</th>\n",
              "      <td>10.34</td>\n",
              "      <td>1.66</td>\n",
              "      <td>Male</td>\n",
              "      <td>No</td>\n",
              "      <td>Sun</td>\n",
              "      <td>Dinner</td>\n",
              "      <td>3</td>\n",
              "    </tr>\n",
              "    <tr>\n",
              "      <th>2</th>\n",
              "      <td>21.01</td>\n",
              "      <td>3.50</td>\n",
              "      <td>Male</td>\n",
              "      <td>No</td>\n",
              "      <td>Sun</td>\n",
              "      <td>Dinner</td>\n",
              "      <td>3</td>\n",
              "    </tr>\n",
              "    <tr>\n",
              "      <th>3</th>\n",
              "      <td>23.68</td>\n",
              "      <td>3.31</td>\n",
              "      <td>Male</td>\n",
              "      <td>No</td>\n",
              "      <td>Sun</td>\n",
              "      <td>Dinner</td>\n",
              "      <td>2</td>\n",
              "    </tr>\n",
              "    <tr>\n",
              "      <th>4</th>\n",
              "      <td>24.59</td>\n",
              "      <td>3.61</td>\n",
              "      <td>Female</td>\n",
              "      <td>No</td>\n",
              "      <td>Sun</td>\n",
              "      <td>Dinner</td>\n",
              "      <td>4</td>\n",
              "    </tr>\n",
              "  </tbody>\n",
              "</table>\n",
              "</div>"
            ],
            "text/plain": [
              "   total_bill   tip     sex smoker  day    time  size\n",
              "0       16.99  1.01  Female     No  Sun  Dinner     2\n",
              "1       10.34  1.66    Male     No  Sun  Dinner     3\n",
              "2       21.01  3.50    Male     No  Sun  Dinner     3\n",
              "3       23.68  3.31    Male     No  Sun  Dinner     2\n",
              "4       24.59  3.61  Female     No  Sun  Dinner     4"
            ]
          },
          "metadata": {
            "tags": []
          },
          "execution_count": 1
        }
      ]
    },
    {
      "cell_type": "code",
      "metadata": {
        "id": "f3MEzj48Kt3-",
        "colab": {
          "base_uri": "https://localhost:8080/"
        },
        "outputId": "de9fca69-1a18-44d0-b40f-59cbd3603a37"
      },
      "source": [
        "# day 의 카테고리 값 확인\n",
        "tips['day'].unique()"
      ],
      "execution_count": 7,
      "outputs": [
        {
          "output_type": "execute_result",
          "data": {
            "text/plain": [
              "['Sun', 'Sat', 'Thur', 'Fri']\n",
              "Categories (4, object): ['Sun', 'Sat', 'Thur', 'Fri']"
            ]
          },
          "metadata": {
            "tags": []
          },
          "execution_count": 7
        }
      ]
    },
    {
      "cell_type": "code",
      "metadata": {
        "id": "Yrsi9b75Kt3-"
      },
      "source": [
        "# 인코딩할 컬럼 데이터 준비 \n",
        "items = tips['day']"
      ],
      "execution_count": 4,
      "outputs": []
    },
    {
      "cell_type": "markdown",
      "metadata": {
        "id": "o9cjHZPEKt3-"
      },
      "source": [
        "### 라벨 인코딩"
      ]
    },
    {
      "cell_type": "code",
      "metadata": {
        "id": "nH8pQSsRKt3-"
      },
      "source": [
        "# LabelEncoder 로딩\n",
        "from sklearn.preprocessing import LabelEncoder\n",
        "\n",
        "# LabelEncoder 객체 생성\n",
        "encoder = LabelEncoder()\n",
        "\n",
        "# fit 메소드에 인코딩할 데이터 전달\n",
        "encoder.fit(items)\n",
        "\n",
        "# transform 메소드를 통해 데이터 변환 \n",
        "labels = encoder.transform(items)"
      ],
      "execution_count": 5,
      "outputs": []
    },
    {
      "cell_type": "code",
      "metadata": {
        "scrolled": true,
        "id": "d6EcnoVhKt3_",
        "colab": {
          "base_uri": "https://localhost:8080/"
        },
        "outputId": "f428879c-6f4f-4357-8559-112a7d08eebd"
      },
      "source": [
        "# 인코딩 결과 출력\n",
        "print('Label Encoding Result:\\n',labels)"
      ],
      "execution_count": 6,
      "outputs": [
        {
          "output_type": "stream",
          "text": [
            "Label Encoding Result:\n",
            " [2 2 2 2 2 2 2 2 2 2 2 2 2 2 2 2 2 2 2 1 1 1 1 1 1 1 1 1 1 1 1 1 1 1 1 1 1\n",
            " 1 1 1 1 2 2 2 2 2 2 2 2 2 2 2 2 2 2 2 1 1 1 1 1 1 1 1 1 1 1 1 1 1 1 1 1 1\n",
            " 1 1 1 3 3 3 3 3 3 3 3 3 3 3 3 3 0 0 0 0 0 0 0 0 0 0 0 0 1 1 1 1 1 1 1 1 1\n",
            " 1 2 2 2 2 2 3 3 3 3 3 3 3 3 3 3 3 3 3 3 3 3 3 3 3 3 3 3 3 3 3 3 3 3 3 3 3\n",
            " 3 3 2 2 2 2 2 2 2 2 2 2 2 2 2 2 2 2 2 2 1 1 1 1 2 2 2 2 2 2 2 2 2 2 2 2 2\n",
            " 2 2 2 2 2 2 3 3 3 3 3 3 3 3 3 3 3 3 3 3 3 1 1 1 1 1 1 1 1 1 1 1 1 1 1 0 0\n",
            " 0 0 0 0 0 1 1 1 1 1 1 1 1 1 1 1 1 1 1 1 1 3]\n"
          ],
          "name": "stdout"
        }
      ]
    },
    {
      "cell_type": "code",
      "metadata": {
        "id": "dVA2JfoCKt3_",
        "colab": {
          "base_uri": "https://localhost:8080/"
        },
        "outputId": "9a847e50-fb85-40fd-dabc-03dbd1f8cdb0"
      },
      "source": [
        "# 인코딩된 수치형 데이터의 실제 클래스 확인 및 출력\n",
        "classes = encoder.classes_\n",
        "print('LabelEncoding classes:', classes)"
      ],
      "execution_count": 8,
      "outputs": [
        {
          "output_type": "stream",
          "text": [
            "LabelEncoding classes: ['Fri' 'Sat' 'Sun' 'Thur']\n"
          ],
          "name": "stdout"
        }
      ]
    },
    {
      "cell_type": "code",
      "metadata": {
        "id": "bBsZkWqvKt3_",
        "colab": {
          "base_uri": "https://localhost:8080/"
        },
        "outputId": "6965e3fe-26ec-460f-b3a5-41ce31c83c07"
      },
      "source": [
        "# 디코딩 결과 확인 및 출력\n",
        "inverse_result = encoder.inverse_transform([1])\n",
        "print('LabelDecoding result:', inverse_result)"
      ],
      "execution_count": 10,
      "outputs": [
        {
          "output_type": "stream",
          "text": [
            "LabelDecoding result: ['Sat']\n"
          ],
          "name": "stdout"
        }
      ]
    },
    {
      "cell_type": "code",
      "metadata": {
        "id": "aq-YRp76xryz"
      },
      "source": [
        ""
      ],
      "execution_count": null,
      "outputs": []
    },
    {
      "cell_type": "markdown",
      "metadata": {
        "id": "IGevtmJCKt4A"
      },
      "source": [
        "### 원핫 인코딩"
      ]
    },
    {
      "cell_type": "code",
      "metadata": {
        "id": "DAONbJwWKt4A"
      },
      "source": [
        "# OneHotEncoder로딩\n",
        "from sklearn.preprocessing import OneHotEncoder"
      ],
      "execution_count": 11,
      "outputs": []
    },
    {
      "cell_type": "code",
      "metadata": {
        "id": "yc4IPGyjKt4A",
        "colab": {
          "base_uri": "https://localhost:8080/"
        },
        "outputId": "d3b5bdd6-569d-4a91-d9b5-0261db5cb082"
      },
      "source": [
        "# 2차원 으로 변경(244,)\n",
        "labels = labels.reshape(-1,1)\n",
        "labels.shape"
      ],
      "execution_count": 14,
      "outputs": [
        {
          "output_type": "execute_result",
          "data": {
            "text/plain": [
              "(244, 1)"
            ]
          },
          "metadata": {
            "tags": []
          },
          "execution_count": 14
        }
      ]
    },
    {
      "cell_type": "code",
      "metadata": {
        "id": "ZGq9ow8vKt4A",
        "colab": {
          "base_uri": "https://localhost:8080/"
        },
        "outputId": "b5f9ef2b-7980-47c8-f570-4794c843b87e"
      },
      "source": [
        "# OneHotEncoder 객체 생성\n",
        "one_hot_encoder = OneHotEncoder()\n",
        "\n",
        "# .fit 메소드에 인코딩할 데이터 전달\n",
        "one_hot_encoder.fit(labels)\n",
        "\n",
        "# .transform 메소드를 통해 데이터 변환 \n",
        "one_hot_labels = one_hot_encoder.transform(labels)\n",
        "#one_hot_labels #shape (244,4) fri, sa, sun, thur로 4"
      ],
      "execution_count": 19,
      "outputs": [
        {
          "output_type": "execute_result",
          "data": {
            "text/plain": [
              "<244x4 sparse matrix of type '<class 'numpy.float64'>'\n",
              "\twith 244 stored elements in Compressed Sparse Row format>"
            ]
          },
          "metadata": {
            "tags": []
          },
          "execution_count": 19
        }
      ]
    },
    {
      "cell_type": "code",
      "metadata": {
        "id": "SMz-AyQEKt4A",
        "colab": {
          "base_uri": "https://localhost:8080/"
        },
        "outputId": "c6500eab-96f9-46fe-eb5e-4ef6c3d3d9dd"
      },
      "source": [
        "# 인코딩 결과 출력\n",
        "print('OneHotEncoding Result:\\n',  one_hot_labels)"
      ],
      "execution_count": 18,
      "outputs": [
        {
          "output_type": "stream",
          "text": [
            "OneHotEncoding Result:\n",
            "   (0, 2)\t1.0\n",
            "  (1, 2)\t1.0\n",
            "  (2, 2)\t1.0\n",
            "  (3, 2)\t1.0\n",
            "  (4, 2)\t1.0\n",
            "  (5, 2)\t1.0\n",
            "  (6, 2)\t1.0\n",
            "  (7, 2)\t1.0\n",
            "  (8, 2)\t1.0\n",
            "  (9, 2)\t1.0\n",
            "  (10, 2)\t1.0\n",
            "  (11, 2)\t1.0\n",
            "  (12, 2)\t1.0\n",
            "  (13, 2)\t1.0\n",
            "  (14, 2)\t1.0\n",
            "  (15, 2)\t1.0\n",
            "  (16, 2)\t1.0\n",
            "  (17, 2)\t1.0\n",
            "  (18, 2)\t1.0\n",
            "  (19, 1)\t1.0\n",
            "  (20, 1)\t1.0\n",
            "  (21, 1)\t1.0\n",
            "  (22, 1)\t1.0\n",
            "  (23, 1)\t1.0\n",
            "  (24, 1)\t1.0\n",
            "  :\t:\n",
            "  (219, 1)\t1.0\n",
            "  (220, 0)\t1.0\n",
            "  (221, 0)\t1.0\n",
            "  (222, 0)\t1.0\n",
            "  (223, 0)\t1.0\n",
            "  (224, 0)\t1.0\n",
            "  (225, 0)\t1.0\n",
            "  (226, 0)\t1.0\n",
            "  (227, 1)\t1.0\n",
            "  (228, 1)\t1.0\n",
            "  (229, 1)\t1.0\n",
            "  (230, 1)\t1.0\n",
            "  (231, 1)\t1.0\n",
            "  (232, 1)\t1.0\n",
            "  (233, 1)\t1.0\n",
            "  (234, 1)\t1.0\n",
            "  (235, 1)\t1.0\n",
            "  (236, 1)\t1.0\n",
            "  (237, 1)\t1.0\n",
            "  (238, 1)\t1.0\n",
            "  (239, 1)\t1.0\n",
            "  (240, 1)\t1.0\n",
            "  (241, 1)\t1.0\n",
            "  (242, 1)\t1.0\n",
            "  (243, 3)\t1.0\n"
          ],
          "name": "stdout"
        }
      ]
    },
    {
      "cell_type": "code",
      "metadata": {
        "id": "gkdwLkFcKt4B",
        "colab": {
          "base_uri": "https://localhost:8080/"
        },
        "outputId": "bd89913b-3776-4862-a637-a039b8f193db"
      },
      "source": [
        "# 인코딩된 데이터의 실제 클래스 확인\n",
        "onehot_classes = one_hot_labels.toarray()\n",
        "print('OneHotEncoding classes:', onehot_classes)"
      ],
      "execution_count": 21,
      "outputs": [
        {
          "output_type": "stream",
          "text": [
            "OneHotEncoding classes: [[0. 0. 1. 0.]\n",
            " [0. 0. 1. 0.]\n",
            " [0. 0. 1. 0.]\n",
            " [0. 0. 1. 0.]\n",
            " [0. 0. 1. 0.]\n",
            " [0. 0. 1. 0.]\n",
            " [0. 0. 1. 0.]\n",
            " [0. 0. 1. 0.]\n",
            " [0. 0. 1. 0.]\n",
            " [0. 0. 1. 0.]\n",
            " [0. 0. 1. 0.]\n",
            " [0. 0. 1. 0.]\n",
            " [0. 0. 1. 0.]\n",
            " [0. 0. 1. 0.]\n",
            " [0. 0. 1. 0.]\n",
            " [0. 0. 1. 0.]\n",
            " [0. 0. 1. 0.]\n",
            " [0. 0. 1. 0.]\n",
            " [0. 0. 1. 0.]\n",
            " [0. 1. 0. 0.]\n",
            " [0. 1. 0. 0.]\n",
            " [0. 1. 0. 0.]\n",
            " [0. 1. 0. 0.]\n",
            " [0. 1. 0. 0.]\n",
            " [0. 1. 0. 0.]\n",
            " [0. 1. 0. 0.]\n",
            " [0. 1. 0. 0.]\n",
            " [0. 1. 0. 0.]\n",
            " [0. 1. 0. 0.]\n",
            " [0. 1. 0. 0.]\n",
            " [0. 1. 0. 0.]\n",
            " [0. 1. 0. 0.]\n",
            " [0. 1. 0. 0.]\n",
            " [0. 1. 0. 0.]\n",
            " [0. 1. 0. 0.]\n",
            " [0. 1. 0. 0.]\n",
            " [0. 1. 0. 0.]\n",
            " [0. 1. 0. 0.]\n",
            " [0. 1. 0. 0.]\n",
            " [0. 1. 0. 0.]\n",
            " [0. 1. 0. 0.]\n",
            " [0. 0. 1. 0.]\n",
            " [0. 0. 1. 0.]\n",
            " [0. 0. 1. 0.]\n",
            " [0. 0. 1. 0.]\n",
            " [0. 0. 1. 0.]\n",
            " [0. 0. 1. 0.]\n",
            " [0. 0. 1. 0.]\n",
            " [0. 0. 1. 0.]\n",
            " [0. 0. 1. 0.]\n",
            " [0. 0. 1. 0.]\n",
            " [0. 0. 1. 0.]\n",
            " [0. 0. 1. 0.]\n",
            " [0. 0. 1. 0.]\n",
            " [0. 0. 1. 0.]\n",
            " [0. 0. 1. 0.]\n",
            " [0. 1. 0. 0.]\n",
            " [0. 1. 0. 0.]\n",
            " [0. 1. 0. 0.]\n",
            " [0. 1. 0. 0.]\n",
            " [0. 1. 0. 0.]\n",
            " [0. 1. 0. 0.]\n",
            " [0. 1. 0. 0.]\n",
            " [0. 1. 0. 0.]\n",
            " [0. 1. 0. 0.]\n",
            " [0. 1. 0. 0.]\n",
            " [0. 1. 0. 0.]\n",
            " [0. 1. 0. 0.]\n",
            " [0. 1. 0. 0.]\n",
            " [0. 1. 0. 0.]\n",
            " [0. 1. 0. 0.]\n",
            " [0. 1. 0. 0.]\n",
            " [0. 1. 0. 0.]\n",
            " [0. 1. 0. 0.]\n",
            " [0. 1. 0. 0.]\n",
            " [0. 1. 0. 0.]\n",
            " [0. 1. 0. 0.]\n",
            " [0. 0. 0. 1.]\n",
            " [0. 0. 0. 1.]\n",
            " [0. 0. 0. 1.]\n",
            " [0. 0. 0. 1.]\n",
            " [0. 0. 0. 1.]\n",
            " [0. 0. 0. 1.]\n",
            " [0. 0. 0. 1.]\n",
            " [0. 0. 0. 1.]\n",
            " [0. 0. 0. 1.]\n",
            " [0. 0. 0. 1.]\n",
            " [0. 0. 0. 1.]\n",
            " [0. 0. 0. 1.]\n",
            " [0. 0. 0. 1.]\n",
            " [1. 0. 0. 0.]\n",
            " [1. 0. 0. 0.]\n",
            " [1. 0. 0. 0.]\n",
            " [1. 0. 0. 0.]\n",
            " [1. 0. 0. 0.]\n",
            " [1. 0. 0. 0.]\n",
            " [1. 0. 0. 0.]\n",
            " [1. 0. 0. 0.]\n",
            " [1. 0. 0. 0.]\n",
            " [1. 0. 0. 0.]\n",
            " [1. 0. 0. 0.]\n",
            " [1. 0. 0. 0.]\n",
            " [0. 1. 0. 0.]\n",
            " [0. 1. 0. 0.]\n",
            " [0. 1. 0. 0.]\n",
            " [0. 1. 0. 0.]\n",
            " [0. 1. 0. 0.]\n",
            " [0. 1. 0. 0.]\n",
            " [0. 1. 0. 0.]\n",
            " [0. 1. 0. 0.]\n",
            " [0. 1. 0. 0.]\n",
            " [0. 1. 0. 0.]\n",
            " [0. 0. 1. 0.]\n",
            " [0. 0. 1. 0.]\n",
            " [0. 0. 1. 0.]\n",
            " [0. 0. 1. 0.]\n",
            " [0. 0. 1. 0.]\n",
            " [0. 0. 0. 1.]\n",
            " [0. 0. 0. 1.]\n",
            " [0. 0. 0. 1.]\n",
            " [0. 0. 0. 1.]\n",
            " [0. 0. 0. 1.]\n",
            " [0. 0. 0. 1.]\n",
            " [0. 0. 0. 1.]\n",
            " [0. 0. 0. 1.]\n",
            " [0. 0. 0. 1.]\n",
            " [0. 0. 0. 1.]\n",
            " [0. 0. 0. 1.]\n",
            " [0. 0. 0. 1.]\n",
            " [0. 0. 0. 1.]\n",
            " [0. 0. 0. 1.]\n",
            " [0. 0. 0. 1.]\n",
            " [0. 0. 0. 1.]\n",
            " [0. 0. 0. 1.]\n",
            " [0. 0. 0. 1.]\n",
            " [0. 0. 0. 1.]\n",
            " [0. 0. 0. 1.]\n",
            " [0. 0. 0. 1.]\n",
            " [0. 0. 0. 1.]\n",
            " [0. 0. 0. 1.]\n",
            " [0. 0. 0. 1.]\n",
            " [0. 0. 0. 1.]\n",
            " [0. 0. 0. 1.]\n",
            " [0. 0. 0. 1.]\n",
            " [0. 0. 0. 1.]\n",
            " [0. 0. 0. 1.]\n",
            " [0. 0. 0. 1.]\n",
            " [0. 0. 0. 1.]\n",
            " [0. 0. 0. 1.]\n",
            " [0. 0. 0. 1.]\n",
            " [0. 0. 1. 0.]\n",
            " [0. 0. 1. 0.]\n",
            " [0. 0. 1. 0.]\n",
            " [0. 0. 1. 0.]\n",
            " [0. 0. 1. 0.]\n",
            " [0. 0. 1. 0.]\n",
            " [0. 0. 1. 0.]\n",
            " [0. 0. 1. 0.]\n",
            " [0. 0. 1. 0.]\n",
            " [0. 0. 1. 0.]\n",
            " [0. 0. 1. 0.]\n",
            " [0. 0. 1. 0.]\n",
            " [0. 0. 1. 0.]\n",
            " [0. 0. 1. 0.]\n",
            " [0. 0. 1. 0.]\n",
            " [0. 0. 1. 0.]\n",
            " [0. 0. 1. 0.]\n",
            " [0. 0. 1. 0.]\n",
            " [0. 1. 0. 0.]\n",
            " [0. 1. 0. 0.]\n",
            " [0. 1. 0. 0.]\n",
            " [0. 1. 0. 0.]\n",
            " [0. 0. 1. 0.]\n",
            " [0. 0. 1. 0.]\n",
            " [0. 0. 1. 0.]\n",
            " [0. 0. 1. 0.]\n",
            " [0. 0. 1. 0.]\n",
            " [0. 0. 1. 0.]\n",
            " [0. 0. 1. 0.]\n",
            " [0. 0. 1. 0.]\n",
            " [0. 0. 1. 0.]\n",
            " [0. 0. 1. 0.]\n",
            " [0. 0. 1. 0.]\n",
            " [0. 0. 1. 0.]\n",
            " [0. 0. 1. 0.]\n",
            " [0. 0. 1. 0.]\n",
            " [0. 0. 1. 0.]\n",
            " [0. 0. 1. 0.]\n",
            " [0. 0. 1. 0.]\n",
            " [0. 0. 1. 0.]\n",
            " [0. 0. 1. 0.]\n",
            " [0. 0. 0. 1.]\n",
            " [0. 0. 0. 1.]\n",
            " [0. 0. 0. 1.]\n",
            " [0. 0. 0. 1.]\n",
            " [0. 0. 0. 1.]\n",
            " [0. 0. 0. 1.]\n",
            " [0. 0. 0. 1.]\n",
            " [0. 0. 0. 1.]\n",
            " [0. 0. 0. 1.]\n",
            " [0. 0. 0. 1.]\n",
            " [0. 0. 0. 1.]\n",
            " [0. 0. 0. 1.]\n",
            " [0. 0. 0. 1.]\n",
            " [0. 0. 0. 1.]\n",
            " [0. 0. 0. 1.]\n",
            " [0. 1. 0. 0.]\n",
            " [0. 1. 0. 0.]\n",
            " [0. 1. 0. 0.]\n",
            " [0. 1. 0. 0.]\n",
            " [0. 1. 0. 0.]\n",
            " [0. 1. 0. 0.]\n",
            " [0. 1. 0. 0.]\n",
            " [0. 1. 0. 0.]\n",
            " [0. 1. 0. 0.]\n",
            " [0. 1. 0. 0.]\n",
            " [0. 1. 0. 0.]\n",
            " [0. 1. 0. 0.]\n",
            " [0. 1. 0. 0.]\n",
            " [0. 1. 0. 0.]\n",
            " [1. 0. 0. 0.]\n",
            " [1. 0. 0. 0.]\n",
            " [1. 0. 0. 0.]\n",
            " [1. 0. 0. 0.]\n",
            " [1. 0. 0. 0.]\n",
            " [1. 0. 0. 0.]\n",
            " [1. 0. 0. 0.]\n",
            " [0. 1. 0. 0.]\n",
            " [0. 1. 0. 0.]\n",
            " [0. 1. 0. 0.]\n",
            " [0. 1. 0. 0.]\n",
            " [0. 1. 0. 0.]\n",
            " [0. 1. 0. 0.]\n",
            " [0. 1. 0. 0.]\n",
            " [0. 1. 0. 0.]\n",
            " [0. 1. 0. 0.]\n",
            " [0. 1. 0. 0.]\n",
            " [0. 1. 0. 0.]\n",
            " [0. 1. 0. 0.]\n",
            " [0. 1. 0. 0.]\n",
            " [0. 1. 0. 0.]\n",
            " [0. 1. 0. 0.]\n",
            " [0. 1. 0. 0.]\n",
            " [0. 0. 0. 1.]]\n"
          ],
          "name": "stdout"
        }
      ]
    },
    {
      "cell_type": "markdown",
      "metadata": {
        "id": "HaKsqSHGKt4B"
      },
      "source": [
        "## 데이터 스케일링"
      ]
    },
    {
      "cell_type": "markdown",
      "metadata": {
        "id": "4uxDhYc3Kt4B"
      },
      "source": [
        "### 데이터 로딩"
      ]
    },
    {
      "cell_type": "code",
      "metadata": {
        "id": "Uphnu2DJKt4B",
        "colab": {
          "base_uri": "https://localhost:8080/",
          "height": 394
        },
        "outputId": "24c6f1a6-fcd0-4df2-f78d-04464fabc776"
      },
      "source": [
        "# 필요한 라이브러리 로딩\n",
        "import pandas as pd\n",
        "import numpy as np\n",
        "import matplotlib.pyplot as plt\n",
        "\n",
        "# StandardScaler 로딩\n",
        "from sklearn.preprocessing import StandardScaler\n",
        "\n",
        "# 데이터셋 파일명: bike_demand_kaggle.csv \n",
        "# 캐글의 자전거 대여 수요 데이터셋 다운로드\n",
        "filepath = '/content/bike_demand_kaggle.csv'\n",
        "df_bike = pd.read_csv(filepath)\n",
        "df_bike.head(5)"
      ],
      "execution_count": 24,
      "outputs": [
        {
          "output_type": "execute_result",
          "data": {
            "text/html": [
              "<div>\n",
              "<style scoped>\n",
              "    .dataframe tbody tr th:only-of-type {\n",
              "        vertical-align: middle;\n",
              "    }\n",
              "\n",
              "    .dataframe tbody tr th {\n",
              "        vertical-align: top;\n",
              "    }\n",
              "\n",
              "    .dataframe thead th {\n",
              "        text-align: right;\n",
              "    }\n",
              "</style>\n",
              "<table border=\"1\" class=\"dataframe\">\n",
              "  <thead>\n",
              "    <tr style=\"text-align: right;\">\n",
              "      <th></th>\n",
              "      <th>datetime</th>\n",
              "      <th>season</th>\n",
              "      <th>holiday</th>\n",
              "      <th>workingday</th>\n",
              "      <th>weather</th>\n",
              "      <th>temp</th>\n",
              "      <th>atemp</th>\n",
              "      <th>humidity</th>\n",
              "      <th>windspeed</th>\n",
              "      <th>casual</th>\n",
              "      <th>registered</th>\n",
              "      <th>count</th>\n",
              "    </tr>\n",
              "  </thead>\n",
              "  <tbody>\n",
              "    <tr>\n",
              "      <th>0</th>\n",
              "      <td>2011-01-01 00:00:00</td>\n",
              "      <td>1</td>\n",
              "      <td>0</td>\n",
              "      <td>0</td>\n",
              "      <td>1</td>\n",
              "      <td>9.84</td>\n",
              "      <td>14.395</td>\n",
              "      <td>81</td>\n",
              "      <td>0.0</td>\n",
              "      <td>3</td>\n",
              "      <td>13</td>\n",
              "      <td>16</td>\n",
              "    </tr>\n",
              "    <tr>\n",
              "      <th>1</th>\n",
              "      <td>2011-01-01 01:00:00</td>\n",
              "      <td>1</td>\n",
              "      <td>0</td>\n",
              "      <td>0</td>\n",
              "      <td>1</td>\n",
              "      <td>9.02</td>\n",
              "      <td>13.635</td>\n",
              "      <td>80</td>\n",
              "      <td>0.0</td>\n",
              "      <td>8</td>\n",
              "      <td>32</td>\n",
              "      <td>40</td>\n",
              "    </tr>\n",
              "    <tr>\n",
              "      <th>2</th>\n",
              "      <td>2011-01-01 02:00:00</td>\n",
              "      <td>1</td>\n",
              "      <td>0</td>\n",
              "      <td>0</td>\n",
              "      <td>1</td>\n",
              "      <td>9.02</td>\n",
              "      <td>13.635</td>\n",
              "      <td>80</td>\n",
              "      <td>0.0</td>\n",
              "      <td>5</td>\n",
              "      <td>27</td>\n",
              "      <td>32</td>\n",
              "    </tr>\n",
              "    <tr>\n",
              "      <th>3</th>\n",
              "      <td>2011-01-01 03:00:00</td>\n",
              "      <td>1</td>\n",
              "      <td>0</td>\n",
              "      <td>0</td>\n",
              "      <td>1</td>\n",
              "      <td>9.84</td>\n",
              "      <td>14.395</td>\n",
              "      <td>75</td>\n",
              "      <td>0.0</td>\n",
              "      <td>3</td>\n",
              "      <td>10</td>\n",
              "      <td>13</td>\n",
              "    </tr>\n",
              "    <tr>\n",
              "      <th>4</th>\n",
              "      <td>2011-01-01 04:00:00</td>\n",
              "      <td>1</td>\n",
              "      <td>0</td>\n",
              "      <td>0</td>\n",
              "      <td>1</td>\n",
              "      <td>9.84</td>\n",
              "      <td>14.395</td>\n",
              "      <td>75</td>\n",
              "      <td>0.0</td>\n",
              "      <td>0</td>\n",
              "      <td>1</td>\n",
              "      <td>1</td>\n",
              "    </tr>\n",
              "  </tbody>\n",
              "</table>\n",
              "</div>"
            ],
            "text/plain": [
              "              datetime  season  holiday  ...  casual  registered  count\n",
              "0  2011-01-01 00:00:00       1        0  ...       3          13     16\n",
              "1  2011-01-01 01:00:00       1        0  ...       8          32     40\n",
              "2  2011-01-01 02:00:00       1        0  ...       5          27     32\n",
              "3  2011-01-01 03:00:00       1        0  ...       3          10     13\n",
              "4  2011-01-01 04:00:00       1        0  ...       0           1      1\n",
              "\n",
              "[5 rows x 12 columns]"
            ]
          },
          "metadata": {
            "tags": []
          },
          "execution_count": 24
        }
      ]
    },
    {
      "cell_type": "code",
      "metadata": {
        "id": "Gxj7OkXDKt4C",
        "colab": {
          "base_uri": "https://localhost:8080/",
          "height": 204
        },
        "outputId": "3f84f2ac-5613-4a22-bed9-b8123bf26180"
      },
      "source": [
        "# temp, atemp, humidity, windspeed 컬럼 데이터만 저장\n",
        "df_bike_num = df_bike.iloc[:, 5:9]\n",
        "df_bike_num.head(5)"
      ],
      "execution_count": 25,
      "outputs": [
        {
          "output_type": "execute_result",
          "data": {
            "text/html": [
              "<div>\n",
              "<style scoped>\n",
              "    .dataframe tbody tr th:only-of-type {\n",
              "        vertical-align: middle;\n",
              "    }\n",
              "\n",
              "    .dataframe tbody tr th {\n",
              "        vertical-align: top;\n",
              "    }\n",
              "\n",
              "    .dataframe thead th {\n",
              "        text-align: right;\n",
              "    }\n",
              "</style>\n",
              "<table border=\"1\" class=\"dataframe\">\n",
              "  <thead>\n",
              "    <tr style=\"text-align: right;\">\n",
              "      <th></th>\n",
              "      <th>temp</th>\n",
              "      <th>atemp</th>\n",
              "      <th>humidity</th>\n",
              "      <th>windspeed</th>\n",
              "    </tr>\n",
              "  </thead>\n",
              "  <tbody>\n",
              "    <tr>\n",
              "      <th>0</th>\n",
              "      <td>9.84</td>\n",
              "      <td>14.395</td>\n",
              "      <td>81</td>\n",
              "      <td>0.0</td>\n",
              "    </tr>\n",
              "    <tr>\n",
              "      <th>1</th>\n",
              "      <td>9.02</td>\n",
              "      <td>13.635</td>\n",
              "      <td>80</td>\n",
              "      <td>0.0</td>\n",
              "    </tr>\n",
              "    <tr>\n",
              "      <th>2</th>\n",
              "      <td>9.02</td>\n",
              "      <td>13.635</td>\n",
              "      <td>80</td>\n",
              "      <td>0.0</td>\n",
              "    </tr>\n",
              "    <tr>\n",
              "      <th>3</th>\n",
              "      <td>9.84</td>\n",
              "      <td>14.395</td>\n",
              "      <td>75</td>\n",
              "      <td>0.0</td>\n",
              "    </tr>\n",
              "    <tr>\n",
              "      <th>4</th>\n",
              "      <td>9.84</td>\n",
              "      <td>14.395</td>\n",
              "      <td>75</td>\n",
              "      <td>0.0</td>\n",
              "    </tr>\n",
              "  </tbody>\n",
              "</table>\n",
              "</div>"
            ],
            "text/plain": [
              "   temp   atemp  humidity  windspeed\n",
              "0  9.84  14.395        81        0.0\n",
              "1  9.02  13.635        80        0.0\n",
              "2  9.02  13.635        80        0.0\n",
              "3  9.84  14.395        75        0.0\n",
              "4  9.84  14.395        75        0.0"
            ]
          },
          "metadata": {
            "tags": []
          },
          "execution_count": 25
        }
      ]
    },
    {
      "cell_type": "code",
      "metadata": {
        "id": "rRl6oESiKt4C",
        "colab": {
          "base_uri": "https://localhost:8080/"
        },
        "outputId": "3de3c50b-c489-4862-ecc8-00d802d419b6"
      },
      "source": [
        "print('Average')\n",
        "print(np.round_(df_bike_num.mean(),3))"
      ],
      "execution_count": 26,
      "outputs": [
        {
          "output_type": "stream",
          "text": [
            "Average\n",
            "temp         20.231\n",
            "atemp        23.655\n",
            "humidity     61.886\n",
            "windspeed    12.799\n",
            "dtype: float64\n"
          ],
          "name": "stdout"
        }
      ]
    },
    {
      "cell_type": "code",
      "metadata": {
        "id": "SoaK1VCBKt4C",
        "colab": {
          "base_uri": "https://localhost:8080/"
        },
        "outputId": "24c4d4ca-aba8-465d-bac0-133d61887491"
      },
      "source": [
        "print('Variance')\n",
        "print(np.round_(df_bike_num.var(), 3))"
      ],
      "execution_count": 27,
      "outputs": [
        {
          "output_type": "stream",
          "text": [
            "Variance\n",
            "temp          60.709\n",
            "atemp         71.819\n",
            "humidity     370.371\n",
            "windspeed     66.660\n",
            "dtype: float64\n"
          ],
          "name": "stdout"
        }
      ]
    },
    {
      "cell_type": "markdown",
      "metadata": {
        "id": "_dEa8v0iKt4C"
      },
      "source": [
        "### StandardScaler 이용한 표준화 적용"
      ]
    },
    {
      "cell_type": "code",
      "metadata": {
        "id": "XUNhjy6mKt4C",
        "colab": {
          "base_uri": "https://localhost:8080/"
        },
        "outputId": "24479ff5-5c92-455f-a227-a63b73a7e8a1"
      },
      "source": [
        "# StandardScaler 객체 생성\n",
        "scaler = StandardScaler()\n",
        "\n",
        "# StandardScaler 모델 통해 데이터 분포 분석\n",
        "scaler.fit(df_bike_num)\n",
        "\n",
        "# 모델 통해서 데이터 스케일링 후 반환\n",
        "result = scaler.transform(df_bike_num)\n",
        "\n",
        "result"
      ],
      "execution_count": 31,
      "outputs": [
        {
          "output_type": "execute_result",
          "data": {
            "text/plain": [
              "array([[-1.33366069, -1.09273697,  0.99321305, -1.56775367],\n",
              "       [-1.43890721, -1.18242083,  0.94124921, -1.56775367],\n",
              "       [-1.43890721, -1.18242083,  0.94124921, -1.56775367],\n",
              "       ...,\n",
              "       [-0.80742813, -0.91395927, -0.04606385,  0.26970368],\n",
              "       [-0.80742813, -0.73518157, -0.04606385, -0.83244247],\n",
              "       [-0.91267464, -0.82486544,  0.21375537, -0.46560752]])"
            ]
          },
          "metadata": {
            "tags": []
          },
          "execution_count": 31
        }
      ]
    },
    {
      "cell_type": "code",
      "metadata": {
        "id": "00i14Lz1Kt4C"
      },
      "source": [
        "# 스케일된 결과 데이터를 DataFrame 으로 저장\n",
        "scaled_bike = pd.DataFrame(data=result,\n",
        "                           columns = df_bike_num.columns)"
      ],
      "execution_count": 33,
      "outputs": []
    },
    {
      "cell_type": "code",
      "metadata": {
        "id": "ZBfyb2KQKt4D",
        "colab": {
          "base_uri": "https://localhost:8080/"
        },
        "outputId": "a7e878f8-0487-4c79-9ee9-170a26b97cfb"
      },
      "source": [
        "# 각 컬럼별 평균, 분산 출력\n",
        "print('--------- StandardScaler ---------')\n",
        "print('Average')\n",
        "print(np.round_(scaled_bike.mean(),3))\n",
        "print('Variance')\n",
        "print(np.round_(scaled_bike.var(),3))"
      ],
      "execution_count": 35,
      "outputs": [
        {
          "output_type": "stream",
          "text": [
            "--------- StandardScaler ---------\n",
            "Average\n",
            "temp         0.0\n",
            "atemp       -0.0\n",
            "humidity    -0.0\n",
            "windspeed   -0.0\n",
            "dtype: float64\n",
            "Variance\n",
            "temp         1.0\n",
            "atemp        1.0\n",
            "humidity     1.0\n",
            "windspeed    1.0\n",
            "dtype: float64\n"
          ],
          "name": "stdout"
        }
      ]
    },
    {
      "cell_type": "code",
      "metadata": {
        "id": "v6yIFYQcKt4D",
        "colab": {
          "base_uri": "https://localhost:8080/",
          "height": 374
        },
        "outputId": "c4db4c85-70ca-4304-af6b-925865835041"
      },
      "source": [
        "# 박스플롯(boxplot) 으로 시각화\n",
        "plt.figure(figsize=(10,6))\n",
        "scaled_bike.boxplot(column=['temp', 'atemp', 'humidity', 'windspeed'])\n",
        "plt.show()"
      ],
      "execution_count": 36,
      "outputs": [
        {
          "output_type": "display_data",
          "data": {
            "image/png": "[encoded data removed]",
            "text/plain": [
              "<Figure size 720x432 with 1 Axes>"
            ]
          },
          "metadata": {
            "tags": [],
            "needs_background": "light"
          }
        }
      ]
    },
    {
      "cell_type": "markdown",
      "metadata": {
        "id": "D2-1iVreKt4D"
      },
      "source": [
        "### MinMaxScaler  이용한 정규화 적용"
      ]
    },
    {
      "cell_type": "code",
      "metadata": {
        "id": "fPXC3l5EKt4D",
        "colab": {
          "base_uri": "https://localhost:8080/",
          "height": 204
        },
        "outputId": "6242f887-bdd4-4a57-da9f-4dbc210a5213"
      },
      "source": [
        "# temp, atemp, humidity, windspeed 컬럼 데이터만 저장\n",
        "df_bike_num = df_bike.iloc[:, 5:9]\n",
        "df_bike_num.head(5)"
      ],
      "execution_count": 38,
      "outputs": [
        {
          "output_type": "execute_result",
          "data": {
            "text/html": [
              "<div>\n",
              "<style scoped>\n",
              "    .dataframe tbody tr th:only-of-type {\n",
              "        vertical-align: middle;\n",
              "    }\n",
              "\n",
              "    .dataframe tbody tr th {\n",
              "        vertical-align: top;\n",
              "    }\n",
              "\n",
              "    .dataframe thead th {\n",
              "        text-align: right;\n",
              "    }\n",
              "</style>\n",
              "<table border=\"1\" class=\"dataframe\">\n",
              "  <thead>\n",
              "    <tr style=\"text-align: right;\">\n",
              "      <th></th>\n",
              "      <th>temp</th>\n",
              "      <th>atemp</th>\n",
              "      <th>humidity</th>\n",
              "      <th>windspeed</th>\n",
              "    </tr>\n",
              "  </thead>\n",
              "  <tbody>\n",
              "    <tr>\n",
              "      <th>0</th>\n",
              "      <td>9.84</td>\n",
              "      <td>14.395</td>\n",
              "      <td>81</td>\n",
              "      <td>0.0</td>\n",
              "    </tr>\n",
              "    <tr>\n",
              "      <th>1</th>\n",
              "      <td>9.02</td>\n",
              "      <td>13.635</td>\n",
              "      <td>80</td>\n",
              "      <td>0.0</td>\n",
              "    </tr>\n",
              "    <tr>\n",
              "      <th>2</th>\n",
              "      <td>9.02</td>\n",
              "      <td>13.635</td>\n",
              "      <td>80</td>\n",
              "      <td>0.0</td>\n",
              "    </tr>\n",
              "    <tr>\n",
              "      <th>3</th>\n",
              "      <td>9.84</td>\n",
              "      <td>14.395</td>\n",
              "      <td>75</td>\n",
              "      <td>0.0</td>\n",
              "    </tr>\n",
              "    <tr>\n",
              "      <th>4</th>\n",
              "      <td>9.84</td>\n",
              "      <td>14.395</td>\n",
              "      <td>75</td>\n",
              "      <td>0.0</td>\n",
              "    </tr>\n",
              "  </tbody>\n",
              "</table>\n",
              "</div>"
            ],
            "text/plain": [
              "   temp   atemp  humidity  windspeed\n",
              "0  9.84  14.395        81        0.0\n",
              "1  9.02  13.635        80        0.0\n",
              "2  9.02  13.635        80        0.0\n",
              "3  9.84  14.395        75        0.0\n",
              "4  9.84  14.395        75        0.0"
            ]
          },
          "metadata": {
            "tags": []
          },
          "execution_count": 38
        }
      ]
    },
    {
      "cell_type": "code",
      "metadata": {
        "id": "P67HBFSAKt4D",
        "colab": {
          "base_uri": "https://localhost:8080/"
        },
        "outputId": "a7b1ee85-6314-4ad9-84e8-eee5bf2d6706"
      },
      "source": [
        "# 각 컬럼별 최대/최소값 출력\n",
        "print('Min Value')\n",
        "print(np.round_(df_bike_num.min(),3))\n",
        "print('Max Value')\n",
        "print(np.round_(df_bike_num.max(),3))"
      ],
      "execution_count": 39,
      "outputs": [
        {
          "output_type": "stream",
          "text": [
            "Min Value\n",
            "temp         0.82\n",
            "atemp        0.76\n",
            "humidity     0.00\n",
            "windspeed    0.00\n",
            "dtype: float64\n",
            "Max Value\n",
            "temp          41.000\n",
            "atemp         45.455\n",
            "humidity     100.000\n",
            "windspeed     56.997\n",
            "dtype: float64\n"
          ],
          "name": "stdout"
        }
      ]
    },
    {
      "cell_type": "code",
      "metadata": {
        "id": "I3qcWvEUKt4D"
      },
      "source": [
        "# MinMaxScaler 로딩\n",
        "from sklearn.preprocessing import MinMaxScaler"
      ],
      "execution_count": 40,
      "outputs": []
    },
    {
      "cell_type": "code",
      "metadata": {
        "id": "So-izujvKt4D",
        "colab": {
          "base_uri": "https://localhost:8080/"
        },
        "outputId": "6a375d03-3327-4334-85f3-b7017ee4f995"
      },
      "source": [
        "# MinMaxScaler 객체 생성\n",
        "MinMaxScaler() #()로 호출\n",
        "\n",
        "# fit 함수 이용하여 데이터 분포 분석 및 스케일링 정보 저장\n",
        "scaler.fit(df_bike_num)\n",
        "\n",
        "# 실제 데이터 스케일링 작업 후 결과 데이터셋 반환\n",
        "result = scaler.transform(df_bike_num)\n",
        "result"
      ],
      "execution_count": 42,
      "outputs": [
        {
          "output_type": "execute_result",
          "data": {
            "text/plain": [
              "array([[-1.33366069, -1.09273697,  0.99321305, -1.56775367],\n",
              "       [-1.43890721, -1.18242083,  0.94124921, -1.56775367],\n",
              "       [-1.43890721, -1.18242083,  0.94124921, -1.56775367],\n",
              "       ...,\n",
              "       [-0.80742813, -0.91395927, -0.04606385,  0.26970368],\n",
              "       [-0.80742813, -0.73518157, -0.04606385, -0.83244247],\n",
              "       [-0.91267464, -0.82486544,  0.21375537, -0.46560752]])"
            ]
          },
          "metadata": {
            "tags": []
          },
          "execution_count": 42
        }
      ]
    },
    {
      "cell_type": "code",
      "metadata": {
        "id": "wVHJWNQbKt4E",
        "colab": {
          "base_uri": "https://localhost:8080/",
          "height": 419
        },
        "outputId": "01379b47-078a-4aef-f9fe-5b729795bb5c"
      },
      "source": [
        "# 스케일된 결과 데이터를 DataFrame 으로 저장\n",
        "pd.DataFrame(result,\n",
        "             columns = df_bike_num.columns)"
      ],
      "execution_count": 45,
      "outputs": [
        {
          "output_type": "execute_result",
          "data": {
            "text/html": [
              "<div>\n",
              "<style scoped>\n",
              "    .dataframe tbody tr th:only-of-type {\n",
              "        vertical-align: middle;\n",
              "    }\n",
              "\n",
              "    .dataframe tbody tr th {\n",
              "        vertical-align: top;\n",
              "    }\n",
              "\n",
              "    .dataframe thead th {\n",
              "        text-align: right;\n",
              "    }\n",
              "</style>\n",
              "<table border=\"1\" class=\"dataframe\">\n",
              "  <thead>\n",
              "    <tr style=\"text-align: right;\">\n",
              "      <th></th>\n",
              "      <th>temp</th>\n",
              "      <th>atemp</th>\n",
              "      <th>humidity</th>\n",
              "      <th>windspeed</th>\n",
              "    </tr>\n",
              "  </thead>\n",
              "  <tbody>\n",
              "    <tr>\n",
              "      <th>0</th>\n",
              "      <td>-1.333661</td>\n",
              "      <td>-1.092737</td>\n",
              "      <td>0.993213</td>\n",
              "      <td>-1.567754</td>\n",
              "    </tr>\n",
              "    <tr>\n",
              "      <th>1</th>\n",
              "      <td>-1.438907</td>\n",
              "      <td>-1.182421</td>\n",
              "      <td>0.941249</td>\n",
              "      <td>-1.567754</td>\n",
              "    </tr>\n",
              "    <tr>\n",
              "      <th>2</th>\n",
              "      <td>-1.438907</td>\n",
              "      <td>-1.182421</td>\n",
              "      <td>0.941249</td>\n",
              "      <td>-1.567754</td>\n",
              "    </tr>\n",
              "    <tr>\n",
              "      <th>3</th>\n",
              "      <td>-1.333661</td>\n",
              "      <td>-1.092737</td>\n",
              "      <td>0.681430</td>\n",
              "      <td>-1.567754</td>\n",
              "    </tr>\n",
              "    <tr>\n",
              "      <th>4</th>\n",
              "      <td>-1.333661</td>\n",
              "      <td>-1.092737</td>\n",
              "      <td>0.681430</td>\n",
              "      <td>-1.567754</td>\n",
              "    </tr>\n",
              "    <tr>\n",
              "      <th>...</th>\n",
              "      <td>...</td>\n",
              "      <td>...</td>\n",
              "      <td>...</td>\n",
              "      <td>...</td>\n",
              "    </tr>\n",
              "    <tr>\n",
              "      <th>10881</th>\n",
              "      <td>-0.596935</td>\n",
              "      <td>-0.467310</td>\n",
              "      <td>-0.617666</td>\n",
              "      <td>1.617227</td>\n",
              "    </tr>\n",
              "    <tr>\n",
              "      <th>10882</th>\n",
              "      <td>-0.702182</td>\n",
              "      <td>-0.735182</td>\n",
              "      <td>-0.253919</td>\n",
              "      <td>0.269704</td>\n",
              "    </tr>\n",
              "    <tr>\n",
              "      <th>10883</th>\n",
              "      <td>-0.807428</td>\n",
              "      <td>-0.913959</td>\n",
              "      <td>-0.046064</td>\n",
              "      <td>0.269704</td>\n",
              "    </tr>\n",
              "    <tr>\n",
              "      <th>10884</th>\n",
              "      <td>-0.807428</td>\n",
              "      <td>-0.735182</td>\n",
              "      <td>-0.046064</td>\n",
              "      <td>-0.832442</td>\n",
              "    </tr>\n",
              "    <tr>\n",
              "      <th>10885</th>\n",
              "      <td>-0.912675</td>\n",
              "      <td>-0.824865</td>\n",
              "      <td>0.213755</td>\n",
              "      <td>-0.465608</td>\n",
              "    </tr>\n",
              "  </tbody>\n",
              "</table>\n",
              "<p>10886 rows × 4 columns</p>\n",
              "</div>"
            ],
            "text/plain": [
              "           temp     atemp  humidity  windspeed\n",
              "0     -1.333661 -1.092737  0.993213  -1.567754\n",
              "1     -1.438907 -1.182421  0.941249  -1.567754\n",
              "2     -1.438907 -1.182421  0.941249  -1.567754\n",
              "3     -1.333661 -1.092737  0.681430  -1.567754\n",
              "4     -1.333661 -1.092737  0.681430  -1.567754\n",
              "...         ...       ...       ...        ...\n",
              "10881 -0.596935 -0.467310 -0.617666   1.617227\n",
              "10882 -0.702182 -0.735182 -0.253919   0.269704\n",
              "10883 -0.807428 -0.913959 -0.046064   0.269704\n",
              "10884 -0.807428 -0.735182 -0.046064  -0.832442\n",
              "10885 -0.912675 -0.824865  0.213755  -0.465608\n",
              "\n",
              "[10886 rows x 4 columns]"
            ]
          },
          "metadata": {
            "tags": []
          },
          "execution_count": 45
        }
      ]
    },
    {
      "cell_type": "code",
      "metadata": {
        "id": "i_FeTFAsKt4E",
        "colab": {
          "base_uri": "https://localhost:8080/"
        },
        "outputId": "ca2f9113-d118-4883-e667-205df7e51d00"
      },
      "source": [
        "# 각 컬럼별 최대/최소값 출력\n",
        "print('--------- MinMaxScaler ---------')\n",
        "print('Min Value')\n",
        "print(np.round_(scaled_bike.min(),3))\n",
        "print('Max Value')\n",
        "print(np.round_(scaled_bike.max(),3)) "
      ],
      "execution_count": 49,
      "outputs": [
        {
          "output_type": "stream",
          "text": [
            "--------- MinMaxScaler ---------\n",
            "Min Value\n",
            "temp        -2.491\n",
            "atemp       -2.702\n",
            "humidity    -3.216\n",
            "windspeed   -1.568\n",
            "dtype: float64\n",
            "Max Value\n",
            "temp         2.666\n",
            "atemp        2.573\n",
            "humidity     1.981\n",
            "windspeed    5.414\n",
            "dtype: float64\n"
          ],
          "name": "stdout"
        }
      ]
    },
    {
      "cell_type": "code",
      "metadata": {
        "scrolled": true,
        "id": "BdBzLA86Kt4E",
        "colab": {
          "base_uri": "https://localhost:8080/",
          "height": 374
        },
        "outputId": "c371717d-ecfd-4be4-bed7-1278b6303af5"
      },
      "source": [
        "# 박스플롯(boxplot) 으로 시각화\n",
        "plt.figure(figsize=(10,6))\n",
        "scaled_bike.boxplot(column=['temp', 'atemp', 'humidity', 'windspeed'])\n",
        "plt.show()"
      ],
      "execution_count": 50,
      "outputs": [
        {
          "output_type": "display_data",
          "data": {
            "image/png": "[encoded data removed]",
            "text/plain": [
              "<Figure size 720x432 with 1 Axes>"
            ]
          },
          "metadata": {
            "tags": [],
            "needs_background": "light"
          }
        }
      ]
    },
    {
      "cell_type": "code",
      "metadata": {
        "id": "ou7VmHecCayp"
      },
      "source": [
        ""
      ],
      "execution_count": null,
      "outputs": []
    }
  ]
}